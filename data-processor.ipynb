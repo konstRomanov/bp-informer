{
 "cells": [
  {
   "cell_type": "markdown",
   "source": [
    "# Data processing and sentiment analysis\n",
    "This notebook illustrates the pre-processing steps performed on the gathered data, performs sentiment analysis of the news titles and formulates the feature set taken as inputs by the Informer model"
   ],
   "metadata": {
    "collapsed": false,
    "pycharm": {
     "name": "#%% md\n"
    }
   }
  },
  {
   "cell_type": "code",
   "execution_count": 201,
   "outputs": [],
   "source": [
    "import warnings\n",
    "warnings.filterwarnings('ignore')"
   ],
   "metadata": {
    "collapsed": false,
    "pycharm": {
     "name": "#%%\n"
    }
   }
  },
  {
   "cell_type": "code",
   "execution_count": 202,
   "outputs": [],
   "source": [
    "import pandas as pd"
   ],
   "metadata": {
    "collapsed": false,
    "pycharm": {
     "name": "#%%\n"
    }
   }
  },
  {
   "cell_type": "markdown",
   "source": [
    "## The gathered data overview\n",
    "Read and describe the basic information about the datasets\n",
    "The *general_news* dataset contains articles related to the stock market at large\n",
    "The *ticker_news* dataset contains news relevant to a given ticker"
   ],
   "metadata": {
    "collapsed": false,
    "pycharm": {
     "name": "#%% md\n"
    }
   }
  },
  {
   "cell_type": "code",
   "execution_count": 203,
   "outputs": [],
   "source": [
    "general_news = pd.read_json(\"../bp-scrapper-data/news.jsonl\", lines=True)\n",
    "prices = pd.read_json(\"../bp-scrapper-data/price.jsonl\", lines=True)\n",
    "ticker_news = pd.read_json(\"../bp-scrapper-data/ticker_news.jsonl\", lines=True)"
   ],
   "metadata": {
    "collapsed": false,
    "pycharm": {
     "name": "#%%\n"
    }
   }
  },
  {
   "cell_type": "code",
   "execution_count": 204,
   "outputs": [
    {
     "name": "stdout",
     "output_type": "stream",
     "text": [
      "<class 'pandas.core.frame.DataFrame'>\n",
      "RangeIndex: 10638 entries, 0 to 10637\n",
      "Data columns (total 6 columns):\n",
      " #   Column    Non-Null Count  Dtype         \n",
      "---  ------    --------------  -----         \n",
      " 0   url       10638 non-null  object        \n",
      " 1   title     10638 non-null  object        \n",
      " 2   summary   10638 non-null  object        \n",
      " 3   date      10638 non-null  datetime64[ns]\n",
      " 4   category  10638 non-null  object        \n",
      " 5   tickers   10638 non-null  object        \n",
      "dtypes: datetime64[ns](1), object(5)\n",
      "memory usage: 498.8+ KB\n"
     ]
    }
   ],
   "source": [
    "general_news.info()"
   ],
   "metadata": {
    "collapsed": false,
    "pycharm": {
     "name": "#%%\n"
    }
   }
  },
  {
   "cell_type": "code",
   "execution_count": 205,
   "outputs": [
    {
     "name": "stdout",
     "output_type": "stream",
     "text": [
      "<class 'pandas.core.frame.DataFrame'>\n",
      "RangeIndex: 4240 entries, 0 to 4239\n",
      "Data columns (total 3 columns):\n",
      " #   Column  Non-Null Count  Dtype         \n",
      "---  ------  --------------  -----         \n",
      " 0   ticker  4240 non-null   object        \n",
      " 1   price   4240 non-null   float64       \n",
      " 2   date    4240 non-null   datetime64[ns]\n",
      "dtypes: datetime64[ns](1), float64(1), object(1)\n",
      "memory usage: 99.5+ KB\n"
     ]
    }
   ],
   "source": [
    "prices.info()"
   ],
   "metadata": {
    "collapsed": false,
    "pycharm": {
     "name": "#%%\n"
    }
   }
  },
  {
   "cell_type": "code",
   "execution_count": 206,
   "outputs": [
    {
     "name": "stdout",
     "output_type": "stream",
     "text": [
      "<class 'pandas.core.frame.DataFrame'>\n",
      "RangeIndex: 5696 entries, 0 to 5695\n",
      "Data columns (total 6 columns):\n",
      " #   Column    Non-Null Count  Dtype         \n",
      "---  ------    --------------  -----         \n",
      " 0   url       5696 non-null   object        \n",
      " 1   title     5696 non-null   object        \n",
      " 2   summary   5696 non-null   object        \n",
      " 3   date      5696 non-null   datetime64[ns]\n",
      " 4   category  0 non-null      float64       \n",
      " 5   tickers   5696 non-null   object        \n",
      "dtypes: datetime64[ns](1), float64(1), object(4)\n",
      "memory usage: 267.1+ KB\n"
     ]
    }
   ],
   "source": [
    "ticker_news.info()"
   ],
   "metadata": {
    "collapsed": false,
    "pycharm": {
     "name": "#%%\n"
    }
   }
  },
  {
   "cell_type": "code",
   "execution_count": 207,
   "outputs": [
    {
     "data": {
      "text/plain": "array(['META', 'AAPL', 'GOOGL', 'NFLX', 'AMZN', '^GSPC'], dtype=object)"
     },
     "execution_count": 207,
     "metadata": {},
     "output_type": "execute_result"
    }
   ],
   "source": [
    "tickers = prices.ticker.unique()\n",
    "tickers"
   ],
   "metadata": {
    "collapsed": false,
    "pycharm": {
     "name": "#%%\n"
    }
   }
  },
  {
   "cell_type": "markdown",
   "source": [
    "## Initial text preprocessing\n",
    "Remove *Yahoo!Finance* special terms from the news titles"
   ],
   "metadata": {
    "collapsed": false,
    "pycharm": {
     "name": "#%% md\n"
    }
   }
  },
  {
   "cell_type": "code",
   "execution_count": 208,
   "outputs": [],
   "source": [
    "def remove_terms(row):\n",
    "    i = row.title.find('-')\n",
    "    if i != -1 and i < 30 and (row.title[i + 1].isupper() or row.title[i + 1].isnumeric()):\n",
    "        row.title = row.title.split('-', 1)[1]\n",
    "    return row\n",
    "\n",
    "def df_remove_terms(df):\n",
    "    return df.apply(lambda row: remove_terms(row), axis=1)"
   ],
   "metadata": {
    "collapsed": false,
    "pycharm": {
     "name": "#%%\n"
    }
   }
  },
  {
   "cell_type": "markdown",
   "source": [
    "Drop duplicates [url, titles]"
   ],
   "metadata": {
    "collapsed": false,
    "pycharm": {
     "name": "#%% md\n"
    }
   }
  },
  {
   "cell_type": "code",
   "execution_count": 209,
   "outputs": [],
   "source": [
    "def df_drop_duplicates(df, columns):\n",
    "    return df.drop_duplicates(columns)"
   ],
   "metadata": {
    "collapsed": false,
    "pycharm": {
     "name": "#%%\n"
    }
   }
  },
  {
   "cell_type": "markdown",
   "source": [
    "Drop news unrelated to relevant tickers"
   ],
   "metadata": {
    "collapsed": false,
    "pycharm": {
     "name": "#%% md\n"
    }
   }
  },
  {
   "cell_type": "code",
   "execution_count": 210,
   "outputs": [],
   "source": [
    "def has_relevant_tickers(news_tickers):\n",
    "    return len(set(news_tickers)) == 0 or len(set(news_tickers).intersection(set(tickers))) != 0\n",
    "\n",
    "def df_drop_irrelevant_tickers(df):\n",
    "    return df[df.apply(lambda row: has_relevant_tickers(row.tickers), axis=1)]"
   ],
   "metadata": {
    "collapsed": false,
    "pycharm": {
     "name": "#%%\n"
    }
   }
  },
  {
   "cell_type": "markdown",
   "source": [
    "Drop titles containing less than 30 symbols"
   ],
   "metadata": {
    "collapsed": false,
    "pycharm": {
     "name": "#%% md\n"
    }
   }
  },
  {
   "cell_type": "code",
   "execution_count": 211,
   "outputs": [],
   "source": [
    "def df_drop_short_titles(df):\n",
    "    return df[df.apply(lambda row: len(row.title) >= 30, axis=1)]"
   ],
   "metadata": {
    "collapsed": false,
    "pycharm": {
     "name": "#%%\n"
    }
   }
  },
  {
   "cell_type": "markdown",
   "source": [
    "Remove titles from *general_news* that are already included in *ticker_news* dataset"
   ],
   "metadata": {
    "collapsed": false,
    "pycharm": {
     "name": "#%% md\n"
    }
   }
  },
  {
   "cell_type": "code",
   "execution_count": 212,
   "outputs": [],
   "source": [
    "def df_remove_titles(df):\n",
    "    return df[~df.title.isin(ticker_news.title.values.tolist())]"
   ],
   "metadata": {
    "collapsed": false,
    "pycharm": {
     "name": "#%%\n"
    }
   }
  },
  {
   "cell_type": "markdown",
   "source": [
    "### Perform pre-processing steps\n",
    "Use the preprocessing steps introduced above on *general_news* and *ticker_news* datasets"
   ],
   "metadata": {
    "collapsed": false,
    "pycharm": {
     "name": "#%% md\n"
    }
   }
  },
  {
   "cell_type": "code",
   "execution_count": 213,
   "outputs": [
    {
     "name": "stdout",
     "output_type": "stream",
     "text": [
      "news: 10638 -> 5197\n"
     ]
    }
   ],
   "source": [
    "news_len = len(general_news)\n",
    "\n",
    "general_news = df_remove_terms(general_news)\n",
    "general_news = df_drop_duplicates(general_news, ['url'])\n",
    "general_news = df_drop_duplicates(general_news, ['title'])\n",
    "general_news = df_drop_short_titles(general_news)\n",
    "general_news = df_drop_irrelevant_tickers(general_news)\n",
    "general_news = df_remove_titles(general_news)\n",
    "\n",
    "print(f'news: {news_len} -> {len(general_news)}')"
   ],
   "metadata": {
    "collapsed": false,
    "pycharm": {
     "name": "#%%\n"
    }
   }
  },
  {
   "cell_type": "code",
   "execution_count": 214,
   "outputs": [
    {
     "name": "stdout",
     "output_type": "stream",
     "text": [
      "ticker_news: 5696 -> 4093\n"
     ]
    }
   ],
   "source": [
    "ticker_news_len = len(ticker_news)\n",
    "\n",
    "ticker_news = df_remove_terms(ticker_news)\n",
    "ticker_news = df_drop_duplicates(ticker_news, ['url'])\n",
    "ticker_news = df_drop_duplicates(ticker_news, ['title'])\n",
    "ticker_news = df_drop_short_titles(ticker_news)\n",
    "ticker_news = df_drop_irrelevant_tickers(ticker_news)\n",
    "\n",
    "print(f'ticker_news: {ticker_news_len} -> {len(ticker_news)}')"
   ],
   "metadata": {
    "collapsed": false,
    "pycharm": {
     "name": "#%%\n"
    }
   }
  },
  {
   "cell_type": "markdown",
   "source": [
    "## Sentiment Classification Pipeline\n",
    "Prepare the text classification pipeline used to assign news articles respective sentiment scores\n",
    "The pipeline uses **WordPiece** tokenization and **FinBert** text classification model"
   ],
   "metadata": {
    "collapsed": false,
    "pycharm": {
     "name": "#%% md\n"
    }
   }
  },
  {
   "cell_type": "code",
   "execution_count": 215,
   "outputs": [],
   "source": [
    "from transformers import AutoModelForSequenceClassification, AutoTokenizer, AutoConfig, TextClassificationPipeline"
   ],
   "metadata": {
    "collapsed": false,
    "pycharm": {
     "name": "#%%\n"
    }
   }
  },
  {
   "cell_type": "code",
   "execution_count": 216,
   "outputs": [],
   "source": [
    "model_name = \"ProsusAI/finbert\"\n",
    "labels = ['negative', 'neutral', 'positive']"
   ],
   "metadata": {
    "collapsed": false,
    "pycharm": {
     "name": "#%%\n"
    }
   }
  },
  {
   "cell_type": "code",
   "execution_count": 217,
   "outputs": [],
   "source": [
    "tokenizer = AutoTokenizer.from_pretrained(model_name)"
   ],
   "metadata": {
    "collapsed": false,
    "pycharm": {
     "name": "#%%\n"
    }
   }
  },
  {
   "cell_type": "code",
   "execution_count": 218,
   "outputs": [],
   "source": [
    "config = AutoConfig.from_pretrained(model_name, num_labels=len(labels))\n",
    "model = AutoModelForSequenceClassification.from_pretrained(model_name, config=config).to('cuda')"
   ],
   "metadata": {
    "collapsed": false,
    "pycharm": {
     "name": "#%%\n"
    }
   }
  },
  {
   "cell_type": "code",
   "execution_count": 219,
   "outputs": [],
   "source": [
    "pipe = TextClassificationPipeline(model=model, tokenizer=tokenizer, device=0)"
   ],
   "metadata": {
    "collapsed": false,
    "pycharm": {
     "name": "#%%\n"
    }
   }
  },
  {
   "cell_type": "markdown",
   "source": [
    "## Sentiment scores\n",
    "The text classification pipeline assigns each title a sentiment score: the probability of it expressing a *negative*, *neutral* or *positive* market sentiment."
   ],
   "metadata": {
    "collapsed": false,
    "pycharm": {
     "name": "#%% md\n"
    }
   }
  },
  {
   "cell_type": "code",
   "execution_count": 220,
   "outputs": [],
   "source": [
    "def sentiment_score(row, col='title'):\n",
    "    scores = pipe(row[col], top_k=len(labels))\n",
    "    score_dict = {score['label']: score['score'] for score in scores}\n",
    "    row[f'{col}_label'] = scores[0]['label']\n",
    "    row.negative, row.neutral, row.positive = score_dict['negative'], score_dict['neutral'], score_dict['positive']\n",
    "    return row\n",
    "\n",
    "def df_sentiment_score(df, col='title'):\n",
    "    df[f'{col}_label'] = None\n",
    "    df['negative'] = df['neutral'] = df['positive'] = 0\n",
    "    return df.apply(lambda row: sentiment_score(row, col), axis=1)"
   ],
   "metadata": {
    "collapsed": false,
    "pycharm": {
     "name": "#%%\n"
    }
   }
  },
  {
   "cell_type": "markdown",
   "source": [
    "Assign sentiment scores to *general_news* and *ticker_news* article titles\n",
    "Save labels for article titles and summary for comparison"
   ],
   "metadata": {
    "collapsed": false,
    "pycharm": {
     "name": "#%% md\n"
    }
   }
  },
  {
   "cell_type": "code",
   "execution_count": 221,
   "outputs": [
    {
     "data": {
      "text/plain": "                                                 url  \\\n0  https://finance.yahoo.com/news/1-u-n-mulls-sen...   \n1  https://finance.yahoo.com/news/britain-denies-...   \n4  https://finance.yahoo.com/news/ukraine-questio...   \n6  https://finance.yahoo.com/news/ukraine-latest-...   \n7  https://finance.yahoo.com/news/strong-dollar-s...   \n\n                                               title  \\\n0  As U.N. mulls sending troops to Haiti, a gang'...   \n1  Britain denies Russian claims that its navy pe...   \n4  Ukraine questions Twitter takeover amid precar...   \n6  Ukraine Latest: Russia Says UK Involved in Nav...   \n7  Strong Dollar Seen Hurting US Outlook and Even...   \n\n                                             summary                date  \\\n0  As Haiti's gang-induced humanitarian crisis de... 2022-10-29 12:43:23   \n1  Britain on Saturday denied Russian claims that... 2022-10-29 12:47:11   \n4  A senior Ukrainian official expressed sceptici... 2022-10-29 14:21:07   \n6  (Bloomberg) -- Most Read from BloombergTesla E... 2022-10-29 14:32:04   \n7  (Bloomberg) -- A strong dollar is likely to we... 2022-10-29 13:15:00   \n\n   category tickers title_label  negative   neutral  positive  \n0     World      []    negative  0.598501  0.334350  0.067149  \n1     World      []    negative  0.865720  0.098223  0.036057  \n4     World      []    negative  0.946472  0.038674  0.014854  \n6     World      []     neutral  0.132021  0.829115  0.038864  \n7  Business      []    negative  0.925865  0.037888  0.036247  ",
      "text/html": "<div>\n<style scoped>\n    .dataframe tbody tr th:only-of-type {\n        vertical-align: middle;\n    }\n\n    .dataframe tbody tr th {\n        vertical-align: top;\n    }\n\n    .dataframe thead th {\n        text-align: right;\n    }\n</style>\n<table border=\"1\" class=\"dataframe\">\n  <thead>\n    <tr style=\"text-align: right;\">\n      <th></th>\n      <th>url</th>\n      <th>title</th>\n      <th>summary</th>\n      <th>date</th>\n      <th>category</th>\n      <th>tickers</th>\n      <th>title_label</th>\n      <th>negative</th>\n      <th>neutral</th>\n      <th>positive</th>\n    </tr>\n  </thead>\n  <tbody>\n    <tr>\n      <th>0</th>\n      <td>https://finance.yahoo.com/news/1-u-n-mulls-sen...</td>\n      <td>As U.N. mulls sending troops to Haiti, a gang'...</td>\n      <td>As Haiti's gang-induced humanitarian crisis de...</td>\n      <td>2022-10-29 12:43:23</td>\n      <td>World</td>\n      <td>[]</td>\n      <td>negative</td>\n      <td>0.598501</td>\n      <td>0.334350</td>\n      <td>0.067149</td>\n    </tr>\n    <tr>\n      <th>1</th>\n      <td>https://finance.yahoo.com/news/britain-denies-...</td>\n      <td>Britain denies Russian claims that its navy pe...</td>\n      <td>Britain on Saturday denied Russian claims that...</td>\n      <td>2022-10-29 12:47:11</td>\n      <td>World</td>\n      <td>[]</td>\n      <td>negative</td>\n      <td>0.865720</td>\n      <td>0.098223</td>\n      <td>0.036057</td>\n    </tr>\n    <tr>\n      <th>4</th>\n      <td>https://finance.yahoo.com/news/ukraine-questio...</td>\n      <td>Ukraine questions Twitter takeover amid precar...</td>\n      <td>A senior Ukrainian official expressed sceptici...</td>\n      <td>2022-10-29 14:21:07</td>\n      <td>World</td>\n      <td>[]</td>\n      <td>negative</td>\n      <td>0.946472</td>\n      <td>0.038674</td>\n      <td>0.014854</td>\n    </tr>\n    <tr>\n      <th>6</th>\n      <td>https://finance.yahoo.com/news/ukraine-latest-...</td>\n      <td>Ukraine Latest: Russia Says UK Involved in Nav...</td>\n      <td>(Bloomberg) -- Most Read from BloombergTesla E...</td>\n      <td>2022-10-29 14:32:04</td>\n      <td>World</td>\n      <td>[]</td>\n      <td>neutral</td>\n      <td>0.132021</td>\n      <td>0.829115</td>\n      <td>0.038864</td>\n    </tr>\n    <tr>\n      <th>7</th>\n      <td>https://finance.yahoo.com/news/strong-dollar-s...</td>\n      <td>Strong Dollar Seen Hurting US Outlook and Even...</td>\n      <td>(Bloomberg) -- A strong dollar is likely to we...</td>\n      <td>2022-10-29 13:15:00</td>\n      <td>Business</td>\n      <td>[]</td>\n      <td>negative</td>\n      <td>0.925865</td>\n      <td>0.037888</td>\n      <td>0.036247</td>\n    </tr>\n  </tbody>\n</table>\n</div>"
     },
     "execution_count": 221,
     "metadata": {},
     "output_type": "execute_result"
    }
   ],
   "source": [
    "general_news = df_sentiment_score(general_news, 'title')\n",
    "general_news.head()"
   ],
   "metadata": {
    "collapsed": false,
    "pycharm": {
     "name": "#%%\n"
    }
   }
  },
  {
   "cell_type": "code",
   "execution_count": 222,
   "outputs": [
    {
     "data": {
      "text/plain": "                                                 url  \\\n0  https://www.barrons.com/articles/bitcoin-digit...   \n2  https://finance.yahoo.com/news/making-sense-bi...   \n4  https://www.bizjournals.com/denver/news/2022/1...   \n5  https://www.thestreet.com/technology/amazon-lo...   \n6  https://www.investors.com/market-trend/stock-m...   \n\n                                               title  \\\n0  Digital Dollars Could Be a Boon for Amazon, Al...   \n2  Making Sense of Big Tech Earnings After Amazon...   \n4  ULA, partners start expansions to ahead of Pro...   \n5         Amazon Briefly Leaves the $1 Trillion Club   \n6  Dow Jones Futures: Market Rally Revs Higher, T...   \n\n                                             summary                date  \\\n0  Companies like Amazon.com, Alphabet, and Accen... 2022-10-29 12:27:00   \n2  The earnings bombshells from Amazon and Meta a... 2022-10-28 22:44:10   \n4  Colorado aerospace company United Launch Allia... 2022-10-28 20:57:12   \n5  The e-commerce giant falls after delivering di... 2022-10-28 20:47:00   \n6  The stock market rally faced hurdles but revve... 2022-10-29 12:10:31   \n\n   category tickers title_label  negative   neutral  positive  \n0       NaN  [AMZN]     neutral  0.064423  0.681635  0.253942  \n2       NaN  [AMZN]     neutral  0.016832  0.815436  0.167732  \n4       NaN  [AMZN]    positive  0.010957  0.334704  0.654339  \n5       NaN  [AMZN]     neutral  0.337673  0.627862  0.034464  \n6       NaN  [META]     neutral  0.066571  0.724576  0.208853  ",
      "text/html": "<div>\n<style scoped>\n    .dataframe tbody tr th:only-of-type {\n        vertical-align: middle;\n    }\n\n    .dataframe tbody tr th {\n        vertical-align: top;\n    }\n\n    .dataframe thead th {\n        text-align: right;\n    }\n</style>\n<table border=\"1\" class=\"dataframe\">\n  <thead>\n    <tr style=\"text-align: right;\">\n      <th></th>\n      <th>url</th>\n      <th>title</th>\n      <th>summary</th>\n      <th>date</th>\n      <th>category</th>\n      <th>tickers</th>\n      <th>title_label</th>\n      <th>negative</th>\n      <th>neutral</th>\n      <th>positive</th>\n    </tr>\n  </thead>\n  <tbody>\n    <tr>\n      <th>0</th>\n      <td>https://www.barrons.com/articles/bitcoin-digit...</td>\n      <td>Digital Dollars Could Be a Boon for Amazon, Al...</td>\n      <td>Companies like Amazon.com, Alphabet, and Accen...</td>\n      <td>2022-10-29 12:27:00</td>\n      <td>NaN</td>\n      <td>[AMZN]</td>\n      <td>neutral</td>\n      <td>0.064423</td>\n      <td>0.681635</td>\n      <td>0.253942</td>\n    </tr>\n    <tr>\n      <th>2</th>\n      <td>https://finance.yahoo.com/news/making-sense-bi...</td>\n      <td>Making Sense of Big Tech Earnings After Amazon...</td>\n      <td>The earnings bombshells from Amazon and Meta a...</td>\n      <td>2022-10-28 22:44:10</td>\n      <td>NaN</td>\n      <td>[AMZN]</td>\n      <td>neutral</td>\n      <td>0.016832</td>\n      <td>0.815436</td>\n      <td>0.167732</td>\n    </tr>\n    <tr>\n      <th>4</th>\n      <td>https://www.bizjournals.com/denver/news/2022/1...</td>\n      <td>ULA, partners start expansions to ahead of Pro...</td>\n      <td>Colorado aerospace company United Launch Allia...</td>\n      <td>2022-10-28 20:57:12</td>\n      <td>NaN</td>\n      <td>[AMZN]</td>\n      <td>positive</td>\n      <td>0.010957</td>\n      <td>0.334704</td>\n      <td>0.654339</td>\n    </tr>\n    <tr>\n      <th>5</th>\n      <td>https://www.thestreet.com/technology/amazon-lo...</td>\n      <td>Amazon Briefly Leaves the $1 Trillion Club</td>\n      <td>The e-commerce giant falls after delivering di...</td>\n      <td>2022-10-28 20:47:00</td>\n      <td>NaN</td>\n      <td>[AMZN]</td>\n      <td>neutral</td>\n      <td>0.337673</td>\n      <td>0.627862</td>\n      <td>0.034464</td>\n    </tr>\n    <tr>\n      <th>6</th>\n      <td>https://www.investors.com/market-trend/stock-m...</td>\n      <td>Dow Jones Futures: Market Rally Revs Higher, T...</td>\n      <td>The stock market rally faced hurdles but revve...</td>\n      <td>2022-10-29 12:10:31</td>\n      <td>NaN</td>\n      <td>[META]</td>\n      <td>neutral</td>\n      <td>0.066571</td>\n      <td>0.724576</td>\n      <td>0.208853</td>\n    </tr>\n  </tbody>\n</table>\n</div>"
     },
     "execution_count": 222,
     "metadata": {},
     "output_type": "execute_result"
    }
   ],
   "source": [
    "ticker_news = df_sentiment_score(ticker_news, 'title')\n",
    "ticker_news.head()"
   ],
   "metadata": {
    "collapsed": false,
    "pycharm": {
     "name": "#%%\n"
    }
   }
  },
  {
   "cell_type": "markdown",
   "source": [
    "### Sentiment score analysis\n",
    "Analyse *general_news* and *ticker_news* datasets sentiment classes distribution"
   ],
   "metadata": {
    "collapsed": false,
    "pycharm": {
     "name": "#%% md\n"
    }
   }
  },
  {
   "cell_type": "code",
   "execution_count": 223,
   "outputs": [],
   "source": [
    "from collections import Counter"
   ],
   "metadata": {
    "collapsed": false,
    "pycharm": {
     "name": "#%%\n"
    }
   }
  },
  {
   "cell_type": "code",
   "execution_count": 224,
   "outputs": [
    {
     "data": {
      "text/plain": "Counter({'negative': 2041, 'neutral': 1926, 'positive': 1230})"
     },
     "execution_count": 224,
     "metadata": {},
     "output_type": "execute_result"
    }
   ],
   "source": [
    "Counter(general_news.title_label)"
   ],
   "metadata": {
    "collapsed": false,
    "pycharm": {
     "name": "#%%\n"
    }
   }
  },
  {
   "cell_type": "code",
   "execution_count": 225,
   "outputs": [
    {
     "data": {
      "text/plain": "Counter({'neutral': 1908, 'positive': 681, 'negative': 1504})"
     },
     "execution_count": 225,
     "metadata": {},
     "output_type": "execute_result"
    }
   ],
   "source": [
    "Counter(ticker_news.title_label)"
   ],
   "metadata": {
    "collapsed": false,
    "pycharm": {
     "name": "#%%\n"
    }
   }
  },
  {
   "cell_type": "markdown",
   "source": [
    "## Ticker prices pre-processing\n",
    "All the operations on the *prices* dataset are performed per ticker\n",
    "The ticker prices were generally scrapped with 15 min intervals\n",
    "To ease the processing of the timestamps they are standardized (rounded up to the nearest quarter), redundant timestamps are removed"
   ],
   "metadata": {
    "collapsed": false,
    "pycharm": {
     "name": "#%% md\n"
    }
   }
  },
  {
   "cell_type": "code",
   "execution_count": 226,
   "outputs": [
    {
     "data": {
      "text/plain": "  ticker   price                date\n0   META   99.20 2022-10-28 20:00:04\n1   AAPL  155.74 2022-10-28 20:00:04\n2  GOOGL   96.29 2022-10-28 20:00:04\n3   NFLX  295.72 2022-10-28 20:00:04\n4   AMZN  103.41 2022-10-28 20:00:04",
      "text/html": "<div>\n<style scoped>\n    .dataframe tbody tr th:only-of-type {\n        vertical-align: middle;\n    }\n\n    .dataframe tbody tr th {\n        vertical-align: top;\n    }\n\n    .dataframe thead th {\n        text-align: right;\n    }\n</style>\n<table border=\"1\" class=\"dataframe\">\n  <thead>\n    <tr style=\"text-align: right;\">\n      <th></th>\n      <th>ticker</th>\n      <th>price</th>\n      <th>date</th>\n    </tr>\n  </thead>\n  <tbody>\n    <tr>\n      <th>0</th>\n      <td>META</td>\n      <td>99.20</td>\n      <td>2022-10-28 20:00:04</td>\n    </tr>\n    <tr>\n      <th>1</th>\n      <td>AAPL</td>\n      <td>155.74</td>\n      <td>2022-10-28 20:00:04</td>\n    </tr>\n    <tr>\n      <th>2</th>\n      <td>GOOGL</td>\n      <td>96.29</td>\n      <td>2022-10-28 20:00:04</td>\n    </tr>\n    <tr>\n      <th>3</th>\n      <td>NFLX</td>\n      <td>295.72</td>\n      <td>2022-10-28 20:00:04</td>\n    </tr>\n    <tr>\n      <th>4</th>\n      <td>AMZN</td>\n      <td>103.41</td>\n      <td>2022-10-28 20:00:04</td>\n    </tr>\n  </tbody>\n</table>\n</div>"
     },
     "execution_count": 226,
     "metadata": {},
     "output_type": "execute_result"
    }
   ],
   "source": [
    "prices.head()"
   ],
   "metadata": {
    "collapsed": false,
    "pycharm": {
     "name": "#%%\n"
    }
   }
  },
  {
   "cell_type": "code",
   "execution_count": 227,
   "outputs": [],
   "source": [
    "def round_dt(df, row, delta='15min'):\n",
    "    dt_floor, dt_ceil = row.date.floor(delta), row.date.ceil(delta)\n",
    "    row.date = dt_ceil if dt_floor in df.date.tolist() else dt_floor\n",
    "    return row\n",
    "\n",
    "def df_round_dt(df, delta='15min'):\n",
    "    return df.apply(lambda row: round_dt(df, row, delta), axis=1)"
   ],
   "metadata": {
    "collapsed": false,
    "pycharm": {
     "name": "#%%\n"
    }
   }
  },
  {
   "cell_type": "markdown",
   "source": [
    "Add an hour to timestamps before Sunday, November 6 to account for the US daylight saving time"
   ],
   "metadata": {
    "collapsed": false,
    "pycharm": {
     "name": "#%% md\n"
    }
   }
  },
  {
   "cell_type": "code",
   "execution_count": 228,
   "outputs": [],
   "source": [
    "def account_dst(row):\n",
    "    if row.date < pd.Timestamp('2022-11-06'):\n",
    "        row.date += pd.DateOffset(hours=1)\n",
    "    return row\n",
    "\n",
    "def df_account_dst(df):\n",
    "    return df.apply(lambda row: account_dst(row), axis=1)"
   ],
   "metadata": {
    "collapsed": false,
    "pycharm": {
     "name": "#%%\n"
    }
   }
  },
  {
   "cell_type": "markdown",
   "source": [],
   "metadata": {
    "collapsed": false,
    "pycharm": {
     "name": "#%% md\n"
    }
   }
  },
  {
   "cell_type": "code",
   "execution_count": 229,
   "outputs": [
    {
     "name": "stdout",
     "output_type": "stream",
     "text": [
      "META_prices:\t693 -> 677\n",
      "AAPL_prices:\t697 -> 682\n",
      "GOOGL_prices:\t705 -> 684\n",
      "NFLX_prices:\t695 -> 681\n",
      "AMZN_prices:\t700 -> 686\n",
      "^GSPC_prices:\t750 -> 724\n"
     ]
    }
   ],
   "source": [
    "ticker_dfs = {}\n",
    "\n",
    "for ticker in tickers:\n",
    "    ticker_df = prices[prices.ticker == ticker]\n",
    "    df_len = len(ticker_df)\n",
    "\n",
    "    ticker_df = df_round_dt(ticker_df)\n",
    "    ticker_df = df_account_dst(ticker_df)\n",
    "    ticker_df = df_drop_duplicates(ticker_df, 'date')\n",
    "\n",
    "    ticker_dfs[ticker] = ticker_df\n",
    "    print(f'{ticker}_prices:\\t{df_len} -> {len(ticker_df)}')"
   ],
   "metadata": {
    "collapsed": false,
    "pycharm": {
     "name": "#%%\n"
    }
   }
  },
  {
   "cell_type": "markdown",
   "source": [
    "## Technical indicators\n",
    "Add intraday *returns* and *moving overage* indicators with periods in [10, 30, 60]"
   ],
   "metadata": {
    "collapsed": false,
    "pycharm": {
     "name": "#%% md\n"
    }
   }
  },
  {
   "cell_type": "code",
   "execution_count": 230,
   "outputs": [],
   "source": [
    "def df_returns(df):\n",
    "    df['return'] = df.price - df.price.shift(1)\n",
    "    return df"
   ],
   "metadata": {
    "collapsed": false,
    "pycharm": {
     "name": "#%%\n"
    }
   }
  },
  {
   "cell_type": "code",
   "execution_count": 231,
   "outputs": [],
   "source": [
    "def df_ma(df, period):\n",
    "    df[f'ma_{period}'] = df.price.rolling(period).mean()\n",
    "    return df"
   ],
   "metadata": {
    "collapsed": false,
    "pycharm": {
     "name": "#%%\n"
    }
   }
  },
  {
   "cell_type": "code",
   "execution_count": 232,
   "outputs": [],
   "source": [
    "for ticker, ticker_df in ticker_dfs.items():\n",
    "    ticker_df = df_returns(ticker_df)\n",
    "    ticker_df = df_ma(ticker_df, 10)\n",
    "    ticker_df = df_ma(ticker_df, 30)\n",
    "    ticker_df = df_ma(ticker_df, 60)"
   ],
   "metadata": {
    "collapsed": false,
    "pycharm": {
     "name": "#%%\n"
    }
   }
  },
  {
   "cell_type": "code",
   "execution_count": 233,
   "outputs": [
    {
     "data": {
      "text/plain": "     ticker   price                date  return     ma_10      ma_30  \\\n4213  GOOGL  95.090 2022-12-07 17:15:00  -0.275  95.48912  96.504787   \n4218  GOOGL  95.085 2022-12-07 17:30:00  -0.005  95.41362  96.440620   \n4227  GOOGL  95.450 2022-12-07 17:45:00   0.365  95.41862  96.382120   \n4233  GOOGL  95.562 2022-12-07 18:00:00   0.112  95.45682  96.326520   \n4239  GOOGL  95.820 2022-12-07 18:15:00   0.258  95.44488  96.268853   \n\n          ma_60  \n4213  97.955903  \n4218  97.858820  \n4227  97.763153  \n4233  97.675520  \n4239  97.602520  ",
      "text/html": "<div>\n<style scoped>\n    .dataframe tbody tr th:only-of-type {\n        vertical-align: middle;\n    }\n\n    .dataframe tbody tr th {\n        vertical-align: top;\n    }\n\n    .dataframe thead th {\n        text-align: right;\n    }\n</style>\n<table border=\"1\" class=\"dataframe\">\n  <thead>\n    <tr style=\"text-align: right;\">\n      <th></th>\n      <th>ticker</th>\n      <th>price</th>\n      <th>date</th>\n      <th>return</th>\n      <th>ma_10</th>\n      <th>ma_30</th>\n      <th>ma_60</th>\n    </tr>\n  </thead>\n  <tbody>\n    <tr>\n      <th>4213</th>\n      <td>GOOGL</td>\n      <td>95.090</td>\n      <td>2022-12-07 17:15:00</td>\n      <td>-0.275</td>\n      <td>95.48912</td>\n      <td>96.504787</td>\n      <td>97.955903</td>\n    </tr>\n    <tr>\n      <th>4218</th>\n      <td>GOOGL</td>\n      <td>95.085</td>\n      <td>2022-12-07 17:30:00</td>\n      <td>-0.005</td>\n      <td>95.41362</td>\n      <td>96.440620</td>\n      <td>97.858820</td>\n    </tr>\n    <tr>\n      <th>4227</th>\n      <td>GOOGL</td>\n      <td>95.450</td>\n      <td>2022-12-07 17:45:00</td>\n      <td>0.365</td>\n      <td>95.41862</td>\n      <td>96.382120</td>\n      <td>97.763153</td>\n    </tr>\n    <tr>\n      <th>4233</th>\n      <td>GOOGL</td>\n      <td>95.562</td>\n      <td>2022-12-07 18:00:00</td>\n      <td>0.112</td>\n      <td>95.45682</td>\n      <td>96.326520</td>\n      <td>97.675520</td>\n    </tr>\n    <tr>\n      <th>4239</th>\n      <td>GOOGL</td>\n      <td>95.820</td>\n      <td>2022-12-07 18:15:00</td>\n      <td>0.258</td>\n      <td>95.44488</td>\n      <td>96.268853</td>\n      <td>97.602520</td>\n    </tr>\n  </tbody>\n</table>\n</div>"
     },
     "execution_count": 233,
     "metadata": {},
     "output_type": "execute_result"
    }
   ],
   "source": [
    "ticker_dfs['GOOGL'].tail()"
   ],
   "metadata": {
    "collapsed": false,
    "pycharm": {
     "name": "#%%\n"
    }
   }
  },
  {
   "cell_type": "markdown",
   "source": [
    "Analyse the percentage of negative returns for each ticker"
   ],
   "metadata": {
    "collapsed": false,
    "pycharm": {
     "name": "#%% md\n"
    }
   }
  },
  {
   "cell_type": "code",
   "execution_count": 234,
   "outputs": [
    {
     "name": "stdout",
     "output_type": "stream",
     "text": [
      "Negative returns share META:\t49%\n",
      "Negative returns share AAPL:\t48%\n",
      "Negative returns share GOOGL:\t49%\n",
      "Negative returns share NFLX:\t49%\n",
      "Negative returns share AMZN:\t54%\n",
      "Negative returns share ^GSPC:\t47%\n"
     ]
    }
   ],
   "source": [
    "for ticker, ticker_df in ticker_dfs.items():\n",
    "    print(f'Negative returns share {ticker}:\\t{round(len(ticker_df[ticker_df[\"return\"] < 0]) / len(ticker_df) * 100)}%')"
   ],
   "metadata": {
    "collapsed": false,
    "pycharm": {
     "name": "#%%\n"
    }
   }
  },
  {
   "cell_type": "markdown",
   "source": [
    "## Fundamental indicators: sentiment values\n",
    "Add sentiment value for each data point in *prices* dataset. Sentiment value is calculated as a sum of sentiment scores of individual news articles with date of issue in (previous timestamp, current timestamp). General news are considered to have the same impact on all tickers, while ticker specific news are computed individually."
   ],
   "metadata": {
    "collapsed": false,
    "pycharm": {
     "name": "#%% md\n"
    }
   }
  },
  {
   "cell_type": "code",
   "execution_count": 235,
   "outputs": [],
   "source": [
    "def compute_sent_value(df, dt1, dt2, prefix='general', mode='sum'):\n",
    "    if mode == 'sum':\n",
    "        return df[(df.date >= dt1) & (df.date <= dt2)][labels].sum().fillna(0).rename(lambda c: f'{prefix}_{c}_{mode}').to_frame().T\n",
    "    else:\n",
    "        return df[(df.date >= dt1) & (df.date <= dt2)][labels].mean().fillna(0).rename(lambda c: f'{prefix}_{c}_{mode}').to_frame().T\n",
    "\n",
    "def df_compute_sent_value(df, df_sentiment, prefix='general', mode='sum'):\n",
    "    sentiment_values = pd.concat([compute_sent_value(df_sentiment, dt1, dt2, prefix, mode) for dt1, dt2 in zip(list(df.date), list(df.shift(-1).date))])\n",
    "    return pd.concat([df.reset_index(drop=True), sentiment_values.reset_index(drop=True)], axis=1)"
   ],
   "metadata": {
    "collapsed": false,
    "pycharm": {
     "name": "#%%\n"
    }
   }
  },
  {
   "cell_type": "markdown",
   "source": [
    "Add sentiment value for each data point in *prices* dataset. Sentiment value is calculated as a count of individual negative, neutral and positive news articles with date of issue in (previous timestamp, current timestamp). General news are considered to have the same impact on all tickers, while ticker specific news are computed individually."
   ],
   "metadata": {
    "collapsed": false,
    "pycharm": {
     "name": "#%% md\n"
    }
   }
  },
  {
   "cell_type": "code",
   "execution_count": 236,
   "outputs": [],
   "source": [
    "def compute_sent_value_count(df, dt1, dt2, prefix='general'):\n",
    "    return df[(df.date >= dt1) & (df.date <= dt2)][[f'{l}_count' for l in labels]].sum().fillna(0).rename(lambda c: f'{prefix}_{c}').to_frame().T\n",
    "\n",
    "def df_compute_sent_value_count(df, df_sentiment, prefix='general'):\n",
    "    df_sentiment_new = pd.concat([df_sentiment, pd.get_dummies(df_sentiment.title_label).rename(lambda c: f'{c}_count', axis=1)], axis=1)\n",
    "    sentiment_values = pd.concat([compute_sent_value_count(df_sentiment_new, dt1, dt2, prefix) for dt1, dt2 in zip(list(df.date), list(df.shift(-1).date))])\n",
    "    return pd.concat([df.reset_index(drop=True), sentiment_values.reset_index(drop=True)], axis=1)"
   ],
   "metadata": {
    "collapsed": false,
    "pycharm": {
     "name": "#%%\n"
    }
   }
  },
  {
   "cell_type": "markdown",
   "source": [
    "Add sentiment value for each data point in prices dataset. Sentiment value is calculated as a mean of general news mean sentiment and company specific mean sentiment"
   ],
   "metadata": {
    "collapsed": false,
    "pycharm": {
     "name": "#%% md\n"
    }
   }
  },
  {
   "cell_type": "code",
   "execution_count": 237,
   "outputs": [],
   "source": [
    "def compute_gen_com_sent_mean(df):\n",
    "    df['gen_com_negative_mean'] = df[['general_negative_mean', 'company_negative_mean']].mean(axis=1)\n",
    "    df['gen_com_neutral_mean'] = df[['general_neutral_mean', 'company_neutral_mean']].mean(axis=1)\n",
    "    df['gen_com_positive_mean'] = df[['general_positive_mean', 'company_positive_mean']].mean(axis=1)\n",
    "    return df"
   ],
   "metadata": {
    "collapsed": false,
    "pycharm": {
     "name": "#%%\n"
    }
   }
  },
  {
   "cell_type": "markdown",
   "source": [
    "Add fundamental indicators"
   ],
   "metadata": {
    "collapsed": false,
    "pycharm": {
     "name": "#%% md\n"
    }
   }
  },
  {
   "cell_type": "code",
   "execution_count": 238,
   "outputs": [],
   "source": [
    "for ticker, ticker_df in ticker_dfs.items():\n",
    "    ticker_df = df_compute_sent_value(ticker_df, general_news, 'general', 'sum')\n",
    "    ticker_df = df_compute_sent_value(ticker_df, general_news, 'general', 'mean')\n",
    "\n",
    "    ticker_df = df_compute_sent_value(ticker_df, ticker_news[ticker_news.apply(lambda row: ticker in list(row.tickers), axis=1)], 'company', 'sum')\n",
    "    ticker_df = df_compute_sent_value(ticker_df, ticker_news[ticker_news.apply(lambda row: ticker in list(row.tickers), axis=1)], 'company', 'mean')\n",
    "\n",
    "    ticker_df = df_compute_sent_value_count(ticker_df, general_news, 'general')\n",
    "\n",
    "    ticker_df = df_compute_sent_value_count(ticker_df, ticker_news[ticker_news.apply(lambda row: ticker in list(row.tickers), axis=1)], 'company')\n",
    "\n",
    "    ticker_df = compute_gen_com_sent_mean(ticker_df)\n",
    "\n",
    "    ticker_dfs[ticker] = ticker_df"
   ],
   "metadata": {
    "collapsed": false,
    "pycharm": {
     "name": "#%%\n"
    }
   }
  },
  {
   "cell_type": "markdown",
   "source": [
    "Potential feature set"
   ],
   "metadata": {
    "collapsed": false,
    "pycharm": {
     "name": "#%% md\n"
    }
   }
  },
  {
   "cell_type": "code",
   "execution_count": 239,
   "outputs": [
    {
     "name": "stdout",
     "output_type": "stream",
     "text": [
      "<class 'pandas.core.frame.DataFrame'>\n",
      "RangeIndex: 682 entries, 0 to 681\n",
      "Data columns (total 28 columns):\n",
      " #   Column                  Non-Null Count  Dtype         \n",
      "---  ------                  --------------  -----         \n",
      " 0   ticker                  682 non-null    object        \n",
      " 1   price                   682 non-null    float64       \n",
      " 2   date                    682 non-null    datetime64[ns]\n",
      " 3   return                  681 non-null    float64       \n",
      " 4   ma_10                   673 non-null    float64       \n",
      " 5   ma_30                   653 non-null    float64       \n",
      " 6   ma_60                   623 non-null    float64       \n",
      " 7   general_negative_sum    682 non-null    float64       \n",
      " 8   general_neutral_sum     682 non-null    float64       \n",
      " 9   general_positive_sum    682 non-null    float64       \n",
      " 10  general_negative_mean   682 non-null    float64       \n",
      " 11  general_neutral_mean    682 non-null    float64       \n",
      " 12  general_positive_mean   682 non-null    float64       \n",
      " 13  company_negative_sum    682 non-null    float64       \n",
      " 14  company_neutral_sum     682 non-null    float64       \n",
      " 15  company_positive_sum    682 non-null    float64       \n",
      " 16  company_negative_mean   682 non-null    float64       \n",
      " 17  company_neutral_mean    682 non-null    float64       \n",
      " 18  company_positive_mean   682 non-null    float64       \n",
      " 19  general_negative_count  682 non-null    float64       \n",
      " 20  general_neutral_count   682 non-null    float64       \n",
      " 21  general_positive_count  682 non-null    float64       \n",
      " 22  company_negative_count  682 non-null    float64       \n",
      " 23  company_neutral_count   682 non-null    float64       \n",
      " 24  company_positive_count  682 non-null    float64       \n",
      " 25  gen_com_negative_mean   682 non-null    float64       \n",
      " 26  gen_com_neutral_mean    682 non-null    float64       \n",
      " 27  gen_com_positive_mean   682 non-null    float64       \n",
      "dtypes: datetime64[ns](1), float64(26), object(1)\n",
      "memory usage: 149.3+ KB\n"
     ]
    }
   ],
   "source": [
    "ticker_dfs['AAPL'].info()"
   ],
   "metadata": {
    "collapsed": false,
    "pycharm": {
     "name": "#%%\n"
    }
   }
  },
  {
   "cell_type": "markdown",
   "source": [
    "# Hyperparameter tuning\n",
    "A subset of features computed above will be used for Infromer's hyperparameter tuning\n",
    "AAPL dataset with features [date, price, ma_30, general_negative_sum, general_neutral_sum, general_positive_sum, company_negative_sum, company_neutral_sum, company_positive_sum] is selected"
   ],
   "metadata": {
    "collapsed": false,
    "pycharm": {
     "name": "#%% md\n"
    }
   }
  },
  {
   "cell_type": "code",
   "execution_count": 240,
   "outputs": [],
   "source": [
    "features = ['date', 'price', 'ma_30', 'general_negative_sum', 'general_neutral_sum', 'general_positive_sum', 'company_negative_sum', 'company_neutral_sum', 'company_positive_sum']\n",
    "feature_num = len(features) - 1 # date is not considered a feature by the Informer\n",
    "target = 'price'"
   ],
   "metadata": {
    "collapsed": false,
    "pycharm": {
     "name": "#%%\n"
    }
   }
  },
  {
   "cell_type": "code",
   "execution_count": 166,
   "outputs": [
    {
     "data": {
      "text/plain": "                        price       ma_30  general_negative_sum  \\\ndate                                                              \n2022-11-01 14:45:00  152.9900  153.462473              0.900609   \n2022-11-01 15:00:00  150.7400  153.295807              0.022777   \n2022-11-01 15:15:00  150.7450  153.209973              2.162112   \n2022-11-01 15:30:00  149.7200  153.099307              0.244573   \n2022-11-01 15:45:00  149.9850  153.010973              0.470736   \n...                       ...         ...                   ...   \n2022-12-07 17:15:00  140.9409  142.513247              1.560727   \n2022-12-07 17:30:00  140.8700  142.388413              0.062620   \n2022-12-07 17:45:00  141.0299  142.266077              1.133490   \n2022-12-07 18:00:00  140.8850  142.141910              0.825675   \n2022-12-07 18:15:00  141.2800  142.044243              0.000000   \n\n                     general_neutral_sum  general_positive_sum  \\\ndate                                                             \n2022-11-01 14:45:00             1.035208              0.064183   \n2022-11-01 15:00:00             0.852089              0.125134   \n2022-11-01 15:15:00             1.192913              0.644975   \n2022-11-01 15:30:00             0.722935              0.032492   \n2022-11-01 15:45:00             0.736079              0.793184   \n...                                  ...                   ...   \n2022-12-07 17:15:00             0.490618              0.948655   \n2022-12-07 17:30:00             0.121923              0.815456   \n2022-12-07 17:45:00             1.698595              0.167915   \n2022-12-07 18:00:00             1.801118              1.373207   \n2022-12-07 18:15:00             0.000000              0.000000   \n\n                     company_negative_sum  company_neutral_sum  \\\ndate                                                             \n2022-11-01 14:45:00              0.000000             0.000000   \n2022-11-01 15:00:00              0.000000             0.000000   \n2022-11-01 15:15:00              0.964930             0.021709   \n2022-11-01 15:30:00              0.000000             0.000000   \n2022-11-01 15:45:00              0.000000             0.000000   \n...                                   ...                  ...   \n2022-12-07 17:15:00              0.020859             0.884477   \n2022-12-07 17:30:00              0.929925             0.058949   \n2022-12-07 17:45:00              1.834223             0.817429   \n2022-12-07 18:00:00              0.040683             2.090289   \n2022-12-07 18:15:00              0.000000             0.000000   \n\n                     company_positive_sum  \ndate                                       \n2022-11-01 14:45:00              0.000000  \n2022-11-01 15:00:00              0.000000  \n2022-11-01 15:15:00              0.013361  \n2022-11-01 15:30:00              0.000000  \n2022-11-01 15:45:00              0.000000  \n...                                   ...  \n2022-12-07 17:15:00              0.094664  \n2022-12-07 17:30:00              0.011125  \n2022-12-07 17:45:00              0.348348  \n2022-12-07 18:00:00              0.869028  \n2022-12-07 18:15:00              0.000000  \n\n[653 rows x 8 columns]",
      "text/html": "<div>\n<style scoped>\n    .dataframe tbody tr th:only-of-type {\n        vertical-align: middle;\n    }\n\n    .dataframe tbody tr th {\n        vertical-align: top;\n    }\n\n    .dataframe thead th {\n        text-align: right;\n    }\n</style>\n<table border=\"1\" class=\"dataframe\">\n  <thead>\n    <tr style=\"text-align: right;\">\n      <th></th>\n      <th>price</th>\n      <th>ma_30</th>\n      <th>general_negative_sum</th>\n      <th>general_neutral_sum</th>\n      <th>general_positive_sum</th>\n      <th>company_negative_sum</th>\n      <th>company_neutral_sum</th>\n      <th>company_positive_sum</th>\n    </tr>\n    <tr>\n      <th>date</th>\n      <th></th>\n      <th></th>\n      <th></th>\n      <th></th>\n      <th></th>\n      <th></th>\n      <th></th>\n      <th></th>\n    </tr>\n  </thead>\n  <tbody>\n    <tr>\n      <th>2022-11-01 14:45:00</th>\n      <td>152.9900</td>\n      <td>153.462473</td>\n      <td>0.900609</td>\n      <td>1.035208</td>\n      <td>0.064183</td>\n      <td>0.000000</td>\n      <td>0.000000</td>\n      <td>0.000000</td>\n    </tr>\n    <tr>\n      <th>2022-11-01 15:00:00</th>\n      <td>150.7400</td>\n      <td>153.295807</td>\n      <td>0.022777</td>\n      <td>0.852089</td>\n      <td>0.125134</td>\n      <td>0.000000</td>\n      <td>0.000000</td>\n      <td>0.000000</td>\n    </tr>\n    <tr>\n      <th>2022-11-01 15:15:00</th>\n      <td>150.7450</td>\n      <td>153.209973</td>\n      <td>2.162112</td>\n      <td>1.192913</td>\n      <td>0.644975</td>\n      <td>0.964930</td>\n      <td>0.021709</td>\n      <td>0.013361</td>\n    </tr>\n    <tr>\n      <th>2022-11-01 15:30:00</th>\n      <td>149.7200</td>\n      <td>153.099307</td>\n      <td>0.244573</td>\n      <td>0.722935</td>\n      <td>0.032492</td>\n      <td>0.000000</td>\n      <td>0.000000</td>\n      <td>0.000000</td>\n    </tr>\n    <tr>\n      <th>2022-11-01 15:45:00</th>\n      <td>149.9850</td>\n      <td>153.010973</td>\n      <td>0.470736</td>\n      <td>0.736079</td>\n      <td>0.793184</td>\n      <td>0.000000</td>\n      <td>0.000000</td>\n      <td>0.000000</td>\n    </tr>\n    <tr>\n      <th>...</th>\n      <td>...</td>\n      <td>...</td>\n      <td>...</td>\n      <td>...</td>\n      <td>...</td>\n      <td>...</td>\n      <td>...</td>\n      <td>...</td>\n    </tr>\n    <tr>\n      <th>2022-12-07 17:15:00</th>\n      <td>140.9409</td>\n      <td>142.513247</td>\n      <td>1.560727</td>\n      <td>0.490618</td>\n      <td>0.948655</td>\n      <td>0.020859</td>\n      <td>0.884477</td>\n      <td>0.094664</td>\n    </tr>\n    <tr>\n      <th>2022-12-07 17:30:00</th>\n      <td>140.8700</td>\n      <td>142.388413</td>\n      <td>0.062620</td>\n      <td>0.121923</td>\n      <td>0.815456</td>\n      <td>0.929925</td>\n      <td>0.058949</td>\n      <td>0.011125</td>\n    </tr>\n    <tr>\n      <th>2022-12-07 17:45:00</th>\n      <td>141.0299</td>\n      <td>142.266077</td>\n      <td>1.133490</td>\n      <td>1.698595</td>\n      <td>0.167915</td>\n      <td>1.834223</td>\n      <td>0.817429</td>\n      <td>0.348348</td>\n    </tr>\n    <tr>\n      <th>2022-12-07 18:00:00</th>\n      <td>140.8850</td>\n      <td>142.141910</td>\n      <td>0.825675</td>\n      <td>1.801118</td>\n      <td>1.373207</td>\n      <td>0.040683</td>\n      <td>2.090289</td>\n      <td>0.869028</td>\n    </tr>\n    <tr>\n      <th>2022-12-07 18:15:00</th>\n      <td>141.2800</td>\n      <td>142.044243</td>\n      <td>0.000000</td>\n      <td>0.000000</td>\n      <td>0.000000</td>\n      <td>0.000000</td>\n      <td>0.000000</td>\n      <td>0.000000</td>\n    </tr>\n  </tbody>\n</table>\n<p>653 rows × 8 columns</p>\n</div>"
     },
     "execution_count": 166,
     "metadata": {},
     "output_type": "execute_result"
    }
   ],
   "source": [
    "aapl = ticker_dfs['AAPL'][features].dropna()\n",
    "aapl = aapl.set_index('date')\n",
    "aapl"
   ],
   "metadata": {
    "collapsed": false,
    "pycharm": {
     "name": "#%%\n"
    }
   }
  },
  {
   "cell_type": "markdown",
   "source": [
    "Saving dataset"
   ],
   "metadata": {
    "collapsed": false,
    "pycharm": {
     "name": "#%% md\n"
    }
   }
  },
  {
   "cell_type": "code",
   "execution_count": 167,
   "outputs": [],
   "source": [
    "aapl.to_csv(\"./data/stock/aapl.csv\")"
   ],
   "metadata": {
    "collapsed": false,
    "pycharm": {
     "name": "#%%\n"
    }
   }
  },
  {
   "cell_type": "markdown",
   "source": [
    "Setting Informer's default parameters"
   ],
   "metadata": {
    "collapsed": false,
    "pycharm": {
     "name": "#%% md\n"
    }
   }
  },
  {
   "cell_type": "code",
   "execution_count": 241,
   "outputs": [],
   "source": [
    "default_args = {\n",
    "    'model': 'informer',\n",
    "\n",
    "    'data': 'aapl',\n",
    "    'root_path': './data/stock',\n",
    "    'data_path': 'aapl.csv',\n",
    "    'features': 'MS',\n",
    "    'ftr_num': feature_num,\n",
    "    'd_out': 1,\n",
    "    'target': target,\n",
    "    'freq': '15t',\n",
    "\n",
    "    'seq_len': 48,\n",
    "    'pred_len': 24,\n",
    "\n",
    "    'itr': 20,\n",
    "    'train_epochs': 6,\n",
    "    'batch_size': 48,\n",
    "    'patience': 3,\n",
    "    'learning_rate': 0.0001,\n",
    "    'loss': 'mse',\n",
    "    'lradj': 'type1',\n",
    "    'inverse': False,\n",
    "\n",
    "    'd_model': 512,\n",
    "    'n_heads': 4,\n",
    "    'e_layers': 4,\n",
    "    'd_ff': 2048,\n",
    "\n",
    "    'embed': 't2v',\n",
    "    'activation': 'gelu',\n",
    "    'padding': 0,\n",
    "    'dropout': 0.05,\n",
    "\n",
    "    'output_attention': False,\n",
    "    'predict': False,\n",
    "\n",
    "    'num_workers': 0,\n",
    "    'use_gpu': True,\n",
    "    'gpu': 0,\n",
    "    'use_multi_gpu': False,\n",
    "    'devices': '0'\n",
    "}"
   ],
   "metadata": {
    "collapsed": false,
    "pycharm": {
     "name": "#%%\n"
    }
   }
  },
  {
   "cell_type": "markdown",
   "source": [
    "Hyperparameter tuning is performed using a grid search\n"
   ],
   "metadata": {
    "collapsed": false,
    "pycharm": {
     "name": "#%% md\n"
    }
   }
  },
  {
   "cell_type": "code",
   "execution_count": 9,
   "outputs": [],
   "source": [
    "parameters = {\n",
    "    'batch_size': [24, 48, 56],\n",
    "    'learning_rate': [1e-4, 5e-4, 1e-5],\n",
    "    'd_model': [256, 512],\n",
    "    'n_heads': [4, 6, 12],\n",
    "    'e_layers': [4, 6, 12],\n",
    "    'activation': ['gelu', 'relu']\n",
    "}"
   ],
   "metadata": {
    "collapsed": false,
    "pycharm": {
     "name": "#%%\n"
    }
   }
  },
  {
   "cell_type": "code",
   "execution_count": 10,
   "outputs": [],
   "source": [
    "import itertools"
   ],
   "metadata": {
    "collapsed": false,
    "pycharm": {
     "name": "#%%\n"
    }
   }
  },
  {
   "cell_type": "code",
   "execution_count": 12,
   "outputs": [
    {
     "name": "stdout",
     "output_type": "stream",
     "text": [
      "Param combinations: 324\n"
     ]
    }
   ],
   "source": [
    "combinations = list(itertools.product(*parameters.values()))\n",
    "total = len(combinations)\n",
    "print(f'Param combinations: {total}')"
   ],
   "metadata": {
    "collapsed": false,
    "pycharm": {
     "name": "#%%\n"
    }
   }
  },
  {
   "cell_type": "markdown",
   "source": [
    "Performing grid search"
   ],
   "metadata": {
    "collapsed": false,
    "pycharm": {
     "name": "#%% md\n"
    }
   }
  },
  {
   "cell_type": "code",
   "execution_count": 13,
   "outputs": [],
   "source": [
    "from run_informer import run_informer"
   ],
   "metadata": {
    "collapsed": false,
    "pycharm": {
     "name": "#%%\n"
    }
   }
  },
  {
   "cell_type": "code",
   "execution_count": 15,
   "outputs": [
    {
     "name": "stdout",
     "output_type": "stream",
     "text": [
      "1 out of 324 - mse: 0.19969245791435242\n",
      "2 out of 324 - mse: 0.1973266452550888\n",
      "3 out of 324 - mse: 0.2071698158979416\n",
      "4 out of 324 - mse: 0.13370837271213531\n",
      "5 out of 324 - mse: 0.15923327207565308\n",
      "6 out of 324 - mse: 0.17413237690925598\n",
      "7 out of 324 - mse: 0.1393631398677826\n",
      "8 out of 324 - mse: 0.22362521290779114\n",
      "9 out of 324 - mse: 0.16694486141204834\n",
      "10 out of 324 - mse: 0.15823392570018768\n",
      "11 out of 324 - mse: 0.12205640226602554\n",
      "12 out of 324 - mse: 0.14133282005786896\n",
      "13 out of 324 - mse: 0.1930864006280899\n",
      "14 out of 324 - mse: 0.1583566516637802\n",
      "15 out of 324 - mse: 0.17440353333950043\n",
      "16 out of 324 - mse: 0.1589001715183258\n",
      "17 out of 324 - mse: 0.17963466048240662\n",
      "18 out of 324 - mse: 0.11621011793613434\n",
      "19 out of 324 - mse: 0.1888125091791153\n",
      "20 out of 324 - mse: 0.21865573525428772\n",
      "21 out of 324 - mse: 0.13286446034908295\n",
      "22 out of 324 - mse: 0.1317530870437622\n",
      "23 out of 324 - mse: 0.23739811778068542\n",
      "24 out of 324 - mse: 0.11906949430704117\n",
      "25 out of 324 - mse: 0.21071061491966248\n",
      "26 out of 324 - mse: 0.21234816312789917\n",
      "27 out of 324 - mse: 0.16494373977184296\n",
      "28 out of 324 - mse: 0.174960196018219\n",
      "29 out of 324 - mse: 0.2604534924030304\n",
      "30 out of 324 - mse: 0.11039965599775314\n",
      "31 out of 324 - mse: 0.16765227913856506\n",
      "32 out of 324 - mse: 0.12115811556577682\n",
      "33 out of 324 - mse: 0.18623705208301544\n",
      "34 out of 324 - mse: 0.11989746987819672\n",
      "35 out of 324 - mse: 0.11272834241390228\n",
      "36 out of 324 - mse: 0.13923433423042297\n",
      "37 out of 324 - mse: 0.24164363741874695\n",
      "38 out of 324 - mse: 0.2514512538909912\n",
      "39 out of 324 - mse: 0.319482684135437\n",
      "40 out of 324 - mse: 0.16521111130714417\n",
      "41 out of 324 - mse: 0.3916211724281311\n",
      "42 out of 324 - mse: 0.21911031007766724\n",
      "43 out of 324 - mse: 0.1821998953819275\n",
      "44 out of 324 - mse: 0.2639910578727722\n",
      "45 out of 324 - mse: 0.45698583126068115\n",
      "46 out of 324 - mse: 0.42412906885147095\n",
      "47 out of 324 - mse: 0.48756173253059387\n",
      "48 out of 324 - mse: 0.15353217720985413\n",
      "49 out of 324 - mse: 0.2844780683517456\n",
      "50 out of 324 - mse: 0.24910545349121094\n",
      "51 out of 324 - mse: 0.4260095953941345\n",
      "52 out of 324 - mse: 0.3999450206756592\n",
      "53 out of 324 - mse: 0.2714011073112488\n",
      "54 out of 324 - mse: 0.14867478609085083\n",
      "55 out of 324 - mse: 0.23423811793327332\n",
      "56 out of 324 - mse: 0.13383591175079346\n",
      "57 out of 324 - mse: 0.25015783309936523\n",
      "58 out of 324 - mse: 0.14369159936904907\n",
      "59 out of 324 - mse: 0.20282484591007233\n",
      "60 out of 324 - mse: 0.15640658140182495\n",
      "61 out of 324 - mse: 0.21129609644412994\n",
      "62 out of 324 - mse: 0.13308769464492798\n",
      "63 out of 324 - mse: 0.4619837999343872\n",
      "64 out of 324 - mse: 0.16129088401794434\n",
      "65 out of 324 - mse: 0.3221491277217865\n",
      "66 out of 324 - mse: 0.14489802718162537\n",
      "67 out of 324 - mse: 0.25477346777915955\n",
      "68 out of 324 - mse: 0.193709135055542\n",
      "69 out of 324 - mse: 0.3989417850971222\n",
      "70 out of 324 - mse: 0.1443963497877121\n",
      "71 out of 324 - mse: 0.14751367270946503\n",
      "72 out of 324 - mse: 0.13627667725086212\n",
      "73 out of 324 - mse: 0.13922134041786194\n",
      "74 out of 324 - mse: 0.1178082749247551\n",
      "75 out of 324 - mse: 0.10366153717041016\n",
      "76 out of 324 - mse: 0.10143487900495529\n",
      "77 out of 324 - mse: 0.13490918278694153\n",
      "78 out of 324 - mse: 0.10341169685125351\n",
      "79 out of 324 - mse: 0.12551084160804749\n",
      "80 out of 324 - mse: 0.15319068729877472\n",
      "81 out of 324 - mse: 0.10977844148874283\n",
      "82 out of 324 - mse: 0.10230278968811035\n",
      "83 out of 324 - mse: 0.10584267973899841\n",
      "84 out of 324 - mse: 0.12438736855983734\n",
      "85 out of 324 - mse: 0.1299954056739807\n",
      "86 out of 324 - mse: 0.12630777060985565\n",
      "87 out of 324 - mse: 0.10362118482589722\n",
      "88 out of 324 - mse: 0.09406691789627075\n",
      "89 out of 324 - mse: 0.10059128701686859\n",
      "90 out of 324 - mse: 0.1298200637102127\n",
      "91 out of 324 - mse: 0.12607333064079285\n",
      "92 out of 324 - mse: 0.16134750843048096\n",
      "93 out of 324 - mse: 0.134209543466568\n",
      "94 out of 324 - mse: 0.1287882775068283\n",
      "95 out of 324 - mse: 0.22528228163719177\n",
      "96 out of 324 - mse: 0.10962557047605515\n",
      "97 out of 324 - mse: 0.11830778419971466\n",
      "98 out of 324 - mse: 0.12159746885299683\n",
      "99 out of 324 - mse: 0.1262773871421814\n",
      "100 out of 324 - mse: 0.1322932243347168\n",
      "101 out of 324 - mse: 0.1575479805469513\n",
      "102 out of 324 - mse: 0.11444391310214996\n",
      "103 out of 324 - mse: 0.12118948251008987\n",
      "104 out of 324 - mse: 0.13639193773269653\n",
      "105 out of 324 - mse: 0.09984587132930756\n",
      "106 out of 324 - mse: 0.11447255313396454\n",
      "107 out of 324 - mse: 0.12923485040664673\n",
      "108 out of 324 - mse: 0.1180848702788353\n",
      "109 out of 324 - mse: 0.19484560191631317\n",
      "110 out of 324 - mse: 0.13147592544555664\n",
      "111 out of 324 - mse: 0.10369951277971268\n",
      "112 out of 324 - mse: 0.12234582006931305\n",
      "113 out of 324 - mse: 0.09844253212213516\n",
      "114 out of 324 - mse: 0.11008873581886292\n",
      "115 out of 324 - mse: 0.1331770420074463\n",
      "116 out of 324 - mse: 0.10402360558509827\n",
      "117 out of 324 - mse: 0.13279113173484802\n",
      "118 out of 324 - mse: 0.11484280228614807\n",
      "119 out of 324 - mse: 0.1164652556180954\n",
      "120 out of 324 - mse: 0.08712528645992279\n",
      "121 out of 324 - mse: 0.1213759034872055\n",
      "122 out of 324 - mse: 0.13627347350120544\n",
      "123 out of 324 - mse: 0.10139530897140503\n",
      "124 out of 324 - mse: 0.13888207077980042\n",
      "125 out of 324 - mse: 0.11005374789237976\n",
      "126 out of 324 - mse: 0.11709025502204895\n",
      "127 out of 324 - mse: 0.07810201495885849\n",
      "128 out of 324 - mse: 0.13378030061721802\n",
      "129 out of 324 - mse: 0.11744276434183121\n",
      "130 out of 324 - mse: 0.18938010931015015\n",
      "131 out of 324 - mse: 0.15072683990001678\n",
      "132 out of 324 - mse: 0.1144922748208046\n",
      "133 out of 324 - mse: 0.09225138276815414\n",
      "134 out of 324 - mse: 0.14668980240821838\n",
      "135 out of 324 - mse: 0.10336251556873322\n",
      "136 out of 324 - mse: 0.171493262052536\n",
      "137 out of 324 - mse: 0.13439664244651794\n",
      "138 out of 324 - mse: 0.12209492176771164\n",
      "139 out of 324 - mse: 0.11639880388975143\n",
      "140 out of 324 - mse: 0.10421840846538544\n",
      "141 out of 324 - mse: 0.11171324551105499\n",
      "142 out of 324 - mse: 0.14847825467586517\n",
      "143 out of 324 - mse: 0.13980217278003693\n",
      "144 out of 324 - mse: 0.11353296786546707\n",
      "145 out of 324 - mse: 0.12585079669952393\n",
      "146 out of 324 - mse: 0.1882312297821045\n",
      "147 out of 324 - mse: 0.20318204164505005\n",
      "148 out of 324 - mse: 0.10901334881782532\n",
      "149 out of 324 - mse: 0.18539008498191833\n",
      "150 out of 324 - mse: 0.15412971377372742\n",
      "151 out of 324 - mse: 0.15139420330524445\n",
      "152 out of 324 - mse: 0.10915392637252808\n",
      "153 out of 324 - mse: 0.1281065046787262\n",
      "154 out of 324 - mse: 0.11945077776908875\n",
      "155 out of 324 - mse: 0.1577697992324829\n",
      "156 out of 324 - mse: 0.14134357869625092\n",
      "157 out of 324 - mse: 0.1215052455663681\n",
      "158 out of 324 - mse: 0.10105665773153305\n",
      "159 out of 324 - mse: 0.17896394431591034\n",
      "160 out of 324 - mse: 0.1373768001794815\n",
      "161 out of 324 - mse: 0.2922418415546417\n",
      "162 out of 324 - mse: 0.1369686871767044\n",
      "163 out of 324 - mse: 0.3435704708099365\n",
      "164 out of 324 - mse: 0.1814473569393158\n",
      "165 out of 324 - mse: 0.6383187770843506\n",
      "166 out of 324 - mse: 0.1615269035100937\n",
      "167 out of 324 - mse: 0.22111591696739197\n",
      "168 out of 324 - mse: 0.17081913352012634\n",
      "169 out of 324 - mse: 0.13010485470294952\n",
      "170 out of 324 - mse: 0.1204131618142128\n",
      "171 out of 324 - mse: 0.2293444573879242\n",
      "172 out of 324 - mse: 0.1431679129600525\n",
      "173 out of 324 - mse: 0.20593887567520142\n",
      "174 out of 324 - mse: 0.18730145692825317\n",
      "175 out of 324 - mse: 0.10788142681121826\n",
      "176 out of 324 - mse: 0.1551329344511032\n",
      "177 out of 324 - mse: 0.2500799298286438\n",
      "178 out of 324 - mse: 0.2632671594619751\n",
      "179 out of 324 - mse: 0.19830653071403503\n",
      "180 out of 324 - mse: 0.20748834311962128\n",
      "181 out of 324 - mse: 0.1826452910900116\n",
      "182 out of 324 - mse: 0.2114984691143036\n",
      "183 out of 324 - mse: 0.13967470824718475\n",
      "184 out of 324 - mse: 0.15238232910633087\n",
      "185 out of 324 - mse: 0.09031970798969269\n",
      "186 out of 324 - mse: 0.10214588046073914\n",
      "187 out of 324 - mse: 0.19547191262245178\n",
      "188 out of 324 - mse: 0.21440914273262024\n",
      "189 out of 324 - mse: 0.14847417175769806\n",
      "190 out of 324 - mse: 0.17653945088386536\n",
      "191 out of 324 - mse: 0.12227955460548401\n",
      "192 out of 324 - mse: 0.11167026311159134\n",
      "193 out of 324 - mse: 0.20634230971336365\n",
      "194 out of 324 - mse: 0.18897107243537903\n",
      "195 out of 324 - mse: 0.18612860143184662\n",
      "196 out of 324 - mse: 0.1665329784154892\n",
      "197 out of 324 - mse: 0.10348503291606903\n",
      "198 out of 324 - mse: 0.10352976620197296\n",
      "199 out of 324 - mse: 0.12278415262699127\n",
      "200 out of 324 - mse: 0.10466150939464569\n",
      "201 out of 324 - mse: 0.09637173265218735\n",
      "202 out of 324 - mse: 0.10194889456033707\n",
      "203 out of 324 - mse: 0.12360085546970367\n",
      "204 out of 324 - mse: 0.1643001139163971\n",
      "205 out of 324 - mse: 0.1203819215297699\n",
      "206 out of 324 - mse: 0.13024704158306122\n",
      "207 out of 324 - mse: 0.10155472159385681\n",
      "208 out of 324 - mse: 0.09524025022983551\n",
      "209 out of 324 - mse: 0.10338661074638367\n",
      "210 out of 324 - mse: 0.11751409620046616\n",
      "211 out of 324 - mse: 0.11575928330421448\n",
      "212 out of 324 - mse: 0.11907936632633209\n",
      "213 out of 324 - mse: 0.10212548077106476\n",
      "214 out of 324 - mse: 0.08749108016490936\n",
      "215 out of 324 - mse: 0.11346528679132462\n",
      "216 out of 324 - mse: 0.14420242607593536\n",
      "217 out of 324 - mse: 0.16463389992713928\n",
      "218 out of 324 - mse: 0.17344112694263458\n",
      "219 out of 324 - mse: 0.19819745421409607\n",
      "220 out of 324 - mse: 0.20700114965438843\n",
      "221 out of 324 - mse: 0.13526833057403564\n",
      "222 out of 324 - mse: 0.12183528393507004\n",
      "223 out of 324 - mse: 0.15141575038433075\n",
      "224 out of 324 - mse: 0.1981881707906723\n",
      "225 out of 324 - mse: 0.1876952350139618\n",
      "226 out of 324 - mse: 0.18712112307548523\n",
      "227 out of 324 - mse: 0.16491560637950897\n",
      "228 out of 324 - mse: 0.13971005380153656\n",
      "229 out of 324 - mse: 0.1663396954536438\n",
      "230 out of 324 - mse: 0.2202514410018921\n",
      "231 out of 324 - mse: 0.20944759249687195\n",
      "232 out of 324 - mse: 0.1364804208278656\n",
      "233 out of 324 - mse: 0.13998068869113922\n",
      "234 out of 324 - mse: 0.15127500891685486\n",
      "235 out of 324 - mse: 0.1442720890045166\n",
      "236 out of 324 - mse: 0.18412025272846222\n",
      "237 out of 324 - mse: 0.17440684139728546\n",
      "238 out of 324 - mse: 0.26707059144973755\n",
      "239 out of 324 - mse: 0.22161409258842468\n",
      "240 out of 324 - mse: 0.18109606206417084\n",
      "241 out of 324 - mse: 0.22807538509368896\n",
      "242 out of 324 - mse: 0.17165876924991608\n",
      "243 out of 324 - mse: 0.2103624790906906\n",
      "244 out of 324 - mse: 0.1989959180355072\n",
      "245 out of 324 - mse: 0.14007194340229034\n",
      "246 out of 324 - mse: 0.1804841309785843\n",
      "247 out of 324 - mse: 0.15936368703842163\n",
      "248 out of 324 - mse: 0.19190552830696106\n",
      "249 out of 324 - mse: 0.17266595363616943\n",
      "250 out of 324 - mse: 0.21169120073318481\n",
      "251 out of 324 - mse: 0.14891847968101501\n",
      "252 out of 324 - mse: 0.1784299612045288\n",
      "253 out of 324 - mse: 0.14936569333076477\n",
      "254 out of 324 - mse: 0.15945148468017578\n",
      "255 out of 324 - mse: 0.18674468994140625\n",
      "256 out of 324 - mse: 0.15661954879760742\n",
      "257 out of 324 - mse: 0.23817546665668488\n",
      "258 out of 324 - mse: 0.1676754206418991\n",
      "259 out of 324 - mse: 0.18305161595344543\n",
      "260 out of 324 - mse: 0.18376123905181885\n",
      "261 out of 324 - mse: 0.17498844861984253\n",
      "262 out of 324 - mse: 0.1502508670091629\n",
      "263 out of 324 - mse: 0.17702868580818176\n",
      "264 out of 324 - mse: 0.19383803009986877\n",
      "265 out of 324 - mse: 0.20352795720100403\n",
      "266 out of 324 - mse: 0.1486678421497345\n",
      "267 out of 324 - mse: 0.1567583680152893\n",
      "268 out of 324 - mse: 0.1381940394639969\n",
      "269 out of 324 - mse: 0.1741778552532196\n",
      "270 out of 324 - mse: 0.1816876381635666\n",
      "271 out of 324 - mse: 0.16372494399547577\n",
      "272 out of 324 - mse: 0.17597825825214386\n",
      "273 out of 324 - mse: 0.340427964925766\n",
      "274 out of 324 - mse: 0.20203016698360443\n",
      "275 out of 324 - mse: 0.18903225660324097\n",
      "276 out of 324 - mse: 0.1699170470237732\n",
      "277 out of 324 - mse: 0.27763980627059937\n",
      "278 out of 324 - mse: 0.14671224355697632\n",
      "279 out of 324 - mse: 0.23643358051776886\n",
      "280 out of 324 - mse: 0.15787571668624878\n",
      "281 out of 324 - mse: 0.18127869069576263\n",
      "282 out of 324 - mse: 0.15876471996307373\n",
      "283 out of 324 - mse: 0.16038289666175842\n",
      "284 out of 324 - mse: 0.1629669964313507\n",
      "285 out of 324 - mse: 0.1547476351261139\n",
      "286 out of 324 - mse: 0.17822608351707458\n",
      "287 out of 324 - mse: 0.17265522480010986\n",
      "288 out of 324 - mse: 0.15579262375831604\n",
      "289 out of 324 - mse: 0.24171583354473114\n",
      "290 out of 324 - mse: 0.26611730456352234\n",
      "291 out of 324 - mse: 0.23064644634723663\n",
      "292 out of 324 - mse: 0.23176129162311554\n",
      "293 out of 324 - mse: 0.16364449262619019\n",
      "294 out of 324 - mse: 0.18359863758087158\n",
      "295 out of 324 - mse: 0.23144501447677612\n",
      "296 out of 324 - mse: 0.25071990489959717\n",
      "297 out of 324 - mse: 0.2595703899860382\n",
      "298 out of 324 - mse: 0.2016633152961731\n",
      "299 out of 324 - mse: 0.16439400613307953\n",
      "300 out of 324 - mse: 0.1699705421924591\n",
      "301 out of 324 - mse: 0.26514384150505066\n",
      "302 out of 324 - mse: 0.22882109880447388\n",
      "303 out of 324 - mse: 0.2008117437362671\n",
      "304 out of 324 - mse: 0.21960479021072388\n",
      "305 out of 324 - mse: 0.1571657508611679\n",
      "306 out of 324 - mse: 0.1775006353855133\n",
      "307 out of 324 - mse: 0.21469679474830627\n",
      "308 out of 324 - mse: 0.18751272559165955\n",
      "309 out of 324 - mse: 0.15524016320705414\n",
      "310 out of 324 - mse: 0.17980436980724335\n",
      "311 out of 324 - mse: 0.21165204048156738\n",
      "312 out of 324 - mse: 0.15082743763923645\n",
      "313 out of 324 - mse: 0.19664877653121948\n",
      "314 out of 324 - mse: 0.19835242629051208\n",
      "315 out of 324 - mse: 0.15534915030002594\n",
      "316 out of 324 - mse: 0.1526923030614853\n",
      "317 out of 324 - mse: 0.1738644689321518\n",
      "318 out of 324 - mse: 0.2336447536945343\n",
      "319 out of 324 - mse: 0.20566406846046448\n",
      "320 out of 324 - mse: 0.18099622428417206\n",
      "321 out of 324 - mse: 0.1344914436340332\n",
      "322 out of 324 - mse: 0.18933138251304626\n",
      "323 out of 324 - mse: 0.148172989487648\n",
      "324 out of 324 - mse: 0.14906100928783417\n"
     ]
    }
   ],
   "source": [
    "results = {}\n",
    "counter = 0\n",
    "\n",
    "for batch_size, learning_rate, d_model, n_heads, e_layers, activation in combinations:\n",
    "    args = default_args.copy()\n",
    "    args['batch_size'] = batch_size\n",
    "    args['learning_rate'] = learning_rate\n",
    "    args['d_model'] = d_model\n",
    "    args['n_heads'] = n_heads\n",
    "    args['e_layers'] = e_layers\n",
    "    args['d_ff'] = 4 * d_model\n",
    "    args['activation'] = activation\n",
    "\n",
    "    loss, _, _ = run_informer(args, supress_output=True)\n",
    "    results[(batch_size, learning_rate, d_model, n_heads, e_layers, activation)] = loss\n",
    "\n",
    "    counter += 1\n",
    "    print(f'{counter} out of {total} - mse: {loss[0]}')"
   ],
   "metadata": {
    "collapsed": false,
    "pycharm": {
     "name": "#%%\n"
    }
   }
  },
  {
   "cell_type": "markdown",
   "source": [
    "Saving best performing arguments\n",
    "Printing top 10"
   ],
   "metadata": {
    "collapsed": false,
    "pycharm": {
     "name": "#%% md\n"
    }
   }
  },
  {
   "cell_type": "code",
   "execution_count": 49,
   "outputs": [
    {
     "name": "stdout",
     "output_type": "stream",
     "text": [
      "batch_size learning_rate d_model n_heads e_layers activation | mse       \n",
      "---------------------------------------------------------------------\n",
      "48         0.0001        512     4       4        gelu       | 0.0781    \n",
      "48         0.0001        256     6       12       relu       | 0.0871    \n",
      "48         1e-05         512     12      6        relu       | 0.0875    \n",
      "48         1e-05         256     4       12       gelu       | 0.0903    \n",
      "48         0.0001        512     6       4        gelu       | 0.0923    \n",
      "24         1e-05         256     12      6        relu       | 0.0941    \n",
      "48         1e-05         512     6       6        relu       | 0.0952    \n",
      "48         1e-05         512     4       6        gelu       | 0.0964    \n",
      "48         0.0001        256     4       12       gelu       | 0.0984    \n",
      "24         1e-05         512     12      6        gelu       | 0.0998    \n"
     ]
    }
   ],
   "source": [
    "results = sorted(results.items(), key=lambda v: v[1][0])\n",
    "best_args = results[0][0]\n",
    "\n",
    "print('{: <10} {: <10} {: <7} {: <6} {: <8} {: <10} | {: <10}'.format(*parameters.keys(), 'mse'))\n",
    "print('-' * 69)\n",
    "for k, v in results[:10]:\n",
    "    print('{: <10} {: <13} {: <7} {: <7} {: <8} {: <10} | {: <10.4f}'.format(*k, v[0]))"
   ],
   "metadata": {
    "collapsed": false,
    "pycharm": {
     "name": "#%%\n"
    }
   }
  },
  {
   "cell_type": "code",
   "execution_count": 116,
   "outputs": [
    {
     "data": {
      "text/plain": "{'model': 'informer',\n 'data': 'aapl',\n 'root_path': './data/stock',\n 'data_path': 'aapl.csv',\n 'features': 'MS',\n 'ftr_num': 8,\n 'd_out': 1,\n 'target': 'price',\n 'freq': '15t',\n 'seq_len': 48,\n 'pred_len': 24,\n 'itr': 20,\n 'train_epochs': 6,\n 'batch_size': 48,\n 'patience': 3,\n 'learning_rate': 0.0001,\n 'loss': 'mse',\n 'lradj': 'type1',\n 'inverse': False,\n 'd_model': 512,\n 'n_heads': 4,\n 'e_layers': 4,\n 'd_ff': 2048,\n 'embed': 't2v',\n 'activation': 'gelu',\n 'padding': 0,\n 'dropout': 0.05,\n 'output_attention': False,\n 'predict': False,\n 'num_workers': 0,\n 'use_gpu': True,\n 'gpu': 0,\n 'use_multi_gpu': False,\n 'devices': '0'}"
     },
     "execution_count": 116,
     "metadata": {},
     "output_type": "execute_result"
    }
   ],
   "source": [
    "args = default_args\n",
    "(args['batch_size'], args['learning_rate'], args['d_model'], args['n_heads'], args['e_layers'], args['activation']) = best_args\n",
    "args['d_ff'] = 4 * args['d_model']\n",
    "args"
   ],
   "metadata": {
    "collapsed": false,
    "pycharm": {
     "name": "#%%\n"
    }
   }
  },
  {
   "cell_type": "markdown",
   "source": [
    "## Feature set analysis\n",
    "Analysing which composition of features performs best on a tuned model\n",
    "Checking if media sentiment analysis is beneficial"
   ],
   "metadata": {
    "collapsed": false,
    "pycharm": {
     "name": "#%% md\n"
    }
   }
  },
  {
   "cell_type": "code",
   "execution_count": 242,
   "outputs": [
    {
     "data": {
      "text/plain": "['ticker',\n 'price',\n 'date',\n 'return',\n 'ma_10',\n 'ma_30',\n 'ma_60',\n 'general_negative_sum',\n 'general_neutral_sum',\n 'general_positive_sum',\n 'general_negative_mean',\n 'general_neutral_mean',\n 'general_positive_mean',\n 'company_negative_sum',\n 'company_neutral_sum',\n 'company_positive_sum',\n 'company_negative_mean',\n 'company_neutral_mean',\n 'company_positive_mean',\n 'general_negative_count',\n 'general_neutral_count',\n 'general_positive_count',\n 'company_negative_count',\n 'company_neutral_count',\n 'company_positive_count',\n 'gen_com_negative_mean',\n 'gen_com_neutral_mean',\n 'gen_com_positive_mean']"
     },
     "execution_count": 242,
     "metadata": {},
     "output_type": "execute_result"
    }
   ],
   "source": [
    "ticker_dfs['AAPL'].columns.tolist()"
   ],
   "metadata": {
    "collapsed": false,
    "pycharm": {
     "name": "#%%\n"
    }
   }
  },
  {
   "cell_type": "code",
   "execution_count": 252,
   "outputs": [],
   "source": [
    "feature_sets = [\n",
    "    ['date', 'price'],\n",
    "    ['date', 'price', 'return'],\n",
    "    ['date', 'price', 'ma_10'],\n",
    "    ['date', 'price', 'ma_30'],\n",
    "    ['date', 'price', 'ma_60'],\n",
    "    ['date', 'price', 'return', 'ma_10'],\n",
    "    ['date', 'price', 'general_negative_sum', 'general_neutral_sum', 'general_positive_sum'],\n",
    "    ['date', 'price', 'general_negative_mean', 'general_neutral_mean', 'general_positive_mean'],\n",
    "    ['date', 'price', 'general_negative_count', 'general_neutral_count', 'general_positive_count'],\n",
    "    ['date', 'price', 'company_negative_sum', 'company_neutral_sum', 'company_positive_sum'],\n",
    "    ['date', 'price', 'company_negative_mean', 'company_neutral_mean', 'company_positive_mean'],\n",
    "    ['date', 'price', 'company_negative_count', 'company_neutral_count', 'company_positive_count'],\n",
    "    ['date', 'price', 'gen_com_negative_mean', 'gen_com_neutral_mean', 'gen_com_positive_mean'],\n",
    "    ['date', 'price', 'general_negative_sum', 'general_neutral_sum', 'general_positive_sum', 'company_negative_sum', 'company_neutral_sum', 'company_positive_sum'],\n",
    "    ['date', 'price', 'general_negative_mean', 'general_neutral_mean', 'general_positive_mean', 'company_negative_mean', 'company_neutral_mean', 'company_positive_mean'],\n",
    "    ['date', 'price', 'general_negative_count', 'general_neutral_count', 'general_positive_count', 'company_negative_count', 'company_neutral_count', 'company_positive_count'],\n",
    "    ['date', 'price', 'return', 'general_negative_mean', 'general_neutral_mean', 'general_positive_mean'],\n",
    "    ['date', 'price', 'return', 'gen_com_negative_mean', 'gen_com_neutral_mean', 'gen_com_positive_mean'],\n",
    "]\n",
    "\n",
    "total = len(feature_sets)"
   ],
   "metadata": {
    "collapsed": false,
    "pycharm": {
     "name": "#%%\n"
    }
   }
  },
  {
   "cell_type": "code",
   "execution_count": 253,
   "outputs": [
    {
     "name": "stdout",
     "output_type": "stream",
     "text": [
      "1 out of 18 - mse: 0.12239911407232285\n",
      "2 out of 18 - mse: 0.06711364537477493\n",
      "3 out of 18 - mse: 0.12721404433250427\n",
      "4 out of 18 - mse: 0.12403389066457748\n",
      "5 out of 18 - mse: 0.27386605739593506\n",
      "6 out of 18 - mse: 0.07086274772882462\n",
      "7 out of 18 - mse: 0.10739133507013321\n",
      "8 out of 18 - mse: 0.07534480839967728\n",
      "9 out of 18 - mse: 0.10063232481479645\n",
      "10 out of 18 - mse: 0.1259147971868515\n",
      "11 out of 18 - mse: 0.2083088606595993\n",
      "12 out of 18 - mse: 0.16404522955417633\n",
      "13 out of 18 - mse: 0.07537199556827545\n",
      "14 out of 18 - mse: 0.10281088203191757\n",
      "15 out of 18 - mse: 0.20570918917655945\n",
      "16 out of 18 - mse: 0.10542090982198715\n",
      "17 out of 18 - mse: 0.06383358687162399\n",
      "18 out of 18 - mse: 0.06020493060350418\n"
     ]
    }
   ],
   "source": [
    "results = {}\n",
    "counter = 0\n",
    "\n",
    "for features in feature_sets:\n",
    "    aapl = ticker_dfs['AAPL'][features].dropna()\n",
    "    aapl = aapl.set_index('date')\n",
    "    aapl.to_csv(\"./data/stock/aapl.csv\")\n",
    "\n",
    "    args['ftr_num'] = len(features) - 1\n",
    "    loss = run_informer(args, supress_output=True)[0]\n",
    "    results[str(features)] = loss\n",
    "\n",
    "    counter += 1\n",
    "    print(f'{counter} out of {total} - mse: {loss[0]}')"
   ],
   "metadata": {
    "collapsed": false,
    "pycharm": {
     "name": "#%%\n"
    }
   }
  },
  {
   "cell_type": "code",
   "execution_count": 322,
   "outputs": [
    {
     "name": "stdout",
     "output_type": "stream",
     "text": [
      "0.0602 ['date', 'price', 'return', 'gen_com_negative_mean', 'gen_com_neutral_mean', 'gen_com_positive_mean']\n",
      "0.0638 ['date', 'price', 'return', 'general_negative_mean', 'general_neutral_mean', 'general_positive_mean']\n",
      "0.0671 ['date', 'price', 'return']\n",
      "0.0709 ['date', 'price', 'return', 'ma_10']\n",
      "0.0753 ['date', 'price', 'general_negative_mean', 'general_neutral_mean', 'general_positive_mean']\n",
      "0.0754 ['date', 'price', 'gen_com_negative_mean', 'gen_com_neutral_mean', 'gen_com_positive_mean']\n",
      "0.1006 ['date', 'price', 'general_negative_count', 'general_neutral_count', 'general_positive_count']\n",
      "0.1028 ['date', 'price', 'general_negative_sum', 'general_neutral_sum', 'general_positive_sum', 'company_negative_sum', 'company_neutral_sum', 'company_positive_sum']\n",
      "0.1054 ['date', 'price', 'general_negative_count', 'general_neutral_count', 'general_positive_count', 'company_negative_count', 'company_neutral_count', 'company_positive_count']\n",
      "0.1074 ['date', 'price', 'general_negative_sum', 'general_neutral_sum', 'general_positive_sum']\n",
      "0.1224 ['date', 'price']\n",
      "0.1240 ['date', 'price', 'ma_30']\n",
      "0.1259 ['date', 'price', 'company_negative_sum', 'company_neutral_sum', 'company_positive_sum']\n",
      "0.1272 ['date', 'price', 'ma_10']\n",
      "0.1640 ['date', 'price', 'company_negative_count', 'company_neutral_count', 'company_positive_count']\n",
      "0.2057 ['date', 'price', 'general_negative_mean', 'general_neutral_mean', 'general_positive_mean', 'company_negative_mean', 'company_neutral_mean', 'company_positive_mean']\n",
      "0.2083 ['date', 'price', 'company_negative_mean', 'company_neutral_mean', 'company_positive_mean']\n",
      "0.2739 ['date', 'price', 'ma_60']\n"
     ]
    }
   ],
   "source": [
    "for k, v in sorted(results.items(), key=lambda v: v[1][0]):\n",
    "    print('{:.4f} {}'.format(v[0], k))"
   ],
   "metadata": {
    "collapsed": false,
    "pycharm": {
     "name": "#%%\n"
    }
   }
  }
 ],
 "metadata": {
  "kernelspec": {
   "display_name": "Python 3",
   "language": "python",
   "name": "python3"
  },
  "language_info": {
   "codemirror_mode": {
    "name": "ipython",
    "version": 2
   },
   "file_extension": ".py",
   "mimetype": "text/x-python",
   "name": "python",
   "nbconvert_exporter": "python",
   "pygments_lexer": "ipython2",
   "version": "2.7.6"
  }
 },
 "nbformat": 4,
 "nbformat_minor": 0
}