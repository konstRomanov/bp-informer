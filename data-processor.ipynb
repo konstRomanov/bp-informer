{
 "cells": [
  {
   "cell_type": "markdown",
   "source": [
    "# Data processing and sentiment analysis\n",
    "This notebook illustrates the pre-processing steps performed on the gathered data, performs sentiment analysis of the news titles and formulates the feature set taken as inputs by the Informer model"
   ],
   "metadata": {
    "collapsed": false,
    "pycharm": {
     "name": "#%% md\n"
    }
   }
  },
  {
   "cell_type": "code",
   "execution_count": 1,
   "outputs": [],
   "source": [
    "import warnings\n",
    "warnings.filterwarnings('ignore')"
   ],
   "metadata": {
    "collapsed": false,
    "pycharm": {
     "name": "#%%\n"
    }
   }
  },
  {
   "cell_type": "code",
   "execution_count": 2,
   "outputs": [],
   "source": [
    "import pandas as pd"
   ],
   "metadata": {
    "collapsed": false,
    "pycharm": {
     "name": "#%%\n"
    }
   }
  },
  {
   "cell_type": "markdown",
   "source": [
    "## The gathered data overview\n",
    "Read and describe the basic information about the datasets\n",
    "The *general_news* dataset contains articles related to the stock market at large\n",
    "The *ticker_news* dataset contains news relevant to a given ticker"
   ],
   "metadata": {
    "collapsed": false,
    "pycharm": {
     "name": "#%% md\n"
    }
   }
  },
  {
   "cell_type": "code",
   "execution_count": 3,
   "outputs": [],
   "source": [
    "general_news = pd.read_json(\"../bp-scrapper-data/news.jsonl\", lines=True)\n",
    "prices = pd.read_json(\"../bp-scrapper-data/price.jsonl\", lines=True)\n",
    "ticker_news = pd.read_json(\"../bp-scrapper-data/ticker_news.jsonl\", lines=True)"
   ],
   "metadata": {
    "collapsed": false,
    "pycharm": {
     "name": "#%%\n"
    }
   }
  },
  {
   "cell_type": "code",
   "execution_count": 4,
   "outputs": [
    {
     "name": "stdout",
     "output_type": "stream",
     "text": [
      "<class 'pandas.core.frame.DataFrame'>\n",
      "RangeIndex: 13418 entries, 0 to 13417\n",
      "Data columns (total 6 columns):\n",
      " #   Column    Non-Null Count  Dtype         \n",
      "---  ------    --------------  -----         \n",
      " 0   url       13418 non-null  object        \n",
      " 1   title     13418 non-null  object        \n",
      " 2   summary   13418 non-null  object        \n",
      " 3   date      13418 non-null  datetime64[ns]\n",
      " 4   category  13418 non-null  object        \n",
      " 5   tickers   13418 non-null  object        \n",
      "dtypes: datetime64[ns](1), object(5)\n",
      "memory usage: 629.1+ KB\n"
     ]
    }
   ],
   "source": [
    "general_news.info()"
   ],
   "metadata": {
    "collapsed": false,
    "pycharm": {
     "name": "#%%\n"
    }
   }
  },
  {
   "cell_type": "code",
   "execution_count": 5,
   "outputs": [
    {
     "name": "stdout",
     "output_type": "stream",
     "text": [
      "<class 'pandas.core.frame.DataFrame'>\n",
      "RangeIndex: 5445 entries, 0 to 5444\n",
      "Data columns (total 3 columns):\n",
      " #   Column  Non-Null Count  Dtype         \n",
      "---  ------  --------------  -----         \n",
      " 0   ticker  5445 non-null   object        \n",
      " 1   price   5445 non-null   float64       \n",
      " 2   date    5445 non-null   datetime64[ns]\n",
      "dtypes: datetime64[ns](1), float64(1), object(1)\n",
      "memory usage: 127.7+ KB\n"
     ]
    }
   ],
   "source": [
    "prices.info()"
   ],
   "metadata": {
    "collapsed": false,
    "pycharm": {
     "name": "#%%\n"
    }
   }
  },
  {
   "cell_type": "code",
   "execution_count": 6,
   "outputs": [
    {
     "name": "stdout",
     "output_type": "stream",
     "text": [
      "<class 'pandas.core.frame.DataFrame'>\n",
      "RangeIndex: 7115 entries, 0 to 7114\n",
      "Data columns (total 6 columns):\n",
      " #   Column    Non-Null Count  Dtype         \n",
      "---  ------    --------------  -----         \n",
      " 0   url       7115 non-null   object        \n",
      " 1   title     7115 non-null   object        \n",
      " 2   summary   7115 non-null   object        \n",
      " 3   date      7115 non-null   datetime64[ns]\n",
      " 4   category  0 non-null      float64       \n",
      " 5   tickers   7115 non-null   object        \n",
      "dtypes: datetime64[ns](1), float64(1), object(4)\n",
      "memory usage: 333.6+ KB\n"
     ]
    }
   ],
   "source": [
    "ticker_news.info()"
   ],
   "metadata": {
    "collapsed": false,
    "pycharm": {
     "name": "#%%\n"
    }
   }
  },
  {
   "cell_type": "code",
   "execution_count": 7,
   "outputs": [
    {
     "data": {
      "text/plain": "array(['META', 'AAPL', 'GOOGL', 'NFLX', 'AMZN', '^GSPC'], dtype=object)"
     },
     "execution_count": 7,
     "metadata": {},
     "output_type": "execute_result"
    }
   ],
   "source": [
    "tickers = prices.ticker.unique()\n",
    "tickers"
   ],
   "metadata": {
    "collapsed": false,
    "pycharm": {
     "name": "#%%\n"
    }
   }
  },
  {
   "cell_type": "markdown",
   "source": [
    "## Initial text preprocessing\n",
    "Remove *Yahoo!Finance* special terms from the news titles"
   ],
   "metadata": {
    "collapsed": false,
    "pycharm": {
     "name": "#%% md\n"
    }
   }
  },
  {
   "cell_type": "code",
   "execution_count": 8,
   "outputs": [],
   "source": [
    "def remove_terms(row):\n",
    "    i = row.title.find('-')\n",
    "    if i != -1 and i < 30 and (row.title[i + 1].isupper() or row.title[i + 1].isnumeric()):\n",
    "        row.title = row.title.split('-', 1)[1]\n",
    "    return row\n",
    "\n",
    "def df_remove_terms(df):\n",
    "    return df.apply(lambda row: remove_terms(row), axis=1)"
   ],
   "metadata": {
    "collapsed": false,
    "pycharm": {
     "name": "#%%\n"
    }
   }
  },
  {
   "cell_type": "markdown",
   "source": [
    "Drop duplicates [url, titles]"
   ],
   "metadata": {
    "collapsed": false,
    "pycharm": {
     "name": "#%% md\n"
    }
   }
  },
  {
   "cell_type": "code",
   "execution_count": 9,
   "outputs": [],
   "source": [
    "def df_drop_duplicates(df, columns):\n",
    "    return df.drop_duplicates(columns)"
   ],
   "metadata": {
    "collapsed": false,
    "pycharm": {
     "name": "#%%\n"
    }
   }
  },
  {
   "cell_type": "markdown",
   "source": [
    "Drop news unrelated to relevant tickers"
   ],
   "metadata": {
    "collapsed": false,
    "pycharm": {
     "name": "#%% md\n"
    }
   }
  },
  {
   "cell_type": "code",
   "execution_count": 10,
   "outputs": [],
   "source": [
    "def has_relevant_tickers(news_tickers):\n",
    "    return len(set(news_tickers)) == 0 or len(set(news_tickers).intersection(set(tickers))) != 0\n",
    "\n",
    "def df_drop_irrelevant_tickers(df):\n",
    "    return df[df.apply(lambda row: has_relevant_tickers(row.tickers), axis=1)]"
   ],
   "metadata": {
    "collapsed": false,
    "pycharm": {
     "name": "#%%\n"
    }
   }
  },
  {
   "cell_type": "markdown",
   "source": [
    "Drop titles containing less than 30 symbols"
   ],
   "metadata": {
    "collapsed": false,
    "pycharm": {
     "name": "#%% md\n"
    }
   }
  },
  {
   "cell_type": "code",
   "execution_count": 11,
   "outputs": [],
   "source": [
    "def df_drop_short_titles(df):\n",
    "    return df[df.apply(lambda row: len(row.title) >= 30, axis=1)]"
   ],
   "metadata": {
    "collapsed": false,
    "pycharm": {
     "name": "#%%\n"
    }
   }
  },
  {
   "cell_type": "markdown",
   "source": [
    "Remove titles from *general_news* that are already included in *ticker_news* dataset"
   ],
   "metadata": {
    "collapsed": false,
    "pycharm": {
     "name": "#%% md\n"
    }
   }
  },
  {
   "cell_type": "code",
   "execution_count": 12,
   "outputs": [],
   "source": [
    "def df_remove_titles(df):\n",
    "    return df[~df.title.isin(ticker_news.title.values.tolist())]"
   ],
   "metadata": {
    "collapsed": false,
    "pycharm": {
     "name": "#%%\n"
    }
   }
  },
  {
   "cell_type": "markdown",
   "source": [
    "### Perform pre-processing steps\n",
    "Use the preprocessing steps introduced above on *general_news* and *ticker_news* datasets"
   ],
   "metadata": {
    "collapsed": false,
    "pycharm": {
     "name": "#%% md\n"
    }
   }
  },
  {
   "cell_type": "code",
   "execution_count": 13,
   "outputs": [
    {
     "name": "stdout",
     "output_type": "stream",
     "text": [
      "news: 13418 -> 6587\n"
     ]
    }
   ],
   "source": [
    "news_len = len(general_news)\n",
    "\n",
    "general_news = df_remove_terms(general_news)\n",
    "general_news = df_drop_duplicates(general_news, ['url'])\n",
    "general_news = df_drop_duplicates(general_news, ['title'])\n",
    "general_news = df_drop_short_titles(general_news)\n",
    "general_news = df_drop_irrelevant_tickers(general_news)\n",
    "general_news = df_remove_titles(general_news)\n",
    "\n",
    "print(f'news: {news_len} -> {len(general_news)}')"
   ],
   "metadata": {
    "collapsed": false,
    "pycharm": {
     "name": "#%%\n"
    }
   }
  },
  {
   "cell_type": "code",
   "execution_count": 14,
   "outputs": [
    {
     "name": "stdout",
     "output_type": "stream",
     "text": [
      "META news: 601 -> 445\n",
      "AAPL news: 1057 -> 771\n",
      "GOOGL news: 664 -> 433\n",
      "NFLX news: 348 -> 257\n",
      "AMZN news: 1053 -> 788\n",
      "^GSPC news: 3392 -> 2383\n"
     ]
    }
   ],
   "source": [
    "ticker_news_len = {}\n",
    "for ticker in tickers:\n",
    "    ticker_news_len[ticker] = len(ticker_news[ticker_news.apply(lambda row: ticker in list(row.tickers), axis=1)])\n",
    "\n",
    "ticker_news = df_remove_terms(ticker_news)\n",
    "ticker_news = df_drop_duplicates(ticker_news, ['url'])\n",
    "ticker_news = df_drop_duplicates(ticker_news, ['title'])\n",
    "ticker_news = df_drop_short_titles(ticker_news)\n",
    "ticker_news = df_drop_irrelevant_tickers(ticker_news)\n",
    "\n",
    "for ticker in tickers:\n",
    "    print(f'{ticker} news: {ticker_news_len[ticker]} -> {len(ticker_news[ticker_news.apply(lambda row: ticker in list(row.tickers), axis=1)])}')"
   ],
   "metadata": {
    "collapsed": false,
    "pycharm": {
     "name": "#%%\n"
    }
   }
  },
  {
   "cell_type": "markdown",
   "source": [
    "## Sentiment Classification Pipeline\n",
    "Prepare the text classification pipeline used to assign news articles respective sentiment scores\n",
    "The pipeline uses **WordPiece** tokenization and **FinBERT** text classification model"
   ],
   "metadata": {
    "collapsed": false,
    "pycharm": {
     "name": "#%% md\n"
    }
   }
  },
  {
   "cell_type": "code",
   "execution_count": 15,
   "outputs": [],
   "source": [
    "from transformers import AutoModelForSequenceClassification, AutoTokenizer, AutoConfig, TextClassificationPipeline"
   ],
   "metadata": {
    "collapsed": false,
    "pycharm": {
     "name": "#%%\n"
    }
   }
  },
  {
   "cell_type": "code",
   "execution_count": 16,
   "outputs": [],
   "source": [
    "model_name = \"ProsusAI/finbert\"\n",
    "labels = ['negative', 'neutral', 'positive']"
   ],
   "metadata": {
    "collapsed": false,
    "pycharm": {
     "name": "#%%\n"
    }
   }
  },
  {
   "cell_type": "code",
   "execution_count": 17,
   "outputs": [],
   "source": [
    "tokenizer = AutoTokenizer.from_pretrained(model_name)"
   ],
   "metadata": {
    "collapsed": false,
    "pycharm": {
     "name": "#%%\n"
    }
   }
  },
  {
   "cell_type": "code",
   "execution_count": 18,
   "outputs": [],
   "source": [
    "config = AutoConfig.from_pretrained(model_name, num_labels=len(labels))\n",
    "model = AutoModelForSequenceClassification.from_pretrained(model_name, config=config).to('cuda')"
   ],
   "metadata": {
    "collapsed": false,
    "pycharm": {
     "name": "#%%\n"
    }
   }
  },
  {
   "cell_type": "code",
   "execution_count": 19,
   "outputs": [],
   "source": [
    "pipe = TextClassificationPipeline(model=model, tokenizer=tokenizer, device=0)"
   ],
   "metadata": {
    "collapsed": false,
    "pycharm": {
     "name": "#%%\n"
    }
   }
  },
  {
   "cell_type": "markdown",
   "source": [
    "## Sentiment scores\n",
    "The text classification pipeline assigns each title a sentiment score: the probability of it expressing a *negative*, *neutral* or *positive* market sentiment."
   ],
   "metadata": {
    "collapsed": false,
    "pycharm": {
     "name": "#%% md\n"
    }
   }
  },
  {
   "cell_type": "code",
   "execution_count": 20,
   "outputs": [],
   "source": [
    "def sentiment_score(row, col='title'):\n",
    "    scores = pipe(row[col], top_k=len(labels))\n",
    "    score_dict = {score['label']: score['score'] for score in scores}\n",
    "    row[f'{col}_label'] = scores[0]['label']\n",
    "    row.negative, row.neutral, row.positive = score_dict['negative'], score_dict['neutral'], score_dict['positive']\n",
    "    return row\n",
    "\n",
    "def df_sentiment_score(df, col='title'):\n",
    "    df[f'{col}_label'] = None\n",
    "    df['negative'] = df['neutral'] = df['positive'] = 0\n",
    "    return df.apply(lambda row: sentiment_score(row, col), axis=1)"
   ],
   "metadata": {
    "collapsed": false,
    "pycharm": {
     "name": "#%%\n"
    }
   }
  },
  {
   "cell_type": "markdown",
   "source": [
    "Assign sentiment scores to *general_news* and *ticker_news* article titles\n",
    "Save labels for article titles and summary for comparison"
   ],
   "metadata": {
    "collapsed": false,
    "pycharm": {
     "name": "#%% md\n"
    }
   }
  },
  {
   "cell_type": "code",
   "execution_count": 21,
   "outputs": [
    {
     "data": {
      "text/plain": "                                                 url  \\\n0  https://finance.yahoo.com/news/1-u-n-mulls-sen...   \n1  https://finance.yahoo.com/news/britain-denies-...   \n4  https://finance.yahoo.com/news/ukraine-questio...   \n6  https://finance.yahoo.com/news/ukraine-latest-...   \n7  https://finance.yahoo.com/news/strong-dollar-s...   \n\n                                               title  \\\n0  As U.N. mulls sending troops to Haiti, a gang'...   \n1  Britain denies Russian claims that its navy pe...   \n4  Ukraine questions Twitter takeover amid precar...   \n6  Ukraine Latest: Russia Says UK Involved in Nav...   \n7  Strong Dollar Seen Hurting US Outlook and Even...   \n\n                                             summary                date  \\\n0  As Haiti's gang-induced humanitarian crisis de... 2022-10-29 12:43:23   \n1  Britain on Saturday denied Russian claims that... 2022-10-29 12:47:11   \n4  A senior Ukrainian official expressed sceptici... 2022-10-29 14:21:07   \n6  (Bloomberg) -- Most Read from BloombergTesla E... 2022-10-29 14:32:04   \n7  (Bloomberg) -- A strong dollar is likely to we... 2022-10-29 13:15:00   \n\n   category tickers title_label  negative   neutral  positive  \n0     World      []    negative  0.598501  0.334350  0.067149  \n1     World      []    negative  0.865720  0.098223  0.036057  \n4     World      []    negative  0.946472  0.038674  0.014854  \n6     World      []     neutral  0.132021  0.829115  0.038864  \n7  Business      []    negative  0.925865  0.037888  0.036247  ",
      "text/html": "<div>\n<style scoped>\n    .dataframe tbody tr th:only-of-type {\n        vertical-align: middle;\n    }\n\n    .dataframe tbody tr th {\n        vertical-align: top;\n    }\n\n    .dataframe thead th {\n        text-align: right;\n    }\n</style>\n<table border=\"1\" class=\"dataframe\">\n  <thead>\n    <tr style=\"text-align: right;\">\n      <th></th>\n      <th>url</th>\n      <th>title</th>\n      <th>summary</th>\n      <th>date</th>\n      <th>category</th>\n      <th>tickers</th>\n      <th>title_label</th>\n      <th>negative</th>\n      <th>neutral</th>\n      <th>positive</th>\n    </tr>\n  </thead>\n  <tbody>\n    <tr>\n      <th>0</th>\n      <td>https://finance.yahoo.com/news/1-u-n-mulls-sen...</td>\n      <td>As U.N. mulls sending troops to Haiti, a gang'...</td>\n      <td>As Haiti's gang-induced humanitarian crisis de...</td>\n      <td>2022-10-29 12:43:23</td>\n      <td>World</td>\n      <td>[]</td>\n      <td>negative</td>\n      <td>0.598501</td>\n      <td>0.334350</td>\n      <td>0.067149</td>\n    </tr>\n    <tr>\n      <th>1</th>\n      <td>https://finance.yahoo.com/news/britain-denies-...</td>\n      <td>Britain denies Russian claims that its navy pe...</td>\n      <td>Britain on Saturday denied Russian claims that...</td>\n      <td>2022-10-29 12:47:11</td>\n      <td>World</td>\n      <td>[]</td>\n      <td>negative</td>\n      <td>0.865720</td>\n      <td>0.098223</td>\n      <td>0.036057</td>\n    </tr>\n    <tr>\n      <th>4</th>\n      <td>https://finance.yahoo.com/news/ukraine-questio...</td>\n      <td>Ukraine questions Twitter takeover amid precar...</td>\n      <td>A senior Ukrainian official expressed sceptici...</td>\n      <td>2022-10-29 14:21:07</td>\n      <td>World</td>\n      <td>[]</td>\n      <td>negative</td>\n      <td>0.946472</td>\n      <td>0.038674</td>\n      <td>0.014854</td>\n    </tr>\n    <tr>\n      <th>6</th>\n      <td>https://finance.yahoo.com/news/ukraine-latest-...</td>\n      <td>Ukraine Latest: Russia Says UK Involved in Nav...</td>\n      <td>(Bloomberg) -- Most Read from BloombergTesla E...</td>\n      <td>2022-10-29 14:32:04</td>\n      <td>World</td>\n      <td>[]</td>\n      <td>neutral</td>\n      <td>0.132021</td>\n      <td>0.829115</td>\n      <td>0.038864</td>\n    </tr>\n    <tr>\n      <th>7</th>\n      <td>https://finance.yahoo.com/news/strong-dollar-s...</td>\n      <td>Strong Dollar Seen Hurting US Outlook and Even...</td>\n      <td>(Bloomberg) -- A strong dollar is likely to we...</td>\n      <td>2022-10-29 13:15:00</td>\n      <td>Business</td>\n      <td>[]</td>\n      <td>negative</td>\n      <td>0.925865</td>\n      <td>0.037888</td>\n      <td>0.036247</td>\n    </tr>\n  </tbody>\n</table>\n</div>"
     },
     "execution_count": 21,
     "metadata": {},
     "output_type": "execute_result"
    }
   ],
   "source": [
    "general_news = df_sentiment_score(general_news, 'title')\n",
    "general_news.head()"
   ],
   "metadata": {
    "collapsed": false,
    "pycharm": {
     "name": "#%%\n"
    }
   }
  },
  {
   "cell_type": "code",
   "execution_count": 22,
   "outputs": [
    {
     "data": {
      "text/plain": "                                                 url  \\\n0  https://www.barrons.com/articles/bitcoin-digit...   \n2  https://finance.yahoo.com/news/making-sense-bi...   \n4  https://www.bizjournals.com/denver/news/2022/1...   \n5  https://www.thestreet.com/technology/amazon-lo...   \n6  https://www.investors.com/market-trend/stock-m...   \n\n                                               title  \\\n0  Digital Dollars Could Be a Boon for Amazon, Al...   \n2  Making Sense of Big Tech Earnings After Amazon...   \n4  ULA, partners start expansions to ahead of Pro...   \n5         Amazon Briefly Leaves the $1 Trillion Club   \n6  Dow Jones Futures: Market Rally Revs Higher, T...   \n\n                                             summary                date  \\\n0  Companies like Amazon.com, Alphabet, and Accen... 2022-10-29 12:27:00   \n2  The earnings bombshells from Amazon and Meta a... 2022-10-28 22:44:10   \n4  Colorado aerospace company United Launch Allia... 2022-10-28 20:57:12   \n5  The e-commerce giant falls after delivering di... 2022-10-28 20:47:00   \n6  The stock market rally faced hurdles but revve... 2022-10-29 12:10:31   \n\n   category tickers title_label  negative   neutral  positive  \n0       NaN  [AMZN]     neutral  0.064423  0.681635  0.253942  \n2       NaN  [AMZN]     neutral  0.016832  0.815436  0.167732  \n4       NaN  [AMZN]    positive  0.010957  0.334704  0.654339  \n5       NaN  [AMZN]     neutral  0.337673  0.627862  0.034464  \n6       NaN  [META]     neutral  0.066571  0.724576  0.208853  ",
      "text/html": "<div>\n<style scoped>\n    .dataframe tbody tr th:only-of-type {\n        vertical-align: middle;\n    }\n\n    .dataframe tbody tr th {\n        vertical-align: top;\n    }\n\n    .dataframe thead th {\n        text-align: right;\n    }\n</style>\n<table border=\"1\" class=\"dataframe\">\n  <thead>\n    <tr style=\"text-align: right;\">\n      <th></th>\n      <th>url</th>\n      <th>title</th>\n      <th>summary</th>\n      <th>date</th>\n      <th>category</th>\n      <th>tickers</th>\n      <th>title_label</th>\n      <th>negative</th>\n      <th>neutral</th>\n      <th>positive</th>\n    </tr>\n  </thead>\n  <tbody>\n    <tr>\n      <th>0</th>\n      <td>https://www.barrons.com/articles/bitcoin-digit...</td>\n      <td>Digital Dollars Could Be a Boon for Amazon, Al...</td>\n      <td>Companies like Amazon.com, Alphabet, and Accen...</td>\n      <td>2022-10-29 12:27:00</td>\n      <td>NaN</td>\n      <td>[AMZN]</td>\n      <td>neutral</td>\n      <td>0.064423</td>\n      <td>0.681635</td>\n      <td>0.253942</td>\n    </tr>\n    <tr>\n      <th>2</th>\n      <td>https://finance.yahoo.com/news/making-sense-bi...</td>\n      <td>Making Sense of Big Tech Earnings After Amazon...</td>\n      <td>The earnings bombshells from Amazon and Meta a...</td>\n      <td>2022-10-28 22:44:10</td>\n      <td>NaN</td>\n      <td>[AMZN]</td>\n      <td>neutral</td>\n      <td>0.016832</td>\n      <td>0.815436</td>\n      <td>0.167732</td>\n    </tr>\n    <tr>\n      <th>4</th>\n      <td>https://www.bizjournals.com/denver/news/2022/1...</td>\n      <td>ULA, partners start expansions to ahead of Pro...</td>\n      <td>Colorado aerospace company United Launch Allia...</td>\n      <td>2022-10-28 20:57:12</td>\n      <td>NaN</td>\n      <td>[AMZN]</td>\n      <td>positive</td>\n      <td>0.010957</td>\n      <td>0.334704</td>\n      <td>0.654339</td>\n    </tr>\n    <tr>\n      <th>5</th>\n      <td>https://www.thestreet.com/technology/amazon-lo...</td>\n      <td>Amazon Briefly Leaves the $1 Trillion Club</td>\n      <td>The e-commerce giant falls after delivering di...</td>\n      <td>2022-10-28 20:47:00</td>\n      <td>NaN</td>\n      <td>[AMZN]</td>\n      <td>neutral</td>\n      <td>0.337673</td>\n      <td>0.627862</td>\n      <td>0.034464</td>\n    </tr>\n    <tr>\n      <th>6</th>\n      <td>https://www.investors.com/market-trend/stock-m...</td>\n      <td>Dow Jones Futures: Market Rally Revs Higher, T...</td>\n      <td>The stock market rally faced hurdles but revve...</td>\n      <td>2022-10-29 12:10:31</td>\n      <td>NaN</td>\n      <td>[META]</td>\n      <td>neutral</td>\n      <td>0.066571</td>\n      <td>0.724576</td>\n      <td>0.208853</td>\n    </tr>\n  </tbody>\n</table>\n</div>"
     },
     "execution_count": 22,
     "metadata": {},
     "output_type": "execute_result"
    }
   ],
   "source": [
    "ticker_news = df_sentiment_score(ticker_news, 'title')\n",
    "ticker_news.head()"
   ],
   "metadata": {
    "collapsed": false,
    "pycharm": {
     "name": "#%%\n"
    }
   }
  },
  {
   "cell_type": "markdown",
   "source": [
    "### Sentiment score analysis\n",
    "Analyse *general_news* and *ticker_news* datasets sentiment classes distribution"
   ],
   "metadata": {
    "collapsed": false,
    "pycharm": {
     "name": "#%% md\n"
    }
   }
  },
  {
   "cell_type": "code",
   "execution_count": 23,
   "outputs": [],
   "source": [
    "from collections import Counter"
   ],
   "metadata": {
    "collapsed": false,
    "pycharm": {
     "name": "#%%\n"
    }
   }
  },
  {
   "cell_type": "code",
   "execution_count": 24,
   "outputs": [
    {
     "data": {
      "text/plain": "Counter({'negative': 2558, 'neutral': 2460, 'positive': 1569})"
     },
     "execution_count": 24,
     "metadata": {},
     "output_type": "execute_result"
    }
   ],
   "source": [
    "Counter(general_news.title_label)"
   ],
   "metadata": {
    "collapsed": false,
    "pycharm": {
     "name": "#%%\n"
    }
   }
  },
  {
   "cell_type": "code",
   "execution_count": 25,
   "outputs": [
    {
     "data": {
      "text/plain": "Counter({'neutral': 2423, 'positive': 848, 'negative': 1806})"
     },
     "execution_count": 25,
     "metadata": {},
     "output_type": "execute_result"
    }
   ],
   "source": [
    "Counter(ticker_news.title_label)"
   ],
   "metadata": {
    "collapsed": false,
    "pycharm": {
     "name": "#%%\n"
    }
   }
  },
  {
   "cell_type": "markdown",
   "source": [
    "## Ticker prices pre-processing\n",
    "All the operations on the *prices* dataset are performed per ticker\n",
    "The ticker prices were generally scrapped with 15 min intervals\n",
    "To ease the processing of the timestamps they are standardized (rounded up to the nearest quarter), redundant timestamps are removed"
   ],
   "metadata": {
    "collapsed": false,
    "pycharm": {
     "name": "#%% md\n"
    }
   }
  },
  {
   "cell_type": "code",
   "execution_count": 26,
   "outputs": [
    {
     "data": {
      "text/plain": "  ticker   price                date\n0   META   99.20 2022-10-28 20:00:04\n1   AAPL  155.74 2022-10-28 20:00:04\n2  GOOGL   96.29 2022-10-28 20:00:04\n3   NFLX  295.72 2022-10-28 20:00:04\n4   AMZN  103.41 2022-10-28 20:00:04",
      "text/html": "<div>\n<style scoped>\n    .dataframe tbody tr th:only-of-type {\n        vertical-align: middle;\n    }\n\n    .dataframe tbody tr th {\n        vertical-align: top;\n    }\n\n    .dataframe thead th {\n        text-align: right;\n    }\n</style>\n<table border=\"1\" class=\"dataframe\">\n  <thead>\n    <tr style=\"text-align: right;\">\n      <th></th>\n      <th>ticker</th>\n      <th>price</th>\n      <th>date</th>\n    </tr>\n  </thead>\n  <tbody>\n    <tr>\n      <th>0</th>\n      <td>META</td>\n      <td>99.20</td>\n      <td>2022-10-28 20:00:04</td>\n    </tr>\n    <tr>\n      <th>1</th>\n      <td>AAPL</td>\n      <td>155.74</td>\n      <td>2022-10-28 20:00:04</td>\n    </tr>\n    <tr>\n      <th>2</th>\n      <td>GOOGL</td>\n      <td>96.29</td>\n      <td>2022-10-28 20:00:04</td>\n    </tr>\n    <tr>\n      <th>3</th>\n      <td>NFLX</td>\n      <td>295.72</td>\n      <td>2022-10-28 20:00:04</td>\n    </tr>\n    <tr>\n      <th>4</th>\n      <td>AMZN</td>\n      <td>103.41</td>\n      <td>2022-10-28 20:00:04</td>\n    </tr>\n  </tbody>\n</table>\n</div>"
     },
     "execution_count": 26,
     "metadata": {},
     "output_type": "execute_result"
    }
   ],
   "source": [
    "prices.head()"
   ],
   "metadata": {
    "collapsed": false,
    "pycharm": {
     "name": "#%%\n"
    }
   }
  },
  {
   "cell_type": "code",
   "execution_count": 27,
   "outputs": [],
   "source": [
    "def round_dt(df, row, delta='15min'):\n",
    "    dt_floor, dt_ceil = row.date.floor(delta), row.date.ceil(delta)\n",
    "    row.date = dt_ceil if dt_floor in df.date.tolist() else dt_floor\n",
    "    return row\n",
    "\n",
    "def df_round_dt(df, delta='15min'):\n",
    "    return df.apply(lambda row: round_dt(df, row, delta), axis=1)"
   ],
   "metadata": {
    "collapsed": false,
    "pycharm": {
     "name": "#%%\n"
    }
   }
  },
  {
   "cell_type": "markdown",
   "source": [
    "Add an hour to timestamps before Sunday, November 6 to account for the US daylight saving time"
   ],
   "metadata": {
    "collapsed": false,
    "pycharm": {
     "name": "#%% md\n"
    }
   }
  },
  {
   "cell_type": "code",
   "execution_count": 28,
   "outputs": [],
   "source": [
    "def account_dst(row):\n",
    "    if row.date < pd.Timestamp('2022-11-06'):\n",
    "        row.date += pd.DateOffset(hours=1)\n",
    "    return row\n",
    "\n",
    "def df_account_dst(df):\n",
    "    return df.apply(lambda row: account_dst(row), axis=1)"
   ],
   "metadata": {
    "collapsed": false,
    "pycharm": {
     "name": "#%%\n"
    }
   }
  },
  {
   "cell_type": "markdown",
   "source": [],
   "metadata": {
    "collapsed": false,
    "pycharm": {
     "name": "#%% md\n"
    }
   }
  },
  {
   "cell_type": "code",
   "execution_count": 29,
   "outputs": [
    {
     "name": "stdout",
     "output_type": "stream",
     "text": [
      "META prices:\t889 -> 873\n",
      "AAPL prices:\t897 -> 878\n",
      "GOOGL prices:\t903 -> 881\n",
      "NFLX prices:\t892 -> 876\n",
      "AMZN prices:\t900 -> 884\n",
      "^GSPC prices:\t964 -> 937\n"
     ]
    }
   ],
   "source": [
    "ticker_dfs = {}\n",
    "\n",
    "for ticker in tickers:\n",
    "    ticker_df = prices[prices.ticker == ticker]\n",
    "    df_len = len(ticker_df)\n",
    "\n",
    "    ticker_df = df_round_dt(ticker_df)\n",
    "    ticker_df = df_account_dst(ticker_df)\n",
    "    ticker_df = df_drop_duplicates(ticker_df, 'date')\n",
    "\n",
    "    ticker_dfs[ticker] = ticker_df\n",
    "    print(f'{ticker} prices:\\t{df_len} -> {len(ticker_df)}')"
   ],
   "metadata": {
    "collapsed": false,
    "pycharm": {
     "name": "#%%\n"
    }
   }
  },
  {
   "cell_type": "markdown",
   "source": [
    "## Technical indicators\n",
    "Add intraday *returns* and *moving overage* indicators with periods in [10, 30, 60]"
   ],
   "metadata": {
    "collapsed": false,
    "pycharm": {
     "name": "#%% md\n"
    }
   }
  },
  {
   "cell_type": "code",
   "execution_count": 30,
   "outputs": [],
   "source": [
    "def df_returns(df):\n",
    "    df['return'] = df.price - df.price.shift(1)\n",
    "    return df"
   ],
   "metadata": {
    "collapsed": false,
    "pycharm": {
     "name": "#%%\n"
    }
   }
  },
  {
   "cell_type": "code",
   "execution_count": 31,
   "outputs": [],
   "source": [
    "def df_ma(df, period):\n",
    "    df[f'ma_{period}'] = df.price.rolling(period).mean()\n",
    "    return df"
   ],
   "metadata": {
    "collapsed": false,
    "pycharm": {
     "name": "#%%\n"
    }
   }
  },
  {
   "cell_type": "code",
   "execution_count": 32,
   "outputs": [],
   "source": [
    "for ticker, ticker_df in ticker_dfs.items():\n",
    "    ticker_df = df_returns(ticker_df)\n",
    "    ticker_df = df_ma(ticker_df, 10)\n",
    "    ticker_df = df_ma(ticker_df, 30)\n",
    "    ticker_df = df_ma(ticker_df, 60)"
   ],
   "metadata": {
    "collapsed": false,
    "pycharm": {
     "name": "#%%\n"
    }
   }
  },
  {
   "cell_type": "code",
   "execution_count": 33,
   "outputs": [
    {
     "data": {
      "text/plain": "     ticker   price                date  return     ma_10      ma_30  \\\n5414  GOOGL  90.065 2022-12-16 20:00:00   0.175  89.94016  90.272003   \n5423  GOOGL  90.350 2022-12-16 20:15:00   0.285  89.99366  90.266503   \n5428  GOOGL  90.660 2022-12-16 20:30:00   0.310  90.05650  90.266837   \n5436  GOOGL  90.700 2022-12-16 20:45:00   0.040  90.13900  90.261170   \n5437  GOOGL  90.260 2022-12-16 21:00:00  -0.440  90.16800  90.237503   \n\n          ma_60  \n5414  91.326163  \n5423  91.229080  \n5428  91.163747  \n5436  91.094913  \n5437  91.028247  ",
      "text/html": "<div>\n<style scoped>\n    .dataframe tbody tr th:only-of-type {\n        vertical-align: middle;\n    }\n\n    .dataframe tbody tr th {\n        vertical-align: top;\n    }\n\n    .dataframe thead th {\n        text-align: right;\n    }\n</style>\n<table border=\"1\" class=\"dataframe\">\n  <thead>\n    <tr style=\"text-align: right;\">\n      <th></th>\n      <th>ticker</th>\n      <th>price</th>\n      <th>date</th>\n      <th>return</th>\n      <th>ma_10</th>\n      <th>ma_30</th>\n      <th>ma_60</th>\n    </tr>\n  </thead>\n  <tbody>\n    <tr>\n      <th>5414</th>\n      <td>GOOGL</td>\n      <td>90.065</td>\n      <td>2022-12-16 20:00:00</td>\n      <td>0.175</td>\n      <td>89.94016</td>\n      <td>90.272003</td>\n      <td>91.326163</td>\n    </tr>\n    <tr>\n      <th>5423</th>\n      <td>GOOGL</td>\n      <td>90.350</td>\n      <td>2022-12-16 20:15:00</td>\n      <td>0.285</td>\n      <td>89.99366</td>\n      <td>90.266503</td>\n      <td>91.229080</td>\n    </tr>\n    <tr>\n      <th>5428</th>\n      <td>GOOGL</td>\n      <td>90.660</td>\n      <td>2022-12-16 20:30:00</td>\n      <td>0.310</td>\n      <td>90.05650</td>\n      <td>90.266837</td>\n      <td>91.163747</td>\n    </tr>\n    <tr>\n      <th>5436</th>\n      <td>GOOGL</td>\n      <td>90.700</td>\n      <td>2022-12-16 20:45:00</td>\n      <td>0.040</td>\n      <td>90.13900</td>\n      <td>90.261170</td>\n      <td>91.094913</td>\n    </tr>\n    <tr>\n      <th>5437</th>\n      <td>GOOGL</td>\n      <td>90.260</td>\n      <td>2022-12-16 21:00:00</td>\n      <td>-0.440</td>\n      <td>90.16800</td>\n      <td>90.237503</td>\n      <td>91.028247</td>\n    </tr>\n  </tbody>\n</table>\n</div>"
     },
     "execution_count": 33,
     "metadata": {},
     "output_type": "execute_result"
    }
   ],
   "source": [
    "ticker_dfs['GOOGL'].tail()"
   ],
   "metadata": {
    "collapsed": false,
    "pycharm": {
     "name": "#%%\n"
    }
   }
  },
  {
   "cell_type": "markdown",
   "source": [
    "Analyse the percentage of negative returns for each ticker"
   ],
   "metadata": {
    "collapsed": false,
    "pycharm": {
     "name": "#%% md\n"
    }
   }
  },
  {
   "cell_type": "code",
   "execution_count": 34,
   "outputs": [
    {
     "name": "stdout",
     "output_type": "stream",
     "text": [
      "Negative returns share META:\t49%\n",
      "Negative returns share AAPL:\t49%\n",
      "Negative returns share GOOGL:\t51%\n",
      "Negative returns share NFLX:\t50%\n",
      "Negative returns share AMZN:\t52%\n",
      "Negative returns share ^GSPC:\t46%\n"
     ]
    }
   ],
   "source": [
    "for ticker, ticker_df in ticker_dfs.items():\n",
    "    print(f'Negative returns share {ticker}:\\t{round(len(ticker_df[ticker_df[\"return\"] < 0]) / len(ticker_df) * 100)}%')"
   ],
   "metadata": {
    "collapsed": false,
    "pycharm": {
     "name": "#%%\n"
    }
   }
  },
  {
   "cell_type": "markdown",
   "source": [
    "## Fundamental indicators: sentiment values\n",
    "Add sentiment value for each data point in *prices* dataset. Sentiment value is calculated as a sum of sentiment scores of individual news articles with date of issue in (previous timestamp, current timestamp). General news are considered to have the same impact on all tickers, while ticker specific news are computed individually."
   ],
   "metadata": {
    "collapsed": false,
    "pycharm": {
     "name": "#%% md\n"
    }
   }
  },
  {
   "cell_type": "code",
   "execution_count": 35,
   "outputs": [],
   "source": [
    "def compute_sent_value(df, dt1, dt2, prefix='general', mode='sum'):\n",
    "    if mode == 'sum':\n",
    "        return df[(df.date >= dt1) & (df.date <= dt2)][labels].sum().fillna(0).rename(lambda c: f'{prefix}_{c}_{mode}').to_frame().T\n",
    "    else:\n",
    "        return df[(df.date >= dt1) & (df.date <= dt2)][labels].mean().fillna(0).rename(lambda c: f'{prefix}_{c}_{mode}').to_frame().T\n",
    "\n",
    "def df_compute_sent_value(df, df_sentiment, prefix='general', mode='sum'):\n",
    "    sentiment_values = pd.concat([compute_sent_value(df_sentiment, dt1, dt2, prefix, mode) for dt1, dt2 in zip(list(df.date), list(df.shift(-1).date))])\n",
    "    return pd.concat([df.reset_index(drop=True), sentiment_values.reset_index(drop=True)], axis=1)"
   ],
   "metadata": {
    "collapsed": false,
    "pycharm": {
     "name": "#%%\n"
    }
   }
  },
  {
   "cell_type": "markdown",
   "source": [
    "Add sentiment value for each data point in *prices* dataset. Sentiment value is calculated as a count of individual negative, neutral and positive news articles with date of issue in (previous timestamp, current timestamp). General news are considered to have the same impact on all tickers, while ticker specific news are computed individually."
   ],
   "metadata": {
    "collapsed": false,
    "pycharm": {
     "name": "#%% md\n"
    }
   }
  },
  {
   "cell_type": "code",
   "execution_count": 36,
   "outputs": [],
   "source": [
    "def count_sent_value(df, dt1, dt2, prefix='general'):\n",
    "    return df[(df.date >= dt1) & (df.date <= dt2)][[f'{l}_count' for l in labels]].sum().fillna(0).rename(lambda c: f'{prefix}_{c}').to_frame().T\n",
    "\n",
    "def df_count_sent_value(df, df_sentiment, prefix='general'):\n",
    "    df_sentiment_new = pd.concat([df_sentiment, pd.get_dummies(df_sentiment.title_label).rename(lambda c: f'{c}_count', axis=1)], axis=1)\n",
    "    sentiment_values = pd.concat([count_sent_value(df_sentiment_new, dt1, dt2, prefix) for dt1, dt2 in zip(list(df.date), list(df.shift(-1).date))])\n",
    "    return pd.concat([df.reset_index(drop=True), sentiment_values.reset_index(drop=True)], axis=1)"
   ],
   "metadata": {
    "collapsed": false,
    "pycharm": {
     "name": "#%%\n"
    }
   }
  },
  {
   "cell_type": "markdown",
   "source": [
    "Add sentiment value for each data point in prices dataset. Sentiment value is calculated as a mean of general news mean sentiment and company specific mean sentiment"
   ],
   "metadata": {
    "collapsed": false,
    "pycharm": {
     "name": "#%% md\n"
    }
   }
  },
  {
   "cell_type": "code",
   "execution_count": 37,
   "outputs": [],
   "source": [
    "def df_compute_gen_com_sent_value(df):\n",
    "    df['gen_com_negative_mean'] = df[['general_negative_mean', 'company_negative_mean']].mean(axis=1)\n",
    "    df['gen_com_neutral_mean'] = df[['general_neutral_mean', 'company_neutral_mean']].mean(axis=1)\n",
    "    df['gen_com_positive_mean'] = df[['general_positive_mean', 'company_positive_mean']].mean(axis=1)\n",
    "    return df"
   ],
   "metadata": {
    "collapsed": false,
    "pycharm": {
     "name": "#%%\n"
    }
   }
  },
  {
   "cell_type": "markdown",
   "source": [
    "Add fundamental indicators"
   ],
   "metadata": {
    "collapsed": false,
    "pycharm": {
     "name": "#%% md\n"
    }
   }
  },
  {
   "cell_type": "code",
   "execution_count": 38,
   "outputs": [],
   "source": [
    "for ticker, ticker_df in ticker_dfs.items():\n",
    "    ticker_df = df_compute_sent_value(ticker_df, general_news, 'general', 'sum')\n",
    "    ticker_df = df_compute_sent_value(ticker_df, general_news, 'general', 'mean')\n",
    "\n",
    "    ticker_df = df_compute_sent_value(ticker_df, ticker_news[ticker_news.apply(lambda row: ticker in list(row.tickers), axis=1)], 'company', 'sum')\n",
    "    ticker_df = df_compute_sent_value(ticker_df, ticker_news[ticker_news.apply(lambda row: ticker in list(row.tickers), axis=1)], 'company', 'mean')\n",
    "\n",
    "    ticker_df = df_count_sent_value(ticker_df, general_news, 'general')\n",
    "\n",
    "    ticker_df = df_count_sent_value(ticker_df, ticker_news[ticker_news.apply(lambda row: ticker in list(row.tickers), axis=1)], 'company')\n",
    "\n",
    "    ticker_df = df_compute_gen_com_sent_value(ticker_df)\n",
    "\n",
    "    ticker_dfs[ticker] = ticker_df"
   ],
   "metadata": {
    "collapsed": false,
    "pycharm": {
     "name": "#%%\n"
    }
   }
  },
  {
   "cell_type": "markdown",
   "source": [
    "Potential feature set"
   ],
   "metadata": {
    "collapsed": false,
    "pycharm": {
     "name": "#%% md\n"
    }
   }
  },
  {
   "cell_type": "code",
   "execution_count": 39,
   "outputs": [
    {
     "name": "stdout",
     "output_type": "stream",
     "text": [
      "<class 'pandas.core.frame.DataFrame'>\n",
      "RangeIndex: 878 entries, 0 to 877\n",
      "Data columns (total 28 columns):\n",
      " #   Column                  Non-Null Count  Dtype         \n",
      "---  ------                  --------------  -----         \n",
      " 0   ticker                  878 non-null    object        \n",
      " 1   price                   878 non-null    float64       \n",
      " 2   date                    878 non-null    datetime64[ns]\n",
      " 3   return                  877 non-null    float64       \n",
      " 4   ma_10                   869 non-null    float64       \n",
      " 5   ma_30                   849 non-null    float64       \n",
      " 6   ma_60                   819 non-null    float64       \n",
      " 7   general_negative_sum    878 non-null    float64       \n",
      " 8   general_neutral_sum     878 non-null    float64       \n",
      " 9   general_positive_sum    878 non-null    float64       \n",
      " 10  general_negative_mean   878 non-null    float64       \n",
      " 11  general_neutral_mean    878 non-null    float64       \n",
      " 12  general_positive_mean   878 non-null    float64       \n",
      " 13  company_negative_sum    878 non-null    float64       \n",
      " 14  company_neutral_sum     878 non-null    float64       \n",
      " 15  company_positive_sum    878 non-null    float64       \n",
      " 16  company_negative_mean   878 non-null    float64       \n",
      " 17  company_neutral_mean    878 non-null    float64       \n",
      " 18  company_positive_mean   878 non-null    float64       \n",
      " 19  general_negative_count  878 non-null    float64       \n",
      " 20  general_neutral_count   878 non-null    float64       \n",
      " 21  general_positive_count  878 non-null    float64       \n",
      " 22  company_negative_count  878 non-null    float64       \n",
      " 23  company_neutral_count   878 non-null    float64       \n",
      " 24  company_positive_count  878 non-null    float64       \n",
      " 25  gen_com_negative_mean   878 non-null    float64       \n",
      " 26  gen_com_neutral_mean    878 non-null    float64       \n",
      " 27  gen_com_positive_mean   878 non-null    float64       \n",
      "dtypes: datetime64[ns](1), float64(26), object(1)\n",
      "memory usage: 192.2+ KB\n"
     ]
    }
   ],
   "source": [
    "ticker_dfs['AAPL'].info()"
   ],
   "metadata": {
    "collapsed": false,
    "pycharm": {
     "name": "#%%\n"
    }
   }
  },
  {
   "cell_type": "markdown",
   "source": [
    "# Hyperparameter tuning\n",
    "A subset of features computed above will be used for Infromer's hyperparameter tuning\n",
    "AAPL dataset with features [date, price, ma_30, general_negative_sum, general_neutral_sum, general_positive_sum, company_negative_sum, company_neutral_sum, company_positive_sum] is selected"
   ],
   "metadata": {
    "collapsed": false,
    "pycharm": {
     "name": "#%% md\n"
    }
   }
  },
  {
   "cell_type": "code",
   "execution_count": 40,
   "outputs": [],
   "source": [
    "features = ['date', 'price', 'return', 'ma_10', 'general_negative_sum', 'general_neutral_sum', 'general_positive_sum', 'company_negative_sum', 'company_neutral_sum', 'company_positive_sum']\n",
    "feature_num = len(features) - 1 # date is not considered a feature by the Informer\n",
    "target = 'price'"
   ],
   "metadata": {
    "collapsed": false,
    "pycharm": {
     "name": "#%%\n"
    }
   }
  },
  {
   "cell_type": "code",
   "execution_count": 41,
   "outputs": [
    {
     "data": {
      "text/plain": "                        price  return      ma_10  general_negative_sum  \\\ndate                                                                     \n2022-10-31 16:30:00  153.6350  0.3250  153.28650              0.935387   \n2022-10-31 16:45:00  153.1750 -0.4600  153.03000              1.073090   \n2022-10-31 17:00:00  153.6001  0.4251  153.05801              0.991520   \n2022-10-31 17:15:00  153.9350  0.3349  153.14751              1.725424   \n2022-10-31 17:30:00  153.1900 -0.7450  153.20301              0.920477   \n...                       ...     ...        ...                   ...   \n2022-12-16 20:00:00  134.5467  0.3817  134.20297              1.308567   \n2022-12-16 20:15:00  134.7516  0.2049  134.24063              0.000000   \n2022-12-16 20:30:00  135.1750  0.4234  134.33213              0.000000   \n2022-12-16 20:45:00  135.0200 -0.1550  134.42713              0.000000   \n2022-12-16 21:00:00  134.5100 -0.5100  134.46863              0.000000   \n\n                     general_neutral_sum  general_positive_sum  \\\ndate                                                             \n2022-10-31 16:30:00             0.045367              0.019246   \n2022-10-31 16:45:00             0.195716              0.731193   \n2022-10-31 17:00:00             0.891117              1.117363   \n2022-10-31 17:15:00             1.371037              0.903539   \n2022-10-31 17:30:00             0.068049              0.011474   \n...                                  ...                   ...   \n2022-12-16 20:00:00             0.465379              0.226054   \n2022-12-16 20:15:00             0.000000              0.000000   \n2022-12-16 20:30:00             0.000000              0.000000   \n2022-12-16 20:45:00             0.000000              0.000000   \n2022-12-16 21:00:00             0.000000              0.000000   \n\n                     company_negative_sum  company_neutral_sum  \\\ndate                                                             \n2022-10-31 16:30:00              0.000000             0.000000   \n2022-10-31 16:45:00              0.000000             0.000000   \n2022-10-31 17:00:00              0.000000             0.000000   \n2022-10-31 17:15:00              1.801441             0.160080   \n2022-10-31 17:30:00              0.875410             0.111744   \n...                                   ...                  ...   \n2022-12-16 20:00:00              0.000000             0.000000   \n2022-12-16 20:15:00              0.000000             0.000000   \n2022-12-16 20:30:00              0.000000             0.000000   \n2022-12-16 20:45:00              0.000000             0.000000   \n2022-12-16 21:00:00              0.000000             0.000000   \n\n                     company_positive_sum  \ndate                                       \n2022-10-31 16:30:00              0.000000  \n2022-10-31 16:45:00              0.000000  \n2022-10-31 17:00:00              0.000000  \n2022-10-31 17:15:00              0.038479  \n2022-10-31 17:30:00              0.012846  \n...                                   ...  \n2022-12-16 20:00:00              0.000000  \n2022-12-16 20:15:00              0.000000  \n2022-12-16 20:30:00              0.000000  \n2022-12-16 20:45:00              0.000000  \n2022-12-16 21:00:00              0.000000  \n\n[869 rows x 9 columns]",
      "text/html": "<div>\n<style scoped>\n    .dataframe tbody tr th:only-of-type {\n        vertical-align: middle;\n    }\n\n    .dataframe tbody tr th {\n        vertical-align: top;\n    }\n\n    .dataframe thead th {\n        text-align: right;\n    }\n</style>\n<table border=\"1\" class=\"dataframe\">\n  <thead>\n    <tr style=\"text-align: right;\">\n      <th></th>\n      <th>price</th>\n      <th>return</th>\n      <th>ma_10</th>\n      <th>general_negative_sum</th>\n      <th>general_neutral_sum</th>\n      <th>general_positive_sum</th>\n      <th>company_negative_sum</th>\n      <th>company_neutral_sum</th>\n      <th>company_positive_sum</th>\n    </tr>\n    <tr>\n      <th>date</th>\n      <th></th>\n      <th></th>\n      <th></th>\n      <th></th>\n      <th></th>\n      <th></th>\n      <th></th>\n      <th></th>\n      <th></th>\n    </tr>\n  </thead>\n  <tbody>\n    <tr>\n      <th>2022-10-31 16:30:00</th>\n      <td>153.6350</td>\n      <td>0.3250</td>\n      <td>153.28650</td>\n      <td>0.935387</td>\n      <td>0.045367</td>\n      <td>0.019246</td>\n      <td>0.000000</td>\n      <td>0.000000</td>\n      <td>0.000000</td>\n    </tr>\n    <tr>\n      <th>2022-10-31 16:45:00</th>\n      <td>153.1750</td>\n      <td>-0.4600</td>\n      <td>153.03000</td>\n      <td>1.073090</td>\n      <td>0.195716</td>\n      <td>0.731193</td>\n      <td>0.000000</td>\n      <td>0.000000</td>\n      <td>0.000000</td>\n    </tr>\n    <tr>\n      <th>2022-10-31 17:00:00</th>\n      <td>153.6001</td>\n      <td>0.4251</td>\n      <td>153.05801</td>\n      <td>0.991520</td>\n      <td>0.891117</td>\n      <td>1.117363</td>\n      <td>0.000000</td>\n      <td>0.000000</td>\n      <td>0.000000</td>\n    </tr>\n    <tr>\n      <th>2022-10-31 17:15:00</th>\n      <td>153.9350</td>\n      <td>0.3349</td>\n      <td>153.14751</td>\n      <td>1.725424</td>\n      <td>1.371037</td>\n      <td>0.903539</td>\n      <td>1.801441</td>\n      <td>0.160080</td>\n      <td>0.038479</td>\n    </tr>\n    <tr>\n      <th>2022-10-31 17:30:00</th>\n      <td>153.1900</td>\n      <td>-0.7450</td>\n      <td>153.20301</td>\n      <td>0.920477</td>\n      <td>0.068049</td>\n      <td>0.011474</td>\n      <td>0.875410</td>\n      <td>0.111744</td>\n      <td>0.012846</td>\n    </tr>\n    <tr>\n      <th>...</th>\n      <td>...</td>\n      <td>...</td>\n      <td>...</td>\n      <td>...</td>\n      <td>...</td>\n      <td>...</td>\n      <td>...</td>\n      <td>...</td>\n      <td>...</td>\n    </tr>\n    <tr>\n      <th>2022-12-16 20:00:00</th>\n      <td>134.5467</td>\n      <td>0.3817</td>\n      <td>134.20297</td>\n      <td>1.308567</td>\n      <td>0.465379</td>\n      <td>0.226054</td>\n      <td>0.000000</td>\n      <td>0.000000</td>\n      <td>0.000000</td>\n    </tr>\n    <tr>\n      <th>2022-12-16 20:15:00</th>\n      <td>134.7516</td>\n      <td>0.2049</td>\n      <td>134.24063</td>\n      <td>0.000000</td>\n      <td>0.000000</td>\n      <td>0.000000</td>\n      <td>0.000000</td>\n      <td>0.000000</td>\n      <td>0.000000</td>\n    </tr>\n    <tr>\n      <th>2022-12-16 20:30:00</th>\n      <td>135.1750</td>\n      <td>0.4234</td>\n      <td>134.33213</td>\n      <td>0.000000</td>\n      <td>0.000000</td>\n      <td>0.000000</td>\n      <td>0.000000</td>\n      <td>0.000000</td>\n      <td>0.000000</td>\n    </tr>\n    <tr>\n      <th>2022-12-16 20:45:00</th>\n      <td>135.0200</td>\n      <td>-0.1550</td>\n      <td>134.42713</td>\n      <td>0.000000</td>\n      <td>0.000000</td>\n      <td>0.000000</td>\n      <td>0.000000</td>\n      <td>0.000000</td>\n      <td>0.000000</td>\n    </tr>\n    <tr>\n      <th>2022-12-16 21:00:00</th>\n      <td>134.5100</td>\n      <td>-0.5100</td>\n      <td>134.46863</td>\n      <td>0.000000</td>\n      <td>0.000000</td>\n      <td>0.000000</td>\n      <td>0.000000</td>\n      <td>0.000000</td>\n      <td>0.000000</td>\n    </tr>\n  </tbody>\n</table>\n<p>869 rows × 9 columns</p>\n</div>"
     },
     "execution_count": 41,
     "metadata": {},
     "output_type": "execute_result"
    }
   ],
   "source": [
    "aapl = ticker_dfs['AAPL'][features].dropna()\n",
    "aapl = aapl.set_index('date')\n",
    "aapl"
   ],
   "metadata": {
    "collapsed": false,
    "pycharm": {
     "name": "#%%\n"
    }
   }
  },
  {
   "cell_type": "markdown",
   "source": [
    "Saving dataset"
   ],
   "metadata": {
    "collapsed": false,
    "pycharm": {
     "name": "#%% md\n"
    }
   }
  },
  {
   "cell_type": "code",
   "execution_count": 42,
   "outputs": [],
   "source": [
    "aapl.to_csv(\"./data/stock/data-fine-tuning.csv\")"
   ],
   "metadata": {
    "collapsed": false,
    "pycharm": {
     "name": "#%%\n"
    }
   }
  },
  {
   "cell_type": "markdown",
   "source": [
    "Setting Informer's default parameters"
   ],
   "metadata": {
    "collapsed": false,
    "pycharm": {
     "name": "#%% md\n"
    }
   }
  },
  {
   "cell_type": "code",
   "execution_count": 43,
   "outputs": [],
   "source": [
    "default_args = {\n",
    "    'model': 'informer',\n",
    "\n",
    "    'data': 'data-fine-tuning',\n",
    "    'root_path': './data/stock',\n",
    "    'data_path': 'AAPL.csv',\n",
    "    'features': 'MS',\n",
    "    'ftr_num': feature_num,\n",
    "    'd_out': 1,\n",
    "    'target': target,\n",
    "    'freq': '15t',\n",
    "\n",
    "    'seq_len': 27,\n",
    "    'pred_len': 54,\n",
    "\n",
    "    'itr': 10,\n",
    "    'train_epochs': 10,\n",
    "    'batch_size': 24,\n",
    "    'patience': 5,\n",
    "    'learning_rate': 0.0001,\n",
    "    'loss': 'mse',\n",
    "    'lradj': 'type1',\n",
    "    'inverse': False,\n",
    "\n",
    "    'd_model': 512,\n",
    "    'n_heads': 4,\n",
    "    'e_layers': 4,\n",
    "    'd_ff': 2048,\n",
    "\n",
    "    'embed': 't2v',\n",
    "    'activation': 'gelu',\n",
    "    'padding': 0,\n",
    "    'dropout': 0.05,\n",
    "\n",
    "    'output_attention': False,\n",
    "    'predict': False,\n",
    "\n",
    "    'num_workers': 0,\n",
    "    'use_gpu': True,\n",
    "    'gpu': 0,\n",
    "    'use_multi_gpu': False,\n",
    "    'devices': '0'\n",
    "}"
   ],
   "metadata": {
    "collapsed": false,
    "pycharm": {
     "name": "#%%\n"
    }
   }
  },
  {
   "cell_type": "markdown",
   "source": [
    "Hyperparameter tuning is performed using a grid search\n"
   ],
   "metadata": {
    "collapsed": false,
    "pycharm": {
     "name": "#%% md\n"
    }
   }
  },
  {
   "cell_type": "code",
   "execution_count": 44,
   "outputs": [],
   "source": [
    "parameters = {\n",
    "    'batch_size': [6, 27, 54],\n",
    "    'd_model': [256, 512],\n",
    "    'n_heads': [4, 6, 10],\n",
    "    'e_layers': [4, 6, 10],\n",
    "    'activation': ['gelu', 'relu']\n",
    "}"
   ],
   "metadata": {
    "collapsed": false,
    "pycharm": {
     "name": "#%%\n"
    }
   }
  },
  {
   "cell_type": "code",
   "execution_count": 45,
   "outputs": [],
   "source": [
    "import itertools"
   ],
   "metadata": {
    "collapsed": false,
    "pycharm": {
     "name": "#%%\n"
    }
   }
  },
  {
   "cell_type": "code",
   "execution_count": 46,
   "outputs": [
    {
     "name": "stdout",
     "output_type": "stream",
     "text": [
      "Param combinations: 108\n"
     ]
    }
   ],
   "source": [
    "combinations = list(itertools.product(*parameters.values()))\n",
    "total = len(combinations)\n",
    "print(f'Param combinations: {total}')"
   ],
   "metadata": {
    "collapsed": false,
    "pycharm": {
     "name": "#%%\n"
    }
   }
  },
  {
   "cell_type": "markdown",
   "source": [
    "Performing grid search"
   ],
   "metadata": {
    "collapsed": false,
    "pycharm": {
     "name": "#%% md\n"
    }
   }
  },
  {
   "cell_type": "code",
   "execution_count": 47,
   "outputs": [],
   "source": [
    "from run_informer import train_informer"
   ],
   "metadata": {
    "collapsed": false,
    "pycharm": {
     "name": "#%%\n"
    }
   }
  },
  {
   "cell_type": "code",
   "execution_count": 82,
   "outputs": [
    {
     "name": "stdout",
     "output_type": "stream",
     "text": [
      "1 out of 108 - mse: 0.26899251341819763\n",
      "2 out of 108 - mse: 0.20969799160957336\n",
      "3 out of 108 - mse: 0.193546861410141\n",
      "4 out of 108 - mse: 0.2284192442893982\n",
      "5 out of 108 - mse: 0.22204357385635376\n",
      "6 out of 108 - mse: 0.3281112313270569\n",
      "7 out of 108 - mse: 0.2816500663757324\n",
      "8 out of 108 - mse: 0.2421703338623047\n",
      "9 out of 108 - mse: 0.2289111316204071\n",
      "10 out of 108 - mse: 0.2516852021217346\n",
      "11 out of 108 - mse: 0.1628008782863617\n",
      "12 out of 108 - mse: 0.263691246509552\n",
      "13 out of 108 - mse: 0.1896105855703354\n",
      "14 out of 108 - mse: 0.18860214948654175\n",
      "15 out of 108 - mse: 0.2411007434129715\n",
      "16 out of 108 - mse: 0.2560585141181946\n",
      "17 out of 108 - mse: 0.20932245254516602\n",
      "18 out of 108 - mse: 0.3189963102340698\n",
      "19 out of 108 - mse: 0.23817308247089386\n",
      "20 out of 108 - mse: 0.2724705934524536\n",
      "21 out of 108 - mse: 0.2017807960510254\n",
      "22 out of 108 - mse: 0.24467429518699646\n",
      "23 out of 108 - mse: 0.2420923113822937\n",
      "24 out of 108 - mse: 0.20827147364616394\n",
      "25 out of 108 - mse: 0.18005388975143433\n",
      "26 out of 108 - mse: 0.2376604974269867\n",
      "27 out of 108 - mse: 0.25795185565948486\n",
      "28 out of 108 - mse: 0.239150270819664\n",
      "29 out of 108 - mse: 0.250583291053772\n",
      "30 out of 108 - mse: 0.32124990224838257\n",
      "31 out of 108 - mse: 0.21077577769756317\n",
      "32 out of 108 - mse: 0.24432025849819183\n",
      "33 out of 108 - mse: 0.16043151915073395\n",
      "34 out of 108 - mse: 0.3057495057582855\n",
      "35 out of 108 - mse: 0.3264409601688385\n",
      "36 out of 108 - mse: 0.22139711678028107\n",
      "37 out of 108 - mse: 0.2290525585412979\n",
      "38 out of 108 - mse: 0.2612766921520233\n",
      "39 out of 108 - mse: 0.21120424568653107\n",
      "40 out of 108 - mse: 0.22675545513629913\n",
      "41 out of 108 - mse: 0.23167598247528076\n",
      "42 out of 108 - mse: 0.24671143293380737\n",
      "43 out of 108 - mse: 0.24189551174640656\n",
      "44 out of 108 - mse: 0.2829747498035431\n",
      "45 out of 108 - mse: 0.22301210463047028\n",
      "46 out of 108 - mse: 0.2400035709142685\n",
      "47 out of 108 - mse: 0.2728918790817261\n",
      "48 out of 108 - mse: 0.258103609085083\n",
      "49 out of 108 - mse: 0.2962094843387604\n",
      "50 out of 108 - mse: 0.25096234679222107\n",
      "51 out of 108 - mse: 0.2781645953655243\n",
      "52 out of 108 - mse: 0.2570602595806122\n",
      "53 out of 108 - mse: 0.2391287237405777\n",
      "54 out of 108 - mse: 0.2400360107421875\n",
      "55 out of 108 - mse: 0.2385265976190567\n",
      "56 out of 108 - mse: 0.23011161386966705\n",
      "57 out of 108 - mse: 0.22187440097332\n",
      "58 out of 108 - mse: 0.21339325606822968\n",
      "59 out of 108 - mse: 0.27324116230010986\n",
      "60 out of 108 - mse: 0.20309965312480927\n",
      "61 out of 108 - mse: 0.21242250502109528\n",
      "62 out of 108 - mse: 0.25262272357940674\n",
      "63 out of 108 - mse: 0.23298172652721405\n",
      "64 out of 108 - mse: 0.21562524139881134\n",
      "65 out of 108 - mse: 0.2958751618862152\n",
      "66 out of 108 - mse: 0.19804531335830688\n",
      "67 out of 108 - mse: 0.2305728942155838\n",
      "68 out of 108 - mse: 0.254935085773468\n",
      "69 out of 108 - mse: 0.19820760190486908\n",
      "70 out of 108 - mse: 0.308279424905777\n",
      "71 out of 108 - mse: 0.22728532552719116\n",
      "72 out of 108 - mse: 0.1963212490081787\n",
      "73 out of 108 - mse: 0.2280801385641098\n",
      "74 out of 108 - mse: 0.2827700078487396\n",
      "75 out of 108 - mse: 0.3392946124076843\n",
      "76 out of 108 - mse: 0.24110563099384308\n",
      "77 out of 108 - mse: 0.23419255018234253\n",
      "78 out of 108 - mse: 0.22425779700279236\n",
      "79 out of 108 - mse: 0.2494683712720871\n",
      "80 out of 108 - mse: 0.27776527404785156\n",
      "81 out of 108 - mse: 0.26946523785591125\n",
      "82 out of 108 - mse: 0.26149481534957886\n",
      "83 out of 108 - mse: 0.2588602304458618\n",
      "84 out of 108 - mse: 0.21659184992313385\n",
      "85 out of 108 - mse: 0.29545387625694275\n",
      "86 out of 108 - mse: 0.28002890944480896\n",
      "87 out of 108 - mse: 0.26454800367355347\n",
      "88 out of 108 - mse: 0.2594878673553467\n",
      "89 out of 108 - mse: 0.2538886070251465\n",
      "90 out of 108 - mse: 0.23424306511878967\n",
      "91 out of 108 - mse: 0.2215784788131714\n",
      "92 out of 108 - mse: 0.23656094074249268\n",
      "93 out of 108 - mse: 0.2069966048002243\n",
      "94 out of 108 - mse: 0.23680904507637024\n",
      "95 out of 108 - mse: 0.18446946144104004\n",
      "96 out of 108 - mse: 0.17246095836162567\n",
      "97 out of 108 - mse: 0.24089743196964264\n",
      "98 out of 108 - mse: 0.2321062535047531\n",
      "99 out of 108 - mse: 0.29032251238822937\n",
      "100 out of 108 - mse: 0.22336263954639435\n",
      "101 out of 108 - mse: 0.21128220856189728\n",
      "102 out of 108 - mse: 0.1818682998418808\n",
      "103 out of 108 - mse: 0.2563038766384125\n",
      "104 out of 108 - mse: 0.22454078495502472\n",
      "105 out of 108 - mse: 0.24446189403533936\n",
      "106 out of 108 - mse: 0.22083699703216553\n",
      "107 out of 108 - mse: 0.2272498607635498\n",
      "108 out of 108 - mse: 0.17219007015228271\n"
     ]
    }
   ],
   "source": [
    "params_evals = {}\n",
    "counter = 0\n",
    "\n",
    "for batch_size, d_model, n_heads, e_layers, activation in combinations:\n",
    "    model_args = default_args.copy()\n",
    "    model_args['batch_size'] = batch_size\n",
    "    model_args['d_model'] = d_model\n",
    "    model_args['n_heads'] = n_heads\n",
    "    model_args['e_layers'] = e_layers\n",
    "    model_args['d_ff'] = 4 * d_model\n",
    "    model_args['activation'] = activation\n",
    "\n",
    "    exp = train_informer(model_args, supress_output=True)\n",
    "    params_evals[(batch_size, d_model, n_heads, e_layers, activation)] = exp.val_loss_min\n",
    "\n",
    "    counter += 1\n",
    "    print(f'{counter} out of {total} - mse: {exp.val_loss_min}')"
   ],
   "metadata": {
    "collapsed": false,
    "pycharm": {
     "name": "#%%\n"
    }
   }
  },
  {
   "cell_type": "markdown",
   "source": [
    "Saving best performing arguments\n",
    "Printing top 10"
   ],
   "metadata": {
    "collapsed": false,
    "pycharm": {
     "name": "#%% md\n"
    }
   }
  },
  {
   "cell_type": "code",
   "execution_count": 88,
   "outputs": [
    {
     "name": "stdout",
     "output_type": "stream",
     "text": [
      "batch_size d_model n_heads e_layers activation | mse       \n",
      "---------------------------------------------------------------------\n",
      "6          512     10      6        gelu       | 0.1604    \n",
      "6          256     6       10       gelu       | 0.1628    \n",
      "54         512     10      10       relu       | 0.1722    \n",
      "54         512     4       10       relu       | 0.1725    \n",
      "6          512     6       4        gelu       | 0.1801    \n",
      "54         512     6       10       relu       | 0.1819    \n",
      "54         512     4       10       gelu       | 0.1845    \n",
      "6          256     10      4        relu       | 0.1886    \n",
      "6          256     10      4        gelu       | 0.1896    \n",
      "6          256     4       6        gelu       | 0.1935    \n"
     ]
    }
   ],
   "source": [
    "params_evals = sorted(params_evals.items(), key=lambda it: it[1])\n",
    "best_args = params_evals[0][0]\n",
    "print('{: <10} {: <7} {: <6} {: <8} {: <10} | {: <10}'.format(*parameters.keys(), 'mse'))\n",
    "print('-' * 69)\n",
    "for k, v in params_evals[:10]:\n",
    "    print('{: <10} {: <7} {: <7} {: <8} {: <10} | {: <10.4f}'.format(*k, v))"
   ],
   "metadata": {
    "collapsed": false,
    "pycharm": {
     "name": "#%%\n"
    }
   }
  },
  {
   "cell_type": "code",
   "execution_count": 90,
   "outputs": [
    {
     "data": {
      "text/plain": "{'model': 'informer',\n 'data': 'data-fine-tuning',\n 'root_path': './data/stock',\n 'data_path': 'AAPL.csv',\n 'features': 'MS',\n 'ftr_num': 9,\n 'd_out': 1,\n 'target': 'price',\n 'freq': '15t',\n 'seq_len': 27,\n 'pred_len': 54,\n 'itr': 10,\n 'train_epochs': 10,\n 'batch_size': 6,\n 'patience': 5,\n 'learning_rate': 0.0001,\n 'loss': 'mse',\n 'lradj': 'type1',\n 'inverse': False,\n 'd_model': 512,\n 'n_heads': 10,\n 'e_layers': 6,\n 'd_ff': 2048,\n 'embed': 't2v',\n 'activation': 'gelu',\n 'padding': 0,\n 'dropout': 0.05,\n 'output_attention': False,\n 'predict': False,\n 'num_workers': 0,\n 'use_gpu': True,\n 'gpu': 0,\n 'use_multi_gpu': False,\n 'devices': '0'}"
     },
     "execution_count": 90,
     "metadata": {},
     "output_type": "execute_result"
    }
   ],
   "source": [
    "model_args = default_args\n",
    "(model_args['batch_size'], model_args['d_model'], model_args['n_heads'], model_args['e_layers'], model_args['activation']) = best_args\n",
    "model_args['d_ff'] = 4 * model_args['d_model']\n",
    "model_args"
   ],
   "metadata": {
    "collapsed": false,
    "pycharm": {
     "name": "#%%\n"
    }
   }
  },
  {
   "cell_type": "markdown",
   "source": [
    "## Feature set analysis\n",
    "Analysing which composition of features performs best on a tuned model\n",
    "Checking if media sentiment analysis is beneficial"
   ],
   "metadata": {
    "collapsed": false,
    "pycharm": {
     "name": "#%% md\n"
    }
   }
  },
  {
   "cell_type": "code",
   "execution_count": 91,
   "outputs": [
    {
     "data": {
      "text/plain": "['ticker',\n 'price',\n 'date',\n 'return',\n 'ma_10',\n 'ma_30',\n 'ma_60',\n 'general_negative_sum',\n 'general_neutral_sum',\n 'general_positive_sum',\n 'general_negative_mean',\n 'general_neutral_mean',\n 'general_positive_mean',\n 'company_negative_sum',\n 'company_neutral_sum',\n 'company_positive_sum',\n 'company_negative_mean',\n 'company_neutral_mean',\n 'company_positive_mean',\n 'general_negative_count',\n 'general_neutral_count',\n 'general_positive_count',\n 'company_negative_count',\n 'company_neutral_count',\n 'company_positive_count',\n 'gen_com_negative_mean',\n 'gen_com_neutral_mean',\n 'gen_com_positive_mean']"
     },
     "execution_count": 91,
     "metadata": {},
     "output_type": "execute_result"
    }
   ],
   "source": [
    "ticker_dfs['AAPL'].columns.tolist()"
   ],
   "metadata": {
    "collapsed": false,
    "pycharm": {
     "name": "#%%\n"
    }
   }
  },
  {
   "cell_type": "code",
   "execution_count": 92,
   "outputs": [],
   "source": [
    "feature_sets = [\n",
    "    ['date', 'price'],\n",
    "    ['date', 'price', 'return'],\n",
    "    ['date', 'price', 'ma_10'],\n",
    "    ['date', 'price', 'ma_30'],\n",
    "    ['date', 'price', 'ma_60'],\n",
    "    ['date', 'price', 'return', 'ma_10'],\n",
    "    ['date', 'price', 'general_negative_sum', 'general_neutral_sum', 'general_positive_sum'],\n",
    "    ['date', 'price', 'general_negative_mean', 'general_neutral_mean', 'general_positive_mean'],\n",
    "    ['date', 'price', 'general_negative_count', 'general_neutral_count', 'general_positive_count'],\n",
    "    ['date', 'price', 'company_negative_sum', 'company_neutral_sum', 'company_positive_sum'],\n",
    "    ['date', 'price', 'company_negative_mean', 'company_neutral_mean', 'company_positive_mean'],\n",
    "    ['date', 'price', 'company_negative_count', 'company_neutral_count', 'company_positive_count'],\n",
    "    ['date', 'price', 'gen_com_negative_mean', 'gen_com_neutral_mean', 'gen_com_positive_mean'],\n",
    "    ['date', 'price', 'general_negative_sum', 'general_neutral_sum', 'general_positive_sum', 'company_negative_sum', 'company_neutral_sum', 'company_positive_sum'],\n",
    "    ['date', 'price', 'general_negative_mean', 'general_neutral_mean', 'general_positive_mean', 'company_negative_mean', 'company_neutral_mean', 'company_positive_mean'],\n",
    "    ['date', 'price', 'general_negative_count', 'general_neutral_count', 'general_positive_count', 'company_negative_count', 'company_neutral_count', 'company_positive_count'],\n",
    "    ['date', 'price', 'return', 'general_negative_mean', 'general_neutral_mean', 'general_positive_mean'],\n",
    "    ['date', 'price', 'return', 'gen_com_negative_mean', 'gen_com_neutral_mean', 'gen_com_positive_mean'],\n",
    "]\n",
    "\n",
    "total = len(feature_sets)"
   ],
   "metadata": {
    "collapsed": false,
    "pycharm": {
     "name": "#%%\n"
    }
   }
  },
  {
   "cell_type": "code",
   "execution_count": 93,
   "outputs": [],
   "source": [
    "def eval_ftr_set(label, ftr_set, seq_len, pred_len):\n",
    "\n",
    "    df = ticker_dfs[label][ftr_set].dropna()\n",
    "    df = df.set_index('date')\n",
    "    df.to_csv(f'./data/stock/{label}.csv')\n",
    "\n",
    "    args = model_args.copy()\n",
    "    args['data_path'] = f'{label}.csv'\n",
    "    args['ftr_num'] = len(ftr_set) - 1\n",
    "    args['seq_len'] = seq_len\n",
    "    args['pred_len'] = pred_len\n",
    "\n",
    "    return train_informer(args, supress_output=True).test()[0]"
   ],
   "metadata": {
    "collapsed": false,
    "pycharm": {
     "name": "#%%\n"
    }
   }
  },
  {
   "cell_type": "markdown",
   "source": [
    "Perform feature set analysis over variable length sequences"
   ],
   "metadata": {
    "collapsed": false,
    "pycharm": {
     "name": "#%% md\n"
    }
   }
  },
  {
   "cell_type": "code",
   "execution_count": 94,
   "outputs": [
    {
     "name": "stdout",
     "output_type": "stream",
     "text": [
      "324\n",
      "1 out of 324 - mse: 0.21827782690525055\n",
      "2 out of 324 - mse: 0.6128498315811157\n",
      "3 out of 324 - mse: 0.6515957713127136\n",
      "4 out of 324 - mse: 0.27997922897338867\n",
      "5 out of 324 - mse: 0.42263373732566833\n",
      "6 out of 324 - mse: 0.4873882234096527\n",
      "7 out of 324 - mse: 0.25352951884269714\n",
      "8 out of 324 - mse: 0.37310996651649475\n",
      "9 out of 324 - mse: 0.6503525376319885\n",
      "10 out of 324 - mse: 0.29422491788864136\n",
      "11 out of 324 - mse: 0.44784048199653625\n",
      "12 out of 324 - mse: 0.6508237719535828\n",
      "13 out of 324 - mse: 0.3948972523212433\n",
      "14 out of 324 - mse: 0.5443266034126282\n",
      "15 out of 324 - mse: 0.7468590140342712\n",
      "16 out of 324 - mse: 0.31534966826438904\n",
      "17 out of 324 - mse: 0.5051328539848328\n",
      "18 out of 324 - mse: 0.5515772700309753\n",
      "19 out of 324 - mse: 0.3814734220504761\n",
      "20 out of 324 - mse: 0.7256429195404053\n",
      "21 out of 324 - mse: 0.7738322615623474\n",
      "22 out of 324 - mse: 0.41666311025619507\n",
      "23 out of 324 - mse: 0.6965992450714111\n",
      "24 out of 324 - mse: 0.8064910173416138\n",
      "25 out of 324 - mse: 0.4024934768676758\n",
      "26 out of 324 - mse: 0.6383823156356812\n",
      "27 out of 324 - mse: 0.8176209926605225\n",
      "28 out of 324 - mse: 0.5853673815727234\n",
      "29 out of 324 - mse: 0.44088998436927795\n",
      "30 out of 324 - mse: 0.6670455932617188\n",
      "31 out of 324 - mse: 0.3207434415817261\n",
      "32 out of 324 - mse: 0.42429912090301514\n",
      "33 out of 324 - mse: 0.45383065938949585\n",
      "34 out of 324 - mse: 0.5387752652168274\n",
      "35 out of 324 - mse: 0.6807433366775513\n",
      "36 out of 324 - mse: 1.0432716608047485\n",
      "37 out of 324 - mse: 0.35978755354881287\n",
      "38 out of 324 - mse: 0.6481915712356567\n",
      "39 out of 324 - mse: 0.5235727429389954\n",
      "40 out of 324 - mse: 0.38308390974998474\n",
      "41 out of 324 - mse: 0.4711105227470398\n",
      "42 out of 324 - mse: 0.6314690709114075\n",
      "43 out of 324 - mse: 0.33768483996391296\n",
      "44 out of 324 - mse: 0.5652992725372314\n",
      "45 out of 324 - mse: 0.6113696694374084\n",
      "46 out of 324 - mse: 0.367135614156723\n",
      "47 out of 324 - mse: 0.5508730411529541\n",
      "48 out of 324 - mse: 0.5839466452598572\n",
      "49 out of 324 - mse: 0.2858142852783203\n",
      "50 out of 324 - mse: 0.4682066738605499\n",
      "51 out of 324 - mse: 0.5148375630378723\n",
      "52 out of 324 - mse: 0.29513105750083923\n",
      "53 out of 324 - mse: 0.4476180672645569\n",
      "54 out of 324 - mse: 0.5402268767356873\n",
      "55 out of 324 - mse: 0.5869636535644531\n",
      "56 out of 324 - mse: 1.0705960988998413\n",
      "57 out of 324 - mse: 1.726218581199646\n",
      "58 out of 324 - mse: 0.42037978768348694\n",
      "59 out of 324 - mse: 1.2300450801849365\n",
      "60 out of 324 - mse: 1.5035446882247925\n",
      "61 out of 324 - mse: 0.6428374648094177\n",
      "62 out of 324 - mse: 1.5036174058914185\n",
      "63 out of 324 - mse: 1.4453201293945312\n",
      "64 out of 324 - mse: 0.7732942700386047\n",
      "65 out of 324 - mse: 1.5770714282989502\n",
      "66 out of 324 - mse: 1.5685009956359863\n",
      "67 out of 324 - mse: 0.8408830761909485\n",
      "68 out of 324 - mse: 1.8929626941680908\n",
      "69 out of 324 - mse: 1.447034239768982\n",
      "70 out of 324 - mse: 0.41800397634506226\n",
      "71 out of 324 - mse: 1.2809561491012573\n",
      "72 out of 324 - mse: 1.3905402421951294\n",
      "73 out of 324 - mse: 0.33542782068252563\n",
      "74 out of 324 - mse: 0.8911014795303345\n",
      "75 out of 324 - mse: 1.1189687252044678\n",
      "76 out of 324 - mse: 0.7239539623260498\n",
      "77 out of 324 - mse: 1.9015672206878662\n",
      "78 out of 324 - mse: 1.2338685989379883\n",
      "79 out of 324 - mse: 0.33567363023757935\n",
      "80 out of 324 - mse: 1.080268144607544\n",
      "81 out of 324 - mse: 1.367086410522461\n",
      "82 out of 324 - mse: 0.32456302642822266\n",
      "83 out of 324 - mse: 0.9055638909339905\n",
      "84 out of 324 - mse: 1.2206906080245972\n",
      "85 out of 324 - mse: 0.5837299823760986\n",
      "86 out of 324 - mse: 1.4663703441619873\n",
      "87 out of 324 - mse: 1.0338022708892822\n",
      "88 out of 324 - mse: 0.40477830171585083\n",
      "89 out of 324 - mse: 1.0544242858886719\n",
      "90 out of 324 - mse: 1.6296710968017578\n",
      "91 out of 324 - mse: 0.9352642893791199\n",
      "92 out of 324 - mse: 1.6370606422424316\n",
      "93 out of 324 - mse: 1.6465650796890259\n",
      "94 out of 324 - mse: 0.30604878067970276\n",
      "95 out of 324 - mse: 0.9894701242446899\n",
      "96 out of 324 - mse: 1.9464209079742432\n",
      "97 out of 324 - mse: 0.4587947130203247\n",
      "98 out of 324 - mse: 1.1889575719833374\n",
      "99 out of 324 - mse: 1.4241467714309692\n",
      "100 out of 324 - mse: 0.27508071064949036\n",
      "101 out of 324 - mse: 1.4205620288848877\n",
      "102 out of 324 - mse: 1.6221897602081299\n",
      "103 out of 324 - mse: 0.31551113724708557\n",
      "104 out of 324 - mse: 1.080169916152954\n",
      "105 out of 324 - mse: 1.4105967283248901\n",
      "106 out of 324 - mse: 0.4223388731479645\n",
      "107 out of 324 - mse: 1.2883163690567017\n",
      "108 out of 324 - mse: 1.5409002304077148\n",
      "109 out of 324 - mse: 0.4027911424636841\n",
      "110 out of 324 - mse: 1.1132410764694214\n",
      "111 out of 324 - mse: 2.1765012741088867\n",
      "112 out of 324 - mse: 0.38468560576438904\n",
      "113 out of 324 - mse: 0.9059267640113831\n",
      "114 out of 324 - mse: 0.7950983643531799\n",
      "115 out of 324 - mse: 0.4749373197555542\n",
      "116 out of 324 - mse: 1.1874920129776\n",
      "117 out of 324 - mse: 1.5112247467041016\n",
      "118 out of 324 - mse: 0.551109254360199\n",
      "119 out of 324 - mse: 0.9299495220184326\n",
      "120 out of 324 - mse: 0.7525482773780823\n",
      "121 out of 324 - mse: 0.5949690937995911\n",
      "122 out of 324 - mse: 1.0508179664611816\n",
      "123 out of 324 - mse: 0.9793997406959534\n",
      "124 out of 324 - mse: 0.4535263180732727\n",
      "125 out of 324 - mse: 0.8657885789871216\n",
      "126 out of 324 - mse: 0.8683770298957825\n",
      "127 out of 324 - mse: 0.38997796177864075\n",
      "128 out of 324 - mse: 0.782621443271637\n",
      "129 out of 324 - mse: 0.718758225440979\n",
      "130 out of 324 - mse: 0.5047489404678345\n",
      "131 out of 324 - mse: 1.0762923955917358\n",
      "132 out of 324 - mse: 0.8409698009490967\n",
      "133 out of 324 - mse: 0.3938566744327545\n",
      "134 out of 324 - mse: 0.8908663988113403\n",
      "135 out of 324 - mse: 0.7449087500572205\n",
      "136 out of 324 - mse: 0.8157688975334167\n",
      "137 out of 324 - mse: 1.621148705482483\n",
      "138 out of 324 - mse: 1.5817961692810059\n",
      "139 out of 324 - mse: 0.7470076084136963\n",
      "140 out of 324 - mse: 0.9970225691795349\n",
      "141 out of 324 - mse: 0.6794741153717041\n",
      "142 out of 324 - mse: 0.8498067855834961\n",
      "143 out of 324 - mse: 1.8753242492675781\n",
      "144 out of 324 - mse: 1.4826802015304565\n",
      "145 out of 324 - mse: 0.4987412393093109\n",
      "146 out of 324 - mse: 0.7542544007301331\n",
      "147 out of 324 - mse: 0.7944571375846863\n",
      "148 out of 324 - mse: 0.48992979526519775\n",
      "149 out of 324 - mse: 1.0927494764328003\n",
      "150 out of 324 - mse: 1.1261794567108154\n",
      "151 out of 324 - mse: 0.6386542320251465\n",
      "152 out of 324 - mse: 0.8578287959098816\n",
      "153 out of 324 - mse: 0.5459468364715576\n",
      "154 out of 324 - mse: 0.44961827993392944\n",
      "155 out of 324 - mse: 1.238896131515503\n",
      "156 out of 324 - mse: 1.2620500326156616\n",
      "157 out of 324 - mse: 0.34935882687568665\n",
      "158 out of 324 - mse: 0.5921311378479004\n",
      "159 out of 324 - mse: 1.0061235427856445\n",
      "160 out of 324 - mse: 0.38180533051490784\n",
      "161 out of 324 - mse: 0.6737666726112366\n",
      "162 out of 324 - mse: 0.8864155411720276\n",
      "163 out of 324 - mse: 0.596767783164978\n",
      "164 out of 324 - mse: 0.9958832263946533\n",
      "165 out of 324 - mse: 1.0937577486038208\n",
      "166 out of 324 - mse: 0.7186372876167297\n",
      "167 out of 324 - mse: 1.0845837593078613\n",
      "168 out of 324 - mse: 1.861287236213684\n",
      "169 out of 324 - mse: 0.5969740748405457\n",
      "170 out of 324 - mse: 1.0167068243026733\n",
      "171 out of 324 - mse: 1.2196252346038818\n",
      "172 out of 324 - mse: 0.7241134643554688\n",
      "173 out of 324 - mse: 1.1353031396865845\n",
      "174 out of 324 - mse: 1.4746519327163696\n",
      "175 out of 324 - mse: 0.7973624467849731\n",
      "176 out of 324 - mse: 1.2032095193862915\n",
      "177 out of 324 - mse: 2.05442214012146\n",
      "178 out of 324 - mse: 0.7028446793556213\n",
      "179 out of 324 - mse: 1.280443787574768\n",
      "180 out of 324 - mse: 1.7962470054626465\n",
      "181 out of 324 - mse: 0.7276917099952698\n",
      "182 out of 324 - mse: 1.2379070520401\n",
      "183 out of 324 - mse: 1.7669048309326172\n",
      "184 out of 324 - mse: 0.8135155439376831\n",
      "185 out of 324 - mse: 1.165417194366455\n",
      "186 out of 324 - mse: 1.249535322189331\n",
      "187 out of 324 - mse: 0.752665102481842\n",
      "188 out of 324 - mse: 1.2332030534744263\n",
      "189 out of 324 - mse: 1.9250922203063965\n",
      "190 out of 324 - mse: 1.3161952495574951\n",
      "191 out of 324 - mse: 2.8536126613616943\n",
      "192 out of 324 - mse: 2.505924701690674\n",
      "193 out of 324 - mse: 0.8021702766418457\n",
      "194 out of 324 - mse: 1.128522515296936\n",
      "195 out of 324 - mse: 1.4599800109863281\n",
      "196 out of 324 - mse: 0.9662771224975586\n",
      "197 out of 324 - mse: 1.664575219154358\n",
      "198 out of 324 - mse: 2.3128113746643066\n",
      "199 out of 324 - mse: 0.6287552714347839\n",
      "200 out of 324 - mse: 1.0041526556015015\n",
      "201 out of 324 - mse: 1.7030872106552124\n",
      "202 out of 324 - mse: 1.2020450830459595\n",
      "203 out of 324 - mse: 1.5885820388793945\n",
      "204 out of 324 - mse: 2.0890238285064697\n",
      "205 out of 324 - mse: 0.7133282423019409\n",
      "206 out of 324 - mse: 1.5411697626113892\n",
      "207 out of 324 - mse: 2.160587787628174\n",
      "208 out of 324 - mse: 1.1400097608566284\n",
      "209 out of 324 - mse: 1.807442545890808\n",
      "210 out of 324 - mse: 1.7526942491531372\n",
      "211 out of 324 - mse: 0.7737603187561035\n",
      "212 out of 324 - mse: 1.2666456699371338\n",
      "213 out of 324 - mse: 2.1265385150909424\n",
      "214 out of 324 - mse: 0.7138129472732544\n",
      "215 out of 324 - mse: 1.187278389930725\n",
      "216 out of 324 - mse: 1.6416996717453003\n",
      "217 out of 324 - mse: 0.33702370524406433\n",
      "218 out of 324 - mse: 0.4079447090625763\n",
      "219 out of 324 - mse: 0.8023241758346558\n",
      "220 out of 324 - mse: 0.3478729724884033\n",
      "221 out of 324 - mse: 0.6395394802093506\n",
      "222 out of 324 - mse: 1.9039767980575562\n",
      "223 out of 324 - mse: 0.3657159209251404\n",
      "224 out of 324 - mse: 0.47468870878219604\n",
      "225 out of 324 - mse: 1.079102635383606\n",
      "226 out of 324 - mse: 0.4642547369003296\n",
      "227 out of 324 - mse: 1.2135943174362183\n",
      "228 out of 324 - mse: 1.628943681716919\n",
      "229 out of 324 - mse: 0.45253732800483704\n",
      "230 out of 324 - mse: 0.9710443615913391\n",
      "231 out of 324 - mse: 4.951855182647705\n",
      "232 out of 324 - mse: 0.334036260843277\n",
      "233 out of 324 - mse: 0.696058988571167\n",
      "234 out of 324 - mse: 1.4794790744781494\n",
      "235 out of 324 - mse: 0.2552918791770935\n",
      "236 out of 324 - mse: 0.3938421607017517\n",
      "237 out of 324 - mse: 0.7470424771308899\n",
      "238 out of 324 - mse: 0.4230457544326782\n",
      "239 out of 324 - mse: 0.5389963984489441\n",
      "240 out of 324 - mse: 0.8116853833198547\n",
      "241 out of 324 - mse: 0.2732773423194885\n",
      "242 out of 324 - mse: 0.44584590196609497\n",
      "243 out of 324 - mse: 0.7270180583000183\n",
      "244 out of 324 - mse: 0.4872661530971527\n",
      "245 out of 324 - mse: 1.4774806499481201\n",
      "246 out of 324 - mse: 2.5179288387298584\n",
      "247 out of 324 - mse: 0.274933397769928\n",
      "248 out of 324 - mse: 1.2301440238952637\n",
      "249 out of 324 - mse: 2.305126905441284\n",
      "250 out of 324 - mse: 0.5193579196929932\n",
      "251 out of 324 - mse: 1.3375447988510132\n",
      "252 out of 324 - mse: 2.402212619781494\n",
      "253 out of 324 - mse: 0.21867646276950836\n",
      "254 out of 324 - mse: 0.47125720977783203\n",
      "255 out of 324 - mse: 0.941361665725708\n",
      "256 out of 324 - mse: 0.3663285970687866\n",
      "257 out of 324 - mse: 1.3344029188156128\n",
      "258 out of 324 - mse: 3.0095388889312744\n",
      "259 out of 324 - mse: 0.4415193498134613\n",
      "260 out of 324 - mse: 0.5026017427444458\n",
      "261 out of 324 - mse: 1.3988516330718994\n",
      "262 out of 324 - mse: 0.40337231755256653\n",
      "263 out of 324 - mse: 2.0527892112731934\n",
      "264 out of 324 - mse: 3.011009931564331\n",
      "265 out of 324 - mse: 0.32344886660575867\n",
      "266 out of 324 - mse: 0.9926325678825378\n",
      "267 out of 324 - mse: 1.4262028932571411\n",
      "268 out of 324 - mse: 0.35626962780952454\n",
      "269 out of 324 - mse: 0.7708155512809753\n",
      "270 out of 324 - mse: 1.5989866256713867\n",
      "271 out of 324 - mse: 0.3458114266395569\n",
      "272 out of 324 - mse: 0.47361674904823303\n",
      "273 out of 324 - mse: 0.4784100651741028\n",
      "274 out of 324 - mse: 0.3070284128189087\n",
      "275 out of 324 - mse: 0.46154850721359253\n",
      "276 out of 324 - mse: 0.4412570595741272\n",
      "277 out of 324 - mse: 0.333711177110672\n",
      "278 out of 324 - mse: 0.42322275042533875\n",
      "279 out of 324 - mse: 0.4577217400074005\n",
      "280 out of 324 - mse: 0.2626767158508301\n",
      "281 out of 324 - mse: 0.36737769842147827\n",
      "282 out of 324 - mse: 0.4926849901676178\n",
      "283 out of 324 - mse: 0.2780916094779968\n",
      "284 out of 324 - mse: 0.37457263469696045\n",
      "285 out of 324 - mse: 0.4597218334674835\n",
      "286 out of 324 - mse: 0.2750107944011688\n",
      "287 out of 324 - mse: 0.41437965631484985\n",
      "288 out of 324 - mse: 0.5230292081832886\n",
      "289 out of 324 - mse: 0.3793506622314453\n",
      "290 out of 324 - mse: 0.5662657022476196\n",
      "291 out of 324 - mse: 0.4534839987754822\n",
      "292 out of 324 - mse: 0.5434750914573669\n",
      "293 out of 324 - mse: 0.6971177458763123\n",
      "294 out of 324 - mse: 0.6262178421020508\n",
      "295 out of 324 - mse: 0.38158050179481506\n",
      "296 out of 324 - mse: 0.6361393928527832\n",
      "297 out of 324 - mse: 0.48597365617752075\n",
      "298 out of 324 - mse: 0.39207181334495544\n",
      "299 out of 324 - mse: 0.5372244715690613\n",
      "300 out of 324 - mse: 0.5183780193328857\n",
      "301 out of 324 - mse: 0.4648086130619049\n",
      "302 out of 324 - mse: 0.6139470338821411\n",
      "303 out of 324 - mse: 0.5978779792785645\n",
      "304 out of 324 - mse: 0.3581065535545349\n",
      "305 out of 324 - mse: 0.6072005033493042\n",
      "306 out of 324 - mse: 0.5258588790893555\n",
      "307 out of 324 - mse: 0.30649060010910034\n",
      "308 out of 324 - mse: 0.5795838832855225\n",
      "309 out of 324 - mse: 0.511435329914093\n",
      "310 out of 324 - mse: 0.3485032618045807\n",
      "311 out of 324 - mse: 0.4520222544670105\n",
      "312 out of 324 - mse: 0.5745689868927002\n",
      "313 out of 324 - mse: 0.4763675332069397\n",
      "314 out of 324 - mse: 0.7958834767341614\n",
      "315 out of 324 - mse: 1.0968146324157715\n",
      "316 out of 324 - mse: 0.40354156494140625\n",
      "317 out of 324 - mse: 0.5741080045700073\n",
      "318 out of 324 - mse: 0.5281989574432373\n",
      "319 out of 324 - mse: 0.32571178674697876\n",
      "320 out of 324 - mse: 0.6019622087478638\n",
      "321 out of 324 - mse: 0.7300543785095215\n",
      "322 out of 324 - mse: 0.2660054564476013\n",
      "323 out of 324 - mse: 0.4475000500679016\n",
      "324 out of 324 - mse: 0.5945209264755249\n"
     ]
    }
   ],
   "source": [
    "model_evals = {}\n",
    "seq_pred_lengths = [[27, 27], [27, 54], [27, 81]]\n",
    "\n",
    "counter = 0\n",
    "total = len(seq_pred_lengths) * len(tickers) * len(feature_sets)\n",
    "print(total)\n",
    "\n",
    "for ticker in tickers:\n",
    "    model_evals[ticker] = {}\n",
    "    for feature_set in feature_sets:\n",
    "        model_evals[ticker][tuple(feature_set)] = {}\n",
    "        for seq_pred in seq_pred_lengths:\n",
    "            loss = eval_ftr_set(ticker, feature_set, seq_pred[0], seq_pred[1])\n",
    "            model_evals[ticker][tuple(feature_set)][tuple(seq_pred)] = loss\n",
    "\n",
    "            counter += 1\n",
    "            print(f'{counter} out of {total} - mse: {loss}')"
   ],
   "metadata": {
    "collapsed": false,
    "pycharm": {
     "name": "#%%\n"
    }
   }
  },
  {
   "cell_type": "markdown",
   "source": [
    "Display the results"
   ],
   "metadata": {
    "collapsed": false,
    "pycharm": {
     "name": "#%% md\n"
    }
   }
  },
  {
   "cell_type": "code",
   "execution_count": 135,
   "outputs": [],
   "source": [
    "import numpy as np"
   ],
   "metadata": {
    "collapsed": false,
    "pycharm": {
     "name": "#%%\n"
    }
   }
  },
  {
   "cell_type": "code",
   "execution_count": 139,
   "outputs": [],
   "source": [
    "features = [\n",
    "    'price',\n",
    "    'price + return',\n",
    "    'price + ma_10',\n",
    "    'price + ma_30',\n",
    "    'price + ma_60',\n",
    "    'price + return + ma_10',\n",
    "    'price + general_sum',\n",
    "    'price + general_mean',\n",
    "    'price + general_count',\n",
    "    'price + company_sum',\n",
    "    'price + company_mean',\n",
    "    'price + company_count',\n",
    "    'price + gen_com_mean',\n",
    "    'price + general_sum + company_sum',\n",
    "    'price + general_mean + company_mean',\n",
    "    'price + general_count + company_count',\n",
    "    'price + return + general_mean',\n",
    "    'price + return + gen_com_mean'\n",
    "]"
   ],
   "metadata": {
    "collapsed": false,
    "pycharm": {
     "name": "#%%\n"
    }
   }
  },
  {
   "cell_type": "code",
   "execution_count": 224,
   "outputs": [],
   "source": [
    "rows = []\n",
    "\n",
    "for ftr_set in feature_sets:\n",
    "    row = []\n",
    "    for pred_len in [27, 54, 81]:\n",
    "        for ticker in tickers:\n",
    "            row.append(round(model_evals[ticker][tuple(ftr_set)][tuple([27, pred_len])], 3))\n",
    "    rows.append(row)\n",
    "\n",
    "rows = np.array(rows)"
   ],
   "metadata": {
    "collapsed": false,
    "pycharm": {
     "name": "#%%\n"
    }
   }
  },
  {
   "cell_type": "code",
   "execution_count": null,
   "outputs": [],
   "source": [
    "res27 = pd.DataFrame(data=rows[:, :6], index=features)\n",
    "res27.columns = list(tickers)\n",
    "\n",
    "mins27 = res27.min(numeric_only=True)\n",
    "best27 = res27.apply(lambda row: (row.eq(mins27).values == True).sum(), axis=1)\n",
    "\n",
    "res27['Average'] = res27.mean(numeric_only=True, axis=1).round(3)\n",
    "res27['Best'] = best27"
   ],
   "metadata": {
    "collapsed": false,
    "pycharm": {
     "name": "#%%\n",
     "is_executing": true
    }
   }
  },
  {
   "cell_type": "code",
   "execution_count": null,
   "outputs": [],
   "source": [
    "res54 = pd.DataFrame(data=rows[:, 6:12], index=features)\n",
    "res54.columns = list(tickers)\n",
    "\n",
    "mins54 = res54.min(numeric_only=True)\n",
    "best54 = res54.apply(lambda row: (row.eq(mins54).values == True).sum(), axis=1)\n",
    "\n",
    "res54['Average'] = res54.mean(numeric_only=True, axis=1).round(3)\n",
    "res54['Best'] = best54"
   ],
   "metadata": {
    "collapsed": false,
    "pycharm": {
     "name": "#%%\n"
    }
   }
  },
  {
   "cell_type": "code",
   "execution_count": null,
   "outputs": [],
   "source": [
    "res81 = pd.DataFrame(data=rows[:, 12:], index=features)\n",
    "res81.columns = list(tickers)\n",
    "\n",
    "mins81 = res81.min(numeric_only=True)\n",
    "best81 = res81.apply(lambda row: (row.eq(mins81).values == True).sum(), axis=1)\n",
    "\n",
    "res81['Average'] = res81.mean(numeric_only=True, axis=1).round(3)\n",
    "res81['Best'] = best81"
   ],
   "metadata": {
    "collapsed": false,
    "pycharm": {
     "name": "#%%\n"
    }
   }
  },
  {
   "cell_type": "code",
   "execution_count": 52,
   "outputs": [],
   "source": [
    "res27 = pd.read_csv('res27.csv', index_col=0)\n",
    "res54 = pd.read_csv('res54.csv', index_col=0)\n",
    "res81 = pd.read_csv('res81.csv', index_col=0)"
   ],
   "metadata": {
    "collapsed": false,
    "pycharm": {
     "name": "#%%\n"
    }
   }
  },
  {
   "cell_type": "code",
   "execution_count": 53,
   "outputs": [
    {
     "data": {
      "text/plain": "                                        META   AAPL  GOOGL   NFLX   AMZN  \\\nprice + return + general_mean          0.286  0.316  0.349  0.774  0.323   \nprice + return + gen_com_mean          0.295  0.422  0.382  0.714  0.356   \nprice + return                         0.280  0.420  0.385  0.719  0.348   \nprice + general_sum                    0.381  0.335  0.390  0.728  0.255   \nprice                                  0.218  0.587  0.403  0.597  0.337   \nprice + return + ma_10                 0.315  0.418  0.454  0.703  0.334   \nprice + general_count                  0.402  0.336  0.394  0.753  0.273   \nprice + ma_10                          0.254  0.643  0.475  0.597  0.366   \nprice + gen_com_mean                   0.360  0.935  0.499  0.629  0.219   \nprice + general_count + company_count  0.367  0.275  0.450  1.140  0.403   \nprice + general_mean + company_mean    0.338  0.459  0.639  0.713  0.442   \nprice + ma_30                          0.294  0.773  0.551  0.724  0.464   \nprice + general_sum + company_sum      0.383  0.306  0.490  1.202  0.366   \nprice + company_mean                   0.321  0.584  0.747  0.802  0.275   \nprice + ma_60                          0.395  0.841  0.595  0.797  0.453   \nprice + general_mean                   0.417  0.724  0.505  0.814  0.423   \nprice + company_count                  0.539  0.405  0.850  0.966  0.519   \nprice + company_sum                    0.585  0.325  0.816  1.316  0.487   \n\n                                       ^GSPC  Average  Best  \nprice + return + general_mean          0.326    0.396     1  \nprice + return + gen_com_mean          0.266    0.406     0  \nprice + return                         0.307    0.410     0  \nprice + general_sum                    0.379    0.411     0  \nprice                                  0.346    0.415     2  \nprice + return + ma_10                 0.275    0.416     0  \nprice + general_count                  0.382    0.423     0  \nprice + ma_10                          0.334    0.445     1  \nprice + gen_com_mean                   0.306    0.491     1  \nprice + general_count + company_count  0.404    0.506     1  \nprice + general_mean + company_mean    0.476    0.511     0  \nprice + ma_30                          0.263    0.512     1  \nprice + general_sum + company_sum      0.349    0.516     0  \nprice + company_mean                   0.465    0.532     0  \nprice + ma_60                          0.278    0.560     0  \nprice + general_mean                   0.543    0.571     0  \nprice + company_count                  0.358    0.606     0  \nprice + company_sum                    0.392    0.653     0  ",
      "text/html": "<div>\n<style scoped>\n    .dataframe tbody tr th:only-of-type {\n        vertical-align: middle;\n    }\n\n    .dataframe tbody tr th {\n        vertical-align: top;\n    }\n\n    .dataframe thead th {\n        text-align: right;\n    }\n</style>\n<table border=\"1\" class=\"dataframe\">\n  <thead>\n    <tr style=\"text-align: right;\">\n      <th></th>\n      <th>META</th>\n      <th>AAPL</th>\n      <th>GOOGL</th>\n      <th>NFLX</th>\n      <th>AMZN</th>\n      <th>^GSPC</th>\n      <th>Average</th>\n      <th>Best</th>\n    </tr>\n  </thead>\n  <tbody>\n    <tr>\n      <th>price + return + general_mean</th>\n      <td>0.286</td>\n      <td>0.316</td>\n      <td>0.349</td>\n      <td>0.774</td>\n      <td>0.323</td>\n      <td>0.326</td>\n      <td>0.396</td>\n      <td>1</td>\n    </tr>\n    <tr>\n      <th>price + return + gen_com_mean</th>\n      <td>0.295</td>\n      <td>0.422</td>\n      <td>0.382</td>\n      <td>0.714</td>\n      <td>0.356</td>\n      <td>0.266</td>\n      <td>0.406</td>\n      <td>0</td>\n    </tr>\n    <tr>\n      <th>price + return</th>\n      <td>0.280</td>\n      <td>0.420</td>\n      <td>0.385</td>\n      <td>0.719</td>\n      <td>0.348</td>\n      <td>0.307</td>\n      <td>0.410</td>\n      <td>0</td>\n    </tr>\n    <tr>\n      <th>price + general_sum</th>\n      <td>0.381</td>\n      <td>0.335</td>\n      <td>0.390</td>\n      <td>0.728</td>\n      <td>0.255</td>\n      <td>0.379</td>\n      <td>0.411</td>\n      <td>0</td>\n    </tr>\n    <tr>\n      <th>price</th>\n      <td>0.218</td>\n      <td>0.587</td>\n      <td>0.403</td>\n      <td>0.597</td>\n      <td>0.337</td>\n      <td>0.346</td>\n      <td>0.415</td>\n      <td>2</td>\n    </tr>\n    <tr>\n      <th>price + return + ma_10</th>\n      <td>0.315</td>\n      <td>0.418</td>\n      <td>0.454</td>\n      <td>0.703</td>\n      <td>0.334</td>\n      <td>0.275</td>\n      <td>0.416</td>\n      <td>0</td>\n    </tr>\n    <tr>\n      <th>price + general_count</th>\n      <td>0.402</td>\n      <td>0.336</td>\n      <td>0.394</td>\n      <td>0.753</td>\n      <td>0.273</td>\n      <td>0.382</td>\n      <td>0.423</td>\n      <td>0</td>\n    </tr>\n    <tr>\n      <th>price + ma_10</th>\n      <td>0.254</td>\n      <td>0.643</td>\n      <td>0.475</td>\n      <td>0.597</td>\n      <td>0.366</td>\n      <td>0.334</td>\n      <td>0.445</td>\n      <td>1</td>\n    </tr>\n    <tr>\n      <th>price + gen_com_mean</th>\n      <td>0.360</td>\n      <td>0.935</td>\n      <td>0.499</td>\n      <td>0.629</td>\n      <td>0.219</td>\n      <td>0.306</td>\n      <td>0.491</td>\n      <td>1</td>\n    </tr>\n    <tr>\n      <th>price + general_count + company_count</th>\n      <td>0.367</td>\n      <td>0.275</td>\n      <td>0.450</td>\n      <td>1.140</td>\n      <td>0.403</td>\n      <td>0.404</td>\n      <td>0.506</td>\n      <td>1</td>\n    </tr>\n    <tr>\n      <th>price + general_mean + company_mean</th>\n      <td>0.338</td>\n      <td>0.459</td>\n      <td>0.639</td>\n      <td>0.713</td>\n      <td>0.442</td>\n      <td>0.476</td>\n      <td>0.511</td>\n      <td>0</td>\n    </tr>\n    <tr>\n      <th>price + ma_30</th>\n      <td>0.294</td>\n      <td>0.773</td>\n      <td>0.551</td>\n      <td>0.724</td>\n      <td>0.464</td>\n      <td>0.263</td>\n      <td>0.512</td>\n      <td>1</td>\n    </tr>\n    <tr>\n      <th>price + general_sum + company_sum</th>\n      <td>0.383</td>\n      <td>0.306</td>\n      <td>0.490</td>\n      <td>1.202</td>\n      <td>0.366</td>\n      <td>0.349</td>\n      <td>0.516</td>\n      <td>0</td>\n    </tr>\n    <tr>\n      <th>price + company_mean</th>\n      <td>0.321</td>\n      <td>0.584</td>\n      <td>0.747</td>\n      <td>0.802</td>\n      <td>0.275</td>\n      <td>0.465</td>\n      <td>0.532</td>\n      <td>0</td>\n    </tr>\n    <tr>\n      <th>price + ma_60</th>\n      <td>0.395</td>\n      <td>0.841</td>\n      <td>0.595</td>\n      <td>0.797</td>\n      <td>0.453</td>\n      <td>0.278</td>\n      <td>0.560</td>\n      <td>0</td>\n    </tr>\n    <tr>\n      <th>price + general_mean</th>\n      <td>0.417</td>\n      <td>0.724</td>\n      <td>0.505</td>\n      <td>0.814</td>\n      <td>0.423</td>\n      <td>0.543</td>\n      <td>0.571</td>\n      <td>0</td>\n    </tr>\n    <tr>\n      <th>price + company_count</th>\n      <td>0.539</td>\n      <td>0.405</td>\n      <td>0.850</td>\n      <td>0.966</td>\n      <td>0.519</td>\n      <td>0.358</td>\n      <td>0.606</td>\n      <td>0</td>\n    </tr>\n    <tr>\n      <th>price + company_sum</th>\n      <td>0.585</td>\n      <td>0.325</td>\n      <td>0.816</td>\n      <td>1.316</td>\n      <td>0.487</td>\n      <td>0.392</td>\n      <td>0.653</td>\n      <td>0</td>\n    </tr>\n  </tbody>\n</table>\n</div>"
     },
     "execution_count": 53,
     "metadata": {},
     "output_type": "execute_result"
    }
   ],
   "source": [
    "res27.sort_values(by=['Average', 'Best'], ascending=[1, 0])"
   ],
   "metadata": {
    "collapsed": false,
    "pycharm": {
     "name": "#%%\n"
    }
   }
  },
  {
   "cell_type": "code",
   "execution_count": 74,
   "outputs": [
    {
     "data": {
      "text/plain": "                                        META   AAPL  GOOGL   NFLX   AMZN  \\\nprice                                  0.218  0.587  0.403  0.597  0.337   \nprice + return + general_mean          0.286  0.316  0.349  0.774  0.323   \nprice + ma_10                          0.254  0.643  0.475  0.597  0.366   \nprice + gen_com_mean                   0.360  0.935  0.499  0.629  0.219   \nprice + general_count + company_count  0.367  0.275  0.450  1.140  0.403   \nprice + ma_30                          0.294  0.773  0.551  0.724  0.464   \n\n                                       ^GSPC  Average  Best  \nprice                                  0.346    0.415     2  \nprice + return + general_mean          0.326    0.396     1  \nprice + ma_10                          0.334    0.445     1  \nprice + gen_com_mean                   0.306    0.491     1  \nprice + general_count + company_count  0.404    0.506     1  \nprice + ma_30                          0.263    0.512     1  ",
      "text/html": "<div>\n<style scoped>\n    .dataframe tbody tr th:only-of-type {\n        vertical-align: middle;\n    }\n\n    .dataframe tbody tr th {\n        vertical-align: top;\n    }\n\n    .dataframe thead th {\n        text-align: right;\n    }\n</style>\n<table border=\"1\" class=\"dataframe\">\n  <thead>\n    <tr style=\"text-align: right;\">\n      <th></th>\n      <th>META</th>\n      <th>AAPL</th>\n      <th>GOOGL</th>\n      <th>NFLX</th>\n      <th>AMZN</th>\n      <th>^GSPC</th>\n      <th>Average</th>\n      <th>Best</th>\n    </tr>\n  </thead>\n  <tbody>\n    <tr>\n      <th>price</th>\n      <td>0.218</td>\n      <td>0.587</td>\n      <td>0.403</td>\n      <td>0.597</td>\n      <td>0.337</td>\n      <td>0.346</td>\n      <td>0.415</td>\n      <td>2</td>\n    </tr>\n    <tr>\n      <th>price + return + general_mean</th>\n      <td>0.286</td>\n      <td>0.316</td>\n      <td>0.349</td>\n      <td>0.774</td>\n      <td>0.323</td>\n      <td>0.326</td>\n      <td>0.396</td>\n      <td>1</td>\n    </tr>\n    <tr>\n      <th>price + ma_10</th>\n      <td>0.254</td>\n      <td>0.643</td>\n      <td>0.475</td>\n      <td>0.597</td>\n      <td>0.366</td>\n      <td>0.334</td>\n      <td>0.445</td>\n      <td>1</td>\n    </tr>\n    <tr>\n      <th>price + gen_com_mean</th>\n      <td>0.360</td>\n      <td>0.935</td>\n      <td>0.499</td>\n      <td>0.629</td>\n      <td>0.219</td>\n      <td>0.306</td>\n      <td>0.491</td>\n      <td>1</td>\n    </tr>\n    <tr>\n      <th>price + general_count + company_count</th>\n      <td>0.367</td>\n      <td>0.275</td>\n      <td>0.450</td>\n      <td>1.140</td>\n      <td>0.403</td>\n      <td>0.404</td>\n      <td>0.506</td>\n      <td>1</td>\n    </tr>\n    <tr>\n      <th>price + ma_30</th>\n      <td>0.294</td>\n      <td>0.773</td>\n      <td>0.551</td>\n      <td>0.724</td>\n      <td>0.464</td>\n      <td>0.263</td>\n      <td>0.512</td>\n      <td>1</td>\n    </tr>\n  </tbody>\n</table>\n</div>"
     },
     "execution_count": 74,
     "metadata": {},
     "output_type": "execute_result"
    }
   ],
   "source": [
    "res27.sort_values(by=['Best', 'Average'], ascending=[0, 1]).head(6)"
   ],
   "metadata": {
    "collapsed": false,
    "pycharm": {
     "name": "#%%\n"
    }
   }
  },
  {
   "cell_type": "code",
   "execution_count": 55,
   "outputs": [
    {
     "data": {
      "text/plain": "                                        META   AAPL  GOOGL   NFLX   AMZN  \\\nprice + general_sum                    0.726  0.891  0.783  1.238  0.394   \nprice                                  0.613  1.071  1.113  0.996  0.408   \nprice + return                         0.423  1.230  0.906  1.085  0.640   \nprice + return + gen_com_mean          0.448  1.288  0.674  1.187  0.771   \nprice + general_count                  0.638  1.080  0.891  1.233  0.446   \nprice + ma_10                          0.373  1.504  1.187  1.017  0.475   \nprice + return + general_mean          0.468  1.080  0.592  1.267  0.993   \nprice + return + ma_10                 0.505  1.281  0.866  1.280  0.696   \nprice + gen_com_mean                   0.648  1.637  0.754  1.004  0.471   \nprice + general_mean + company_mean    0.565  1.189  0.858  1.541  0.503   \nprice + ma_30                          0.448  1.577  0.930  1.135  1.214   \nprice + company_mean                   0.424  1.466  0.997  1.129  1.230   \nprice + general_sum + company_sum      0.471  0.989  1.093  1.589  1.334   \nprice + ma_60                          0.544  1.893  1.051  1.203  0.971   \nprice + general_mean                   0.697  1.902  1.076  1.165  0.539   \nprice + company_count                  0.681  1.054  1.875  1.665  1.338   \nprice + general_count + company_count  0.551  1.421  1.239  1.807  2.053   \nprice + company_sum                    0.441  0.906  1.621  2.854  1.477   \n\n                                       ^GSPC  Average  Best  \nprice + general_sum                    0.566    0.766     2  \nprice                                  0.474    0.779     1  \nprice + return                         0.462    0.791     0  \nprice + return + gen_com_mean          0.448    0.803     0  \nprice + general_count                  0.636    0.821     0  \nprice + ma_10                          0.423    0.830     1  \nprice + return + general_mean          0.602    0.834     1  \nprice + return + ma_10                 0.414    0.840     0  \nprice + gen_com_mean                   0.580    0.849     0  \nprice + general_mean + company_mean    0.796    0.909     0  \nprice + ma_30                          0.367    0.945     1  \nprice + company_mean                   0.614    0.977     0  \nprice + general_sum + company_sum      0.452    0.988     0  \nprice + ma_60                          0.375    1.006     0  \nprice + general_mean                   0.697    1.013     0  \nprice + company_count                  0.607    1.203     0  \nprice + general_count + company_count  0.574    1.274     0  \nprice + company_sum                    0.537    1.306     0  ",
      "text/html": "<div>\n<style scoped>\n    .dataframe tbody tr th:only-of-type {\n        vertical-align: middle;\n    }\n\n    .dataframe tbody tr th {\n        vertical-align: top;\n    }\n\n    .dataframe thead th {\n        text-align: right;\n    }\n</style>\n<table border=\"1\" class=\"dataframe\">\n  <thead>\n    <tr style=\"text-align: right;\">\n      <th></th>\n      <th>META</th>\n      <th>AAPL</th>\n      <th>GOOGL</th>\n      <th>NFLX</th>\n      <th>AMZN</th>\n      <th>^GSPC</th>\n      <th>Average</th>\n      <th>Best</th>\n    </tr>\n  </thead>\n  <tbody>\n    <tr>\n      <th>price + general_sum</th>\n      <td>0.726</td>\n      <td>0.891</td>\n      <td>0.783</td>\n      <td>1.238</td>\n      <td>0.394</td>\n      <td>0.566</td>\n      <td>0.766</td>\n      <td>2</td>\n    </tr>\n    <tr>\n      <th>price</th>\n      <td>0.613</td>\n      <td>1.071</td>\n      <td>1.113</td>\n      <td>0.996</td>\n      <td>0.408</td>\n      <td>0.474</td>\n      <td>0.779</td>\n      <td>1</td>\n    </tr>\n    <tr>\n      <th>price + return</th>\n      <td>0.423</td>\n      <td>1.230</td>\n      <td>0.906</td>\n      <td>1.085</td>\n      <td>0.640</td>\n      <td>0.462</td>\n      <td>0.791</td>\n      <td>0</td>\n    </tr>\n    <tr>\n      <th>price + return + gen_com_mean</th>\n      <td>0.448</td>\n      <td>1.288</td>\n      <td>0.674</td>\n      <td>1.187</td>\n      <td>0.771</td>\n      <td>0.448</td>\n      <td>0.803</td>\n      <td>0</td>\n    </tr>\n    <tr>\n      <th>price + general_count</th>\n      <td>0.638</td>\n      <td>1.080</td>\n      <td>0.891</td>\n      <td>1.233</td>\n      <td>0.446</td>\n      <td>0.636</td>\n      <td>0.821</td>\n      <td>0</td>\n    </tr>\n    <tr>\n      <th>price + ma_10</th>\n      <td>0.373</td>\n      <td>1.504</td>\n      <td>1.187</td>\n      <td>1.017</td>\n      <td>0.475</td>\n      <td>0.423</td>\n      <td>0.830</td>\n      <td>1</td>\n    </tr>\n    <tr>\n      <th>price + return + general_mean</th>\n      <td>0.468</td>\n      <td>1.080</td>\n      <td>0.592</td>\n      <td>1.267</td>\n      <td>0.993</td>\n      <td>0.602</td>\n      <td>0.834</td>\n      <td>1</td>\n    </tr>\n    <tr>\n      <th>price + return + ma_10</th>\n      <td>0.505</td>\n      <td>1.281</td>\n      <td>0.866</td>\n      <td>1.280</td>\n      <td>0.696</td>\n      <td>0.414</td>\n      <td>0.840</td>\n      <td>0</td>\n    </tr>\n    <tr>\n      <th>price + gen_com_mean</th>\n      <td>0.648</td>\n      <td>1.637</td>\n      <td>0.754</td>\n      <td>1.004</td>\n      <td>0.471</td>\n      <td>0.580</td>\n      <td>0.849</td>\n      <td>0</td>\n    </tr>\n    <tr>\n      <th>price + general_mean + company_mean</th>\n      <td>0.565</td>\n      <td>1.189</td>\n      <td>0.858</td>\n      <td>1.541</td>\n      <td>0.503</td>\n      <td>0.796</td>\n      <td>0.909</td>\n      <td>0</td>\n    </tr>\n    <tr>\n      <th>price + ma_30</th>\n      <td>0.448</td>\n      <td>1.577</td>\n      <td>0.930</td>\n      <td>1.135</td>\n      <td>1.214</td>\n      <td>0.367</td>\n      <td>0.945</td>\n      <td>1</td>\n    </tr>\n    <tr>\n      <th>price + company_mean</th>\n      <td>0.424</td>\n      <td>1.466</td>\n      <td>0.997</td>\n      <td>1.129</td>\n      <td>1.230</td>\n      <td>0.614</td>\n      <td>0.977</td>\n      <td>0</td>\n    </tr>\n    <tr>\n      <th>price + general_sum + company_sum</th>\n      <td>0.471</td>\n      <td>0.989</td>\n      <td>1.093</td>\n      <td>1.589</td>\n      <td>1.334</td>\n      <td>0.452</td>\n      <td>0.988</td>\n      <td>0</td>\n    </tr>\n    <tr>\n      <th>price + ma_60</th>\n      <td>0.544</td>\n      <td>1.893</td>\n      <td>1.051</td>\n      <td>1.203</td>\n      <td>0.971</td>\n      <td>0.375</td>\n      <td>1.006</td>\n      <td>0</td>\n    </tr>\n    <tr>\n      <th>price + general_mean</th>\n      <td>0.697</td>\n      <td>1.902</td>\n      <td>1.076</td>\n      <td>1.165</td>\n      <td>0.539</td>\n      <td>0.697</td>\n      <td>1.013</td>\n      <td>0</td>\n    </tr>\n    <tr>\n      <th>price + company_count</th>\n      <td>0.681</td>\n      <td>1.054</td>\n      <td>1.875</td>\n      <td>1.665</td>\n      <td>1.338</td>\n      <td>0.607</td>\n      <td>1.203</td>\n      <td>0</td>\n    </tr>\n    <tr>\n      <th>price + general_count + company_count</th>\n      <td>0.551</td>\n      <td>1.421</td>\n      <td>1.239</td>\n      <td>1.807</td>\n      <td>2.053</td>\n      <td>0.574</td>\n      <td>1.274</td>\n      <td>0</td>\n    </tr>\n    <tr>\n      <th>price + company_sum</th>\n      <td>0.441</td>\n      <td>0.906</td>\n      <td>1.621</td>\n      <td>2.854</td>\n      <td>1.477</td>\n      <td>0.537</td>\n      <td>1.306</td>\n      <td>0</td>\n    </tr>\n  </tbody>\n</table>\n</div>"
     },
     "execution_count": 55,
     "metadata": {},
     "output_type": "execute_result"
    }
   ],
   "source": [
    "res54.sort_values(by=['Average', 'Best'], ascending=[1, 0])"
   ],
   "metadata": {
    "collapsed": false,
    "pycharm": {
     "name": "#%%\n"
    }
   }
  },
  {
   "cell_type": "code",
   "execution_count": 73,
   "outputs": [
    {
     "data": {
      "text/plain": "                                META   AAPL  GOOGL   NFLX   AMZN  ^GSPC  \\\nprice + general_sum            0.726  0.891  0.783  1.238  0.394  0.566   \nprice                          0.613  1.071  1.113  0.996  0.408  0.474   \nprice + ma_10                  0.373  1.504  1.187  1.017  0.475  0.423   \nprice + return + general_mean  0.468  1.080  0.592  1.267  0.993  0.602   \nprice + ma_30                  0.448  1.577  0.930  1.135  1.214  0.367   \n\n                               Average  Best  \nprice + general_sum              0.766     2  \nprice                            0.779     1  \nprice + ma_10                    0.830     1  \nprice + return + general_mean    0.834     1  \nprice + ma_30                    0.945     1  ",
      "text/html": "<div>\n<style scoped>\n    .dataframe tbody tr th:only-of-type {\n        vertical-align: middle;\n    }\n\n    .dataframe tbody tr th {\n        vertical-align: top;\n    }\n\n    .dataframe thead th {\n        text-align: right;\n    }\n</style>\n<table border=\"1\" class=\"dataframe\">\n  <thead>\n    <tr style=\"text-align: right;\">\n      <th></th>\n      <th>META</th>\n      <th>AAPL</th>\n      <th>GOOGL</th>\n      <th>NFLX</th>\n      <th>AMZN</th>\n      <th>^GSPC</th>\n      <th>Average</th>\n      <th>Best</th>\n    </tr>\n  </thead>\n  <tbody>\n    <tr>\n      <th>price + general_sum</th>\n      <td>0.726</td>\n      <td>0.891</td>\n      <td>0.783</td>\n      <td>1.238</td>\n      <td>0.394</td>\n      <td>0.566</td>\n      <td>0.766</td>\n      <td>2</td>\n    </tr>\n    <tr>\n      <th>price</th>\n      <td>0.613</td>\n      <td>1.071</td>\n      <td>1.113</td>\n      <td>0.996</td>\n      <td>0.408</td>\n      <td>0.474</td>\n      <td>0.779</td>\n      <td>1</td>\n    </tr>\n    <tr>\n      <th>price + ma_10</th>\n      <td>0.373</td>\n      <td>1.504</td>\n      <td>1.187</td>\n      <td>1.017</td>\n      <td>0.475</td>\n      <td>0.423</td>\n      <td>0.830</td>\n      <td>1</td>\n    </tr>\n    <tr>\n      <th>price + return + general_mean</th>\n      <td>0.468</td>\n      <td>1.080</td>\n      <td>0.592</td>\n      <td>1.267</td>\n      <td>0.993</td>\n      <td>0.602</td>\n      <td>0.834</td>\n      <td>1</td>\n    </tr>\n    <tr>\n      <th>price + ma_30</th>\n      <td>0.448</td>\n      <td>1.577</td>\n      <td>0.930</td>\n      <td>1.135</td>\n      <td>1.214</td>\n      <td>0.367</td>\n      <td>0.945</td>\n      <td>1</td>\n    </tr>\n  </tbody>\n</table>\n</div>"
     },
     "execution_count": 73,
     "metadata": {},
     "output_type": "execute_result"
    }
   ],
   "source": [
    "res54.sort_values(by=['Best', 'Average'], ascending=[0, 1]).head(5)"
   ],
   "metadata": {
    "collapsed": false,
    "pycharm": {
     "name": "#%%\n"
    }
   }
  },
  {
   "cell_type": "code",
   "execution_count": 57,
   "outputs": [
    {
     "data": {
      "text/plain": "                                        META   AAPL  GOOGL   NFLX   AMZN  \\\nprice + general_mean                   0.806  1.234  0.841  1.250  0.812   \nprice + general_sum                    0.774  1.119  0.719  1.767  0.747   \nprice + general_count                  0.818  1.367  0.745  1.925  0.727   \nprice + gen_com_mean                   0.524  1.647  0.794  1.703  0.941   \nprice + ma_10                          0.650  1.445  1.511  1.220  1.079   \nprice + company_mean                   0.454  1.034  0.679  1.460  2.305   \nprice + ma_30                          0.651  1.569  0.753  1.475  1.629   \nprice + return + ma_10                 0.552  1.391  0.868  1.796  1.479   \nprice + return + gen_com_mean          0.540  1.541  0.886  1.642  1.599   \nprice                                  0.652  1.726  2.177  1.094  0.802   \nprice + return                         0.487  1.504  0.795  1.861  1.904   \nprice + return + general_mean          0.515  1.411  1.006  2.127  1.426   \nprice + general_mean + company_mean    0.611  1.424  0.546  2.161  1.399   \nprice + general_count + company_count  0.584  1.622  1.262  1.753  3.011   \nprice + company_sum                    0.667  1.221  1.582  2.506  2.518   \nprice + general_sum + company_sum      0.631  1.946  1.126  2.089  3.010   \nprice + company_count                  1.043  1.630  1.483  2.313  2.402   \nprice + ma_60                          0.747  1.447  0.979  2.054  4.952   \n\n                                       ^GSPC  Average  Best  \nprice + general_mean                   0.626    0.928     0  \nprice + general_sum                    0.453    0.930     0  \nprice + general_count                  0.486    1.011     1  \nprice + gen_com_mean                   0.511    1.020     0  \nprice + ma_10                          0.458    1.060     0  \nprice + company_mean                   0.598    1.088     2  \nprice + ma_30                          0.493    1.095     0  \nprice + return + ma_10                 0.523    1.102     0  \nprice + return + gen_com_mean          0.595    1.134     0  \nprice                                  0.478    1.155     1  \nprice + return                         0.441    1.165     1  \nprice + return + general_mean          0.730    1.202     0  \nprice + general_mean + company_mean    1.097    1.206     1  \nprice + general_count + company_count  0.528    1.460     0  \nprice + company_sum                    0.518    1.502     0  \nprice + general_sum + company_sum      0.575    1.563     0  \nprice + company_count                  0.526    1.566     0  \nprice + ma_60                          0.460    1.773     0  ",
      "text/html": "<div>\n<style scoped>\n    .dataframe tbody tr th:only-of-type {\n        vertical-align: middle;\n    }\n\n    .dataframe tbody tr th {\n        vertical-align: top;\n    }\n\n    .dataframe thead th {\n        text-align: right;\n    }\n</style>\n<table border=\"1\" class=\"dataframe\">\n  <thead>\n    <tr style=\"text-align: right;\">\n      <th></th>\n      <th>META</th>\n      <th>AAPL</th>\n      <th>GOOGL</th>\n      <th>NFLX</th>\n      <th>AMZN</th>\n      <th>^GSPC</th>\n      <th>Average</th>\n      <th>Best</th>\n    </tr>\n  </thead>\n  <tbody>\n    <tr>\n      <th>price + general_mean</th>\n      <td>0.806</td>\n      <td>1.234</td>\n      <td>0.841</td>\n      <td>1.250</td>\n      <td>0.812</td>\n      <td>0.626</td>\n      <td>0.928</td>\n      <td>0</td>\n    </tr>\n    <tr>\n      <th>price + general_sum</th>\n      <td>0.774</td>\n      <td>1.119</td>\n      <td>0.719</td>\n      <td>1.767</td>\n      <td>0.747</td>\n      <td>0.453</td>\n      <td>0.930</td>\n      <td>0</td>\n    </tr>\n    <tr>\n      <th>price + general_count</th>\n      <td>0.818</td>\n      <td>1.367</td>\n      <td>0.745</td>\n      <td>1.925</td>\n      <td>0.727</td>\n      <td>0.486</td>\n      <td>1.011</td>\n      <td>1</td>\n    </tr>\n    <tr>\n      <th>price + gen_com_mean</th>\n      <td>0.524</td>\n      <td>1.647</td>\n      <td>0.794</td>\n      <td>1.703</td>\n      <td>0.941</td>\n      <td>0.511</td>\n      <td>1.020</td>\n      <td>0</td>\n    </tr>\n    <tr>\n      <th>price + ma_10</th>\n      <td>0.650</td>\n      <td>1.445</td>\n      <td>1.511</td>\n      <td>1.220</td>\n      <td>1.079</td>\n      <td>0.458</td>\n      <td>1.060</td>\n      <td>0</td>\n    </tr>\n    <tr>\n      <th>price + company_mean</th>\n      <td>0.454</td>\n      <td>1.034</td>\n      <td>0.679</td>\n      <td>1.460</td>\n      <td>2.305</td>\n      <td>0.598</td>\n      <td>1.088</td>\n      <td>2</td>\n    </tr>\n    <tr>\n      <th>price + ma_30</th>\n      <td>0.651</td>\n      <td>1.569</td>\n      <td>0.753</td>\n      <td>1.475</td>\n      <td>1.629</td>\n      <td>0.493</td>\n      <td>1.095</td>\n      <td>0</td>\n    </tr>\n    <tr>\n      <th>price + return + ma_10</th>\n      <td>0.552</td>\n      <td>1.391</td>\n      <td>0.868</td>\n      <td>1.796</td>\n      <td>1.479</td>\n      <td>0.523</td>\n      <td>1.102</td>\n      <td>0</td>\n    </tr>\n    <tr>\n      <th>price + return + gen_com_mean</th>\n      <td>0.540</td>\n      <td>1.541</td>\n      <td>0.886</td>\n      <td>1.642</td>\n      <td>1.599</td>\n      <td>0.595</td>\n      <td>1.134</td>\n      <td>0</td>\n    </tr>\n    <tr>\n      <th>price</th>\n      <td>0.652</td>\n      <td>1.726</td>\n      <td>2.177</td>\n      <td>1.094</td>\n      <td>0.802</td>\n      <td>0.478</td>\n      <td>1.155</td>\n      <td>1</td>\n    </tr>\n    <tr>\n      <th>price + return</th>\n      <td>0.487</td>\n      <td>1.504</td>\n      <td>0.795</td>\n      <td>1.861</td>\n      <td>1.904</td>\n      <td>0.441</td>\n      <td>1.165</td>\n      <td>1</td>\n    </tr>\n    <tr>\n      <th>price + return + general_mean</th>\n      <td>0.515</td>\n      <td>1.411</td>\n      <td>1.006</td>\n      <td>2.127</td>\n      <td>1.426</td>\n      <td>0.730</td>\n      <td>1.202</td>\n      <td>0</td>\n    </tr>\n    <tr>\n      <th>price + general_mean + company_mean</th>\n      <td>0.611</td>\n      <td>1.424</td>\n      <td>0.546</td>\n      <td>2.161</td>\n      <td>1.399</td>\n      <td>1.097</td>\n      <td>1.206</td>\n      <td>1</td>\n    </tr>\n    <tr>\n      <th>price + general_count + company_count</th>\n      <td>0.584</td>\n      <td>1.622</td>\n      <td>1.262</td>\n      <td>1.753</td>\n      <td>3.011</td>\n      <td>0.528</td>\n      <td>1.460</td>\n      <td>0</td>\n    </tr>\n    <tr>\n      <th>price + company_sum</th>\n      <td>0.667</td>\n      <td>1.221</td>\n      <td>1.582</td>\n      <td>2.506</td>\n      <td>2.518</td>\n      <td>0.518</td>\n      <td>1.502</td>\n      <td>0</td>\n    </tr>\n    <tr>\n      <th>price + general_sum + company_sum</th>\n      <td>0.631</td>\n      <td>1.946</td>\n      <td>1.126</td>\n      <td>2.089</td>\n      <td>3.010</td>\n      <td>0.575</td>\n      <td>1.563</td>\n      <td>0</td>\n    </tr>\n    <tr>\n      <th>price + company_count</th>\n      <td>1.043</td>\n      <td>1.630</td>\n      <td>1.483</td>\n      <td>2.313</td>\n      <td>2.402</td>\n      <td>0.526</td>\n      <td>1.566</td>\n      <td>0</td>\n    </tr>\n    <tr>\n      <th>price + ma_60</th>\n      <td>0.747</td>\n      <td>1.447</td>\n      <td>0.979</td>\n      <td>2.054</td>\n      <td>4.952</td>\n      <td>0.460</td>\n      <td>1.773</td>\n      <td>0</td>\n    </tr>\n  </tbody>\n</table>\n</div>"
     },
     "execution_count": 57,
     "metadata": {},
     "output_type": "execute_result"
    }
   ],
   "source": [
    "res81.sort_values(by=['Average', 'Best'], ascending=[1, 0])"
   ],
   "metadata": {
    "collapsed": false,
    "pycharm": {
     "name": "#%%\n"
    }
   }
  },
  {
   "cell_type": "code",
   "execution_count": 72,
   "outputs": [
    {
     "data": {
      "text/plain": "                                      META   AAPL  GOOGL   NFLX   AMZN  ^GSPC  \\\nprice + company_mean                 0.454  1.034  0.679  1.460  2.305  0.598   \nprice + general_count                0.818  1.367  0.745  1.925  0.727  0.486   \nprice                                0.652  1.726  2.177  1.094  0.802  0.478   \nprice + return                       0.487  1.504  0.795  1.861  1.904  0.441   \nprice + general_mean + company_mean  0.611  1.424  0.546  2.161  1.399  1.097   \n\n                                     Average  Best  \nprice + company_mean                   1.088     2  \nprice + general_count                  1.011     1  \nprice                                  1.155     1  \nprice + return                         1.165     1  \nprice + general_mean + company_mean    1.206     1  ",
      "text/html": "<div>\n<style scoped>\n    .dataframe tbody tr th:only-of-type {\n        vertical-align: middle;\n    }\n\n    .dataframe tbody tr th {\n        vertical-align: top;\n    }\n\n    .dataframe thead th {\n        text-align: right;\n    }\n</style>\n<table border=\"1\" class=\"dataframe\">\n  <thead>\n    <tr style=\"text-align: right;\">\n      <th></th>\n      <th>META</th>\n      <th>AAPL</th>\n      <th>GOOGL</th>\n      <th>NFLX</th>\n      <th>AMZN</th>\n      <th>^GSPC</th>\n      <th>Average</th>\n      <th>Best</th>\n    </tr>\n  </thead>\n  <tbody>\n    <tr>\n      <th>price + company_mean</th>\n      <td>0.454</td>\n      <td>1.034</td>\n      <td>0.679</td>\n      <td>1.460</td>\n      <td>2.305</td>\n      <td>0.598</td>\n      <td>1.088</td>\n      <td>2</td>\n    </tr>\n    <tr>\n      <th>price + general_count</th>\n      <td>0.818</td>\n      <td>1.367</td>\n      <td>0.745</td>\n      <td>1.925</td>\n      <td>0.727</td>\n      <td>0.486</td>\n      <td>1.011</td>\n      <td>1</td>\n    </tr>\n    <tr>\n      <th>price</th>\n      <td>0.652</td>\n      <td>1.726</td>\n      <td>2.177</td>\n      <td>1.094</td>\n      <td>0.802</td>\n      <td>0.478</td>\n      <td>1.155</td>\n      <td>1</td>\n    </tr>\n    <tr>\n      <th>price + return</th>\n      <td>0.487</td>\n      <td>1.504</td>\n      <td>0.795</td>\n      <td>1.861</td>\n      <td>1.904</td>\n      <td>0.441</td>\n      <td>1.165</td>\n      <td>1</td>\n    </tr>\n    <tr>\n      <th>price + general_mean + company_mean</th>\n      <td>0.611</td>\n      <td>1.424</td>\n      <td>0.546</td>\n      <td>2.161</td>\n      <td>1.399</td>\n      <td>1.097</td>\n      <td>1.206</td>\n      <td>1</td>\n    </tr>\n  </tbody>\n</table>\n</div>"
     },
     "execution_count": 72,
     "metadata": {},
     "output_type": "execute_result"
    }
   ],
   "source": [
    "res81.sort_values(by=['Best', 'Average'], ascending=[0, 1]).head(5)"
   ],
   "metadata": {
    "collapsed": false,
    "pycharm": {
     "name": "#%%\n"
    }
   }
  },
  {
   "cell_type": "markdown",
   "source": [],
   "metadata": {
    "collapsed": false,
    "pycharm": {
     "name": "#%% md\n"
    }
   }
  },
  {
   "cell_type": "code",
   "execution_count": 79,
   "outputs": [],
   "source": [
    "ticker_means = {}\n",
    "\n",
    "for ticker in tickers:\n",
    "    df_con = pd.concat([res27[ticker], res54[ticker], res81[ticker]])\n",
    "    ticker_means[ticker] = df_con.groupby(df_con.index).mean().T"
   ],
   "metadata": {
    "collapsed": false,
    "pycharm": {
     "name": "#%%\n"
    }
   }
  },
  {
   "cell_type": "code",
   "execution_count": 94,
   "outputs": [
    {
     "data": {
      "text/plain": "                                           META      AAPL     GOOGL      NFLX  \\\nprice                                  0.494333  1.128000  1.231000  0.895667   \nprice + company_count                  0.754333  1.029667  1.402667  1.648000   \nprice + company_mean                   0.399667  1.028000  0.807667  1.130333   \nprice + company_sum                    0.564333  0.817333  1.339667  2.225333   \nprice + gen_com_mean                   0.510667  1.406333  0.682333  1.112000   \nprice + general_count                  0.619333  0.927667  0.676667  1.303667   \nprice + general_count + company_count  0.500667  1.106000  0.983667  1.566667   \nprice + general_mean                   0.640000  1.286667  0.807333  1.076333   \nprice + general_mean + company_mean    0.504667  1.024000  0.681000  1.471667   \nprice + general_sum                    0.627000  0.781667  0.630667  1.244333   \nprice + general_sum + company_sum      0.495000  1.080333  0.903000  1.626667   \nprice + ma_10                          0.425667  1.197333  1.057667  0.944667   \nprice + ma_30                          0.464333  1.306333  0.744667  1.111333   \nprice + ma_60                          0.562000  1.393667  0.875000  1.351333   \nprice + return                         0.396667  1.051333  0.695333  1.221667   \nprice + return + gen_com_mean          0.427667  1.083667  0.647333  1.181000   \nprice + return + general_mean          0.423000  0.935667  0.649000  1.389333   \nprice + return + ma_10                 0.457333  1.030000  0.729333  1.259667   \n\n                                           AMZN     ^GSPC  \nprice                                  0.515667  0.432667  \nprice + company_count                  1.419667  0.497000  \nprice + company_mean                   1.270000  0.559000  \nprice + company_sum                    1.494000  0.482333  \nprice + gen_com_mean                   0.543667  0.465667  \nprice + general_count                  0.482000  0.501333  \nprice + general_count + company_count  1.822333  0.502000  \nprice + general_mean                   0.591333  0.622000  \nprice + general_mean + company_mean    0.781333  0.789667  \nprice + general_sum                    0.465333  0.466000  \nprice + general_sum + company_sum      1.570000  0.458667  \nprice + ma_10                          0.640000  0.405000  \nprice + ma_30                          1.102333  0.374333  \nprice + ma_60                          2.125333  0.371000  \nprice + return                         0.964000  0.403333  \nprice + return + gen_com_mean          0.908667  0.436333  \nprice + return + general_mean          0.914000  0.552667  \nprice + return + ma_10                 0.836333  0.404000  ",
      "text/html": "<div>\n<style scoped>\n    .dataframe tbody tr th:only-of-type {\n        vertical-align: middle;\n    }\n\n    .dataframe tbody tr th {\n        vertical-align: top;\n    }\n\n    .dataframe thead th {\n        text-align: right;\n    }\n</style>\n<table border=\"1\" class=\"dataframe\">\n  <thead>\n    <tr style=\"text-align: right;\">\n      <th></th>\n      <th>META</th>\n      <th>AAPL</th>\n      <th>GOOGL</th>\n      <th>NFLX</th>\n      <th>AMZN</th>\n      <th>^GSPC</th>\n    </tr>\n  </thead>\n  <tbody>\n    <tr>\n      <th>price</th>\n      <td>0.494333</td>\n      <td>1.128000</td>\n      <td>1.231000</td>\n      <td>0.895667</td>\n      <td>0.515667</td>\n      <td>0.432667</td>\n    </tr>\n    <tr>\n      <th>price + company_count</th>\n      <td>0.754333</td>\n      <td>1.029667</td>\n      <td>1.402667</td>\n      <td>1.648000</td>\n      <td>1.419667</td>\n      <td>0.497000</td>\n    </tr>\n    <tr>\n      <th>price + company_mean</th>\n      <td>0.399667</td>\n      <td>1.028000</td>\n      <td>0.807667</td>\n      <td>1.130333</td>\n      <td>1.270000</td>\n      <td>0.559000</td>\n    </tr>\n    <tr>\n      <th>price + company_sum</th>\n      <td>0.564333</td>\n      <td>0.817333</td>\n      <td>1.339667</td>\n      <td>2.225333</td>\n      <td>1.494000</td>\n      <td>0.482333</td>\n    </tr>\n    <tr>\n      <th>price + gen_com_mean</th>\n      <td>0.510667</td>\n      <td>1.406333</td>\n      <td>0.682333</td>\n      <td>1.112000</td>\n      <td>0.543667</td>\n      <td>0.465667</td>\n    </tr>\n    <tr>\n      <th>price + general_count</th>\n      <td>0.619333</td>\n      <td>0.927667</td>\n      <td>0.676667</td>\n      <td>1.303667</td>\n      <td>0.482000</td>\n      <td>0.501333</td>\n    </tr>\n    <tr>\n      <th>price + general_count + company_count</th>\n      <td>0.500667</td>\n      <td>1.106000</td>\n      <td>0.983667</td>\n      <td>1.566667</td>\n      <td>1.822333</td>\n      <td>0.502000</td>\n    </tr>\n    <tr>\n      <th>price + general_mean</th>\n      <td>0.640000</td>\n      <td>1.286667</td>\n      <td>0.807333</td>\n      <td>1.076333</td>\n      <td>0.591333</td>\n      <td>0.622000</td>\n    </tr>\n    <tr>\n      <th>price + general_mean + company_mean</th>\n      <td>0.504667</td>\n      <td>1.024000</td>\n      <td>0.681000</td>\n      <td>1.471667</td>\n      <td>0.781333</td>\n      <td>0.789667</td>\n    </tr>\n    <tr>\n      <th>price + general_sum</th>\n      <td>0.627000</td>\n      <td>0.781667</td>\n      <td>0.630667</td>\n      <td>1.244333</td>\n      <td>0.465333</td>\n      <td>0.466000</td>\n    </tr>\n    <tr>\n      <th>price + general_sum + company_sum</th>\n      <td>0.495000</td>\n      <td>1.080333</td>\n      <td>0.903000</td>\n      <td>1.626667</td>\n      <td>1.570000</td>\n      <td>0.458667</td>\n    </tr>\n    <tr>\n      <th>price + ma_10</th>\n      <td>0.425667</td>\n      <td>1.197333</td>\n      <td>1.057667</td>\n      <td>0.944667</td>\n      <td>0.640000</td>\n      <td>0.405000</td>\n    </tr>\n    <tr>\n      <th>price + ma_30</th>\n      <td>0.464333</td>\n      <td>1.306333</td>\n      <td>0.744667</td>\n      <td>1.111333</td>\n      <td>1.102333</td>\n      <td>0.374333</td>\n    </tr>\n    <tr>\n      <th>price + ma_60</th>\n      <td>0.562000</td>\n      <td>1.393667</td>\n      <td>0.875000</td>\n      <td>1.351333</td>\n      <td>2.125333</td>\n      <td>0.371000</td>\n    </tr>\n    <tr>\n      <th>price + return</th>\n      <td>0.396667</td>\n      <td>1.051333</td>\n      <td>0.695333</td>\n      <td>1.221667</td>\n      <td>0.964000</td>\n      <td>0.403333</td>\n    </tr>\n    <tr>\n      <th>price + return + gen_com_mean</th>\n      <td>0.427667</td>\n      <td>1.083667</td>\n      <td>0.647333</td>\n      <td>1.181000</td>\n      <td>0.908667</td>\n      <td>0.436333</td>\n    </tr>\n    <tr>\n      <th>price + return + general_mean</th>\n      <td>0.423000</td>\n      <td>0.935667</td>\n      <td>0.649000</td>\n      <td>1.389333</td>\n      <td>0.914000</td>\n      <td>0.552667</td>\n    </tr>\n    <tr>\n      <th>price + return + ma_10</th>\n      <td>0.457333</td>\n      <td>1.030000</td>\n      <td>0.729333</td>\n      <td>1.259667</td>\n      <td>0.836333</td>\n      <td>0.404000</td>\n    </tr>\n  </tbody>\n</table>\n</div>"
     },
     "execution_count": 94,
     "metadata": {},
     "output_type": "execute_result"
    }
   ],
   "source": [
    "ticker_means = pd.concat(ticker_means.values(), axis=1)\n",
    "ticker_means"
   ],
   "metadata": {
    "collapsed": false,
    "pycharm": {
     "name": "#%%\n"
    }
   }
  },
  {
   "cell_type": "code",
   "execution_count": 85,
   "outputs": [
    {
     "data": {
      "text/plain": "price + return                           0.396667\nprice + company_mean                     0.399667\nprice + return + general_mean            0.423000\nprice + ma_10                            0.425667\nprice + return + gen_com_mean            0.427667\nprice + return + ma_10                   0.457333\nprice + ma_30                            0.464333\nprice                                    0.494333\nprice + general_sum + company_sum        0.495000\nprice + general_count + company_count    0.500667\nprice + general_mean + company_mean      0.504667\nprice + gen_com_mean                     0.510667\nprice + ma_60                            0.562000\nprice + company_sum                      0.564333\nprice + general_count                    0.619333\nprice + general_sum                      0.627000\nprice + general_mean                     0.640000\nprice + company_count                    0.754333\nName: META, dtype: float64"
     },
     "execution_count": 85,
     "metadata": {},
     "output_type": "execute_result"
    }
   ],
   "source": [
    "ticker_means['META'].sort_values()"
   ],
   "metadata": {
    "collapsed": false,
    "pycharm": {
     "name": "#%%\n"
    }
   }
  },
  {
   "cell_type": "code",
   "execution_count": 87,
   "outputs": [
    {
     "data": {
      "text/plain": "price + general_sum                      0.781667\nprice + company_sum                      0.817333\nprice + general_count                    0.927667\nprice + return + general_mean            0.935667\nprice + general_mean + company_mean      1.024000\nprice + company_mean                     1.028000\nprice + company_count                    1.029667\nprice + return + ma_10                   1.030000\nprice + return                           1.051333\nprice + general_sum + company_sum        1.080333\nprice + return + gen_com_mean            1.083667\nprice + general_count + company_count    1.106000\nprice                                    1.128000\nprice + ma_10                            1.197333\nprice + general_mean                     1.286667\nprice + ma_30                            1.306333\nprice + ma_60                            1.393667\nprice + gen_com_mean                     1.406333\nName: AAPL, dtype: float64"
     },
     "execution_count": 87,
     "metadata": {},
     "output_type": "execute_result"
    }
   ],
   "source": [
    "ticker_means['AAPL'].sort_values()"
   ],
   "metadata": {
    "collapsed": false,
    "pycharm": {
     "name": "#%%\n"
    }
   }
  },
  {
   "cell_type": "code",
   "execution_count": 88,
   "outputs": [
    {
     "data": {
      "text/plain": "price + general_sum                      0.630667\nprice + return + gen_com_mean            0.647333\nprice + return + general_mean            0.649000\nprice + general_count                    0.676667\nprice + general_mean + company_mean      0.681000\nprice + gen_com_mean                     0.682333\nprice + return                           0.695333\nprice + return + ma_10                   0.729333\nprice + ma_30                            0.744667\nprice + general_mean                     0.807333\nprice + company_mean                     0.807667\nprice + ma_60                            0.875000\nprice + general_sum + company_sum        0.903000\nprice + general_count + company_count    0.983667\nprice + ma_10                            1.057667\nprice                                    1.231000\nprice + company_sum                      1.339667\nprice + company_count                    1.402667\nName: GOOGL, dtype: float64"
     },
     "execution_count": 88,
     "metadata": {},
     "output_type": "execute_result"
    }
   ],
   "source": [
    "ticker_means['GOOGL'].sort_values()"
   ],
   "metadata": {
    "collapsed": false,
    "pycharm": {
     "name": "#%%\n"
    }
   }
  },
  {
   "cell_type": "code",
   "execution_count": 90,
   "outputs": [
    {
     "data": {
      "text/plain": "price                                    0.895667\nprice + ma_10                            0.944667\nprice + general_mean                     1.076333\nprice + ma_30                            1.111333\nprice + gen_com_mean                     1.112000\nprice + company_mean                     1.130333\nprice + return + gen_com_mean            1.181000\nprice + return                           1.221667\nprice + general_sum                      1.244333\nprice + return + ma_10                   1.259667\nprice + general_count                    1.303667\nprice + ma_60                            1.351333\nprice + return + general_mean            1.389333\nprice + general_mean + company_mean      1.471667\nprice + general_count + company_count    1.566667\nprice + general_sum + company_sum        1.626667\nprice + company_count                    1.648000\nprice + company_sum                      2.225333\nName: NFLX, dtype: float64"
     },
     "execution_count": 90,
     "metadata": {},
     "output_type": "execute_result"
    }
   ],
   "source": [
    "ticker_means['NFLX'].sort_values()"
   ],
   "metadata": {
    "collapsed": false,
    "pycharm": {
     "name": "#%%\n"
    }
   }
  },
  {
   "cell_type": "code",
   "execution_count": 91,
   "outputs": [
    {
     "data": {
      "text/plain": "price + general_sum                      0.465333\nprice + general_count                    0.482000\nprice                                    0.515667\nprice + gen_com_mean                     0.543667\nprice + general_mean                     0.591333\nprice + ma_10                            0.640000\nprice + general_mean + company_mean      0.781333\nprice + return + ma_10                   0.836333\nprice + return + gen_com_mean            0.908667\nprice + return + general_mean            0.914000\nprice + return                           0.964000\nprice + ma_30                            1.102333\nprice + company_mean                     1.270000\nprice + company_count                    1.419667\nprice + company_sum                      1.494000\nprice + general_sum + company_sum        1.570000\nprice + general_count + company_count    1.822333\nprice + ma_60                            2.125333\nName: AMZN, dtype: float64"
     },
     "execution_count": 91,
     "metadata": {},
     "output_type": "execute_result"
    }
   ],
   "source": [
    "ticker_means['AMZN'].sort_values()"
   ],
   "metadata": {
    "collapsed": false,
    "pycharm": {
     "name": "#%%\n"
    }
   }
  },
  {
   "cell_type": "code",
   "execution_count": 92,
   "outputs": [
    {
     "data": {
      "text/plain": "price + ma_60                            0.371000\nprice + ma_30                            0.374333\nprice + return                           0.403333\nprice + return + ma_10                   0.404000\nprice + ma_10                            0.405000\nprice                                    0.432667\nprice + return + gen_com_mean            0.436333\nprice + general_sum + company_sum        0.458667\nprice + gen_com_mean                     0.465667\nprice + general_sum                      0.466000\nprice + company_sum                      0.482333\nprice + company_count                    0.497000\nprice + general_count                    0.501333\nprice + general_count + company_count    0.502000\nprice + return + general_mean            0.552667\nprice + company_mean                     0.559000\nprice + general_mean                     0.622000\nprice + general_mean + company_mean      0.789667\nName: ^GSPC, dtype: float64"
     },
     "execution_count": 92,
     "metadata": {},
     "output_type": "execute_result"
    }
   ],
   "source": [
    "ticker_means['^GSPC'].sort_values()"
   ],
   "metadata": {
    "collapsed": false,
    "pycharm": {
     "name": "#%%\n"
    }
   }
  },
  {
   "cell_type": "code",
   "execution_count": 238,
   "outputs": [],
   "source": [
    "res27.to_csv('res27.csv')\n",
    "res54.to_csv('res54.csv')\n",
    "res81.to_csv('res81.csv')"
   ],
   "metadata": {
    "collapsed": false,
    "pycharm": {
     "name": "#%%\n"
    }
   }
  },
  {
   "cell_type": "code",
   "execution_count": null,
   "outputs": [],
   "source": [
    "# for row in res81.sort_values(by=['Average', 'Best'], ascending=[1, 0]).values.tolist():\n",
    "#     print(' & '.join(['%.3f' % e for e in row ]))"
   ],
   "metadata": {
    "collapsed": false,
    "pycharm": {
     "name": "#%%\n",
     "is_executing": true
    }
   }
  }
 ],
 "metadata": {
  "kernelspec": {
   "display_name": "Python 3",
   "language": "python",
   "name": "python3"
  },
  "language_info": {
   "codemirror_mode": {
    "name": "ipython",
    "version": 2
   },
   "file_extension": ".py",
   "mimetype": "text/x-python",
   "name": "python",
   "nbconvert_exporter": "python",
   "pygments_lexer": "ipython2",
   "version": "2.7.6"
  }
 },
 "nbformat": 4,
 "nbformat_minor": 0
}